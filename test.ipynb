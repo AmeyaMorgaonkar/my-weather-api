{
 "cells": [
  {
   "cell_type": "markdown",
   "id": "f89a884e",
   "metadata": {},
   "source": [
    "# Read the Data from files\n",
    "\n",
    "Importing pandas and creating a dataframe with these files  \n",
    "Also show certain rows\n"
   ]
  },
  {
   "cell_type": "code",
   "execution_count": 8,
   "id": "38441d1d",
   "metadata": {},
   "outputs": [],
   "source": [
    "import pandas as pd"
   ]
  },
  {
   "cell_type": "code",
   "execution_count": 21,
   "id": "c6ebbe56",
   "metadata": {
    "scrolled": true
   },
   "outputs": [
    {
     "data": {
      "text/plain": [
       "6.360787526128467"
      ]
     },
     "execution_count": 21,
     "metadata": {},
     "output_type": "execute_result"
    }
   ],
   "source": [
    "df = pd.read_csv('data_small/TG_STAID000001.txt', skiprows=20, parse_dates=[\"    DATE\"])\n",
    "\n",
    "df.loc[df['   TG'] != -9999]['   TG'].mean()/10"
   ]
  },
  {
   "cell_type": "code",
   "execution_count": 22,
   "id": "07c6bbae",
   "metadata": {},
   "outputs": [
    {
     "data": {
      "text/plain": [
       "<AxesSubplot:>"
      ]
     },
     "execution_count": 22,
     "metadata": {},
     "output_type": "execute_result"
    },
    {
     "data": {
      "image/png": "[encoded data removed]",
      "text/plain": [
       "<Figure size 432x288 with 1 Axes>"
      ]
     },
     "metadata": {
      "needs_background": "light"
     },
     "output_type": "display_data"
    }
   ],
   "source": [
    "df.loc[df['   TG'] != -9999]['   TG'].hist()"
   ]
  },
  {
   "cell_type": "code",
   "execution_count": 28,
   "id": "4e025087",
   "metadata": {},
   "outputs": [
    {
     "data": {
      "text/plain": [
       "-39"
      ]
     },
     "execution_count": 28,
     "metadata": {},
     "output_type": "execute_result"
    }
   ],
   "source": [
    "df.loc[df['    DATE'] == '1988-10-25']['   TG'].squeeze()"
   ]
  },
  {
   "cell_type": "markdown",
   "id": "3e76edd2",
   "metadata": {},
   "source": [
    "# Showing the Data Frame"
   ]
  },
  {
   "cell_type": "markdown",
   "id": "29b9018b",
   "metadata": {},
   "source": [
    "### Print the Dataframe\n",
    "Print entire dataframe"
   ]
  },
  {
   "cell_type": "code",
   "execution_count": 11,
   "id": "1ecb207a",
   "metadata": {
    "scrolled": false
   },
   "outputs": [
    {
     "data": {
      "text/html": [
       "<div>\n",
       "<style scoped>\n",
       "    .dataframe tbody tr th:only-of-type {\n",
       "        vertical-align: middle;\n",
       "    }\n",
       "\n",
       "    .dataframe tbody tr th {\n",
       "        vertical-align: top;\n",
       "    }\n",
       "\n",
       "    .dataframe thead th {\n",
       "        text-align: right;\n",
       "    }\n",
       "</style>\n",
       "<table border=\"1\" class=\"dataframe\">\n",
       "  <thead>\n",
       "    <tr style=\"text-align: right;\">\n",
       "      <th></th>\n",
       "      <th>STAID</th>\n",
       "      <th>SOUID</th>\n",
       "      <th>DATE</th>\n",
       "      <th>TG</th>\n",
       "      <th>Q_TG</th>\n",
       "    </tr>\n",
       "  </thead>\n",
       "  <tbody>\n",
       "    <tr>\n",
       "      <th>0</th>\n",
       "      <td>1</td>\n",
       "      <td>35381</td>\n",
       "      <td>1860-01-01</td>\n",
       "      <td>21</td>\n",
       "      <td>0</td>\n",
       "    </tr>\n",
       "    <tr>\n",
       "      <th>1</th>\n",
       "      <td>1</td>\n",
       "      <td>35381</td>\n",
       "      <td>1860-01-02</td>\n",
       "      <td>46</td>\n",
       "      <td>0</td>\n",
       "    </tr>\n",
       "    <tr>\n",
       "      <th>2</th>\n",
       "      <td>1</td>\n",
       "      <td>35381</td>\n",
       "      <td>1860-01-03</td>\n",
       "      <td>31</td>\n",
       "      <td>0</td>\n",
       "    </tr>\n",
       "    <tr>\n",
       "      <th>3</th>\n",
       "      <td>1</td>\n",
       "      <td>35381</td>\n",
       "      <td>1860-01-04</td>\n",
       "      <td>37</td>\n",
       "      <td>0</td>\n",
       "    </tr>\n",
       "    <tr>\n",
       "      <th>4</th>\n",
       "      <td>1</td>\n",
       "      <td>35381</td>\n",
       "      <td>1860-01-05</td>\n",
       "      <td>31</td>\n",
       "      <td>0</td>\n",
       "    </tr>\n",
       "    <tr>\n",
       "      <th>...</th>\n",
       "      <td>...</td>\n",
       "      <td>...</td>\n",
       "      <td>...</td>\n",
       "      <td>...</td>\n",
       "      <td>...</td>\n",
       "    </tr>\n",
       "    <tr>\n",
       "      <th>59316</th>\n",
       "      <td>1</td>\n",
       "      <td>35381</td>\n",
       "      <td>2022-05-27</td>\n",
       "      <td>-9999</td>\n",
       "      <td>9</td>\n",
       "    </tr>\n",
       "    <tr>\n",
       "      <th>59317</th>\n",
       "      <td>1</td>\n",
       "      <td>35381</td>\n",
       "      <td>2022-05-28</td>\n",
       "      <td>-9999</td>\n",
       "      <td>9</td>\n",
       "    </tr>\n",
       "    <tr>\n",
       "      <th>59318</th>\n",
       "      <td>1</td>\n",
       "      <td>35381</td>\n",
       "      <td>2022-05-29</td>\n",
       "      <td>-9999</td>\n",
       "      <td>9</td>\n",
       "    </tr>\n",
       "    <tr>\n",
       "      <th>59319</th>\n",
       "      <td>1</td>\n",
       "      <td>35381</td>\n",
       "      <td>2022-05-30</td>\n",
       "      <td>-9999</td>\n",
       "      <td>9</td>\n",
       "    </tr>\n",
       "    <tr>\n",
       "      <th>59320</th>\n",
       "      <td>1</td>\n",
       "      <td>35381</td>\n",
       "      <td>2022-05-31</td>\n",
       "      <td>-9999</td>\n",
       "      <td>9</td>\n",
       "    </tr>\n",
       "  </tbody>\n",
       "</table>\n",
       "<p>59321 rows × 5 columns</p>\n",
       "</div>"
      ],
      "text/plain": [
       "       STAID   SOUID       DATE     TG   Q_TG\n",
       "0          1   35381 1860-01-01     21      0\n",
       "1          1   35381 1860-01-02     46      0\n",
       "2          1   35381 1860-01-03     31      0\n",
       "3          1   35381 1860-01-04     37      0\n",
       "4          1   35381 1860-01-05     31      0\n",
       "...      ...     ...        ...    ...    ...\n",
       "59316      1   35381 2022-05-27  -9999      9\n",
       "59317      1   35381 2022-05-28  -9999      9\n",
       "59318      1   35381 2022-05-29  -9999      9\n",
       "59319      1   35381 2022-05-30  -9999      9\n",
       "59320      1   35381 2022-05-31  -9999      9\n",
       "\n",
       "[59321 rows x 5 columns]"
      ]
     },
     "execution_count": 11,
     "metadata": {},
     "output_type": "execute_result"
    }
   ],
   "source": [
    "df"
   ]
  },
  {
   "cell_type": "markdown",
   "id": "0298cd61",
   "metadata": {},
   "source": [
    "### Indexing of Rows\n",
    "Show rows from one specific index to another"
   ]
  },
  {
   "cell_type": "code",
   "execution_count": 9,
   "id": "42cfcc14",
   "metadata": {
    "scrolled": true
   },
   "outputs": [
    {
     "data": {
      "text/html": [
       "<div>\n",
       "<style scoped>\n",
       "    .dataframe tbody tr th:only-of-type {\n",
       "        vertical-align: middle;\n",
       "    }\n",
       "\n",
       "    .dataframe tbody tr th {\n",
       "        vertical-align: top;\n",
       "    }\n",
       "\n",
       "    .dataframe thead th {\n",
       "        text-align: right;\n",
       "    }\n",
       "</style>\n",
       "<table border=\"1\" class=\"dataframe\">\n",
       "  <thead>\n",
       "    <tr style=\"text-align: right;\">\n",
       "      <th></th>\n",
       "      <th>STAID</th>\n",
       "      <th>SOUID</th>\n",
       "      <th>DATE</th>\n",
       "      <th>TG</th>\n",
       "      <th>Q_TG</th>\n",
       "    </tr>\n",
       "  </thead>\n",
       "  <tbody>\n",
       "    <tr>\n",
       "      <th>10</th>\n",
       "      <td>1</td>\n",
       "      <td>35381</td>\n",
       "      <td>1860-01-11</td>\n",
       "      <td>-5</td>\n",
       "      <td>0</td>\n",
       "    </tr>\n",
       "    <tr>\n",
       "      <th>11</th>\n",
       "      <td>1</td>\n",
       "      <td>35381</td>\n",
       "      <td>1860-01-12</td>\n",
       "      <td>-18</td>\n",
       "      <td>0</td>\n",
       "    </tr>\n",
       "    <tr>\n",
       "      <th>12</th>\n",
       "      <td>1</td>\n",
       "      <td>35381</td>\n",
       "      <td>1860-01-13</td>\n",
       "      <td>-27</td>\n",
       "      <td>0</td>\n",
       "    </tr>\n",
       "    <tr>\n",
       "      <th>13</th>\n",
       "      <td>1</td>\n",
       "      <td>35381</td>\n",
       "      <td>1860-01-14</td>\n",
       "      <td>-26</td>\n",
       "      <td>0</td>\n",
       "    </tr>\n",
       "    <tr>\n",
       "      <th>14</th>\n",
       "      <td>1</td>\n",
       "      <td>35381</td>\n",
       "      <td>1860-01-15</td>\n",
       "      <td>-37</td>\n",
       "      <td>0</td>\n",
       "    </tr>\n",
       "    <tr>\n",
       "      <th>15</th>\n",
       "      <td>1</td>\n",
       "      <td>35381</td>\n",
       "      <td>1860-01-16</td>\n",
       "      <td>-9</td>\n",
       "      <td>0</td>\n",
       "    </tr>\n",
       "    <tr>\n",
       "      <th>16</th>\n",
       "      <td>1</td>\n",
       "      <td>35381</td>\n",
       "      <td>1860-01-17</td>\n",
       "      <td>7</td>\n",
       "      <td>0</td>\n",
       "    </tr>\n",
       "    <tr>\n",
       "      <th>17</th>\n",
       "      <td>1</td>\n",
       "      <td>35381</td>\n",
       "      <td>1860-01-18</td>\n",
       "      <td>-6</td>\n",
       "      <td>0</td>\n",
       "    </tr>\n",
       "    <tr>\n",
       "      <th>18</th>\n",
       "      <td>1</td>\n",
       "      <td>35381</td>\n",
       "      <td>1860-01-19</td>\n",
       "      <td>-16</td>\n",
       "      <td>0</td>\n",
       "    </tr>\n",
       "    <tr>\n",
       "      <th>19</th>\n",
       "      <td>1</td>\n",
       "      <td>35381</td>\n",
       "      <td>1860-01-20</td>\n",
       "      <td>-19</td>\n",
       "      <td>0</td>\n",
       "    </tr>\n",
       "  </tbody>\n",
       "</table>\n",
       "</div>"
      ],
      "text/plain": [
       "    STAID   SOUID       DATE     TG   Q_TG\n",
       "10      1   35381 1860-01-11     -5      0\n",
       "11      1   35381 1860-01-12    -18      0\n",
       "12      1   35381 1860-01-13    -27      0\n",
       "13      1   35381 1860-01-14    -26      0\n",
       "14      1   35381 1860-01-15    -37      0\n",
       "15      1   35381 1860-01-16     -9      0\n",
       "16      1   35381 1860-01-17      7      0\n",
       "17      1   35381 1860-01-18     -6      0\n",
       "18      1   35381 1860-01-19    -16      0\n",
       "19      1   35381 1860-01-20    -19      0"
      ]
     },
     "execution_count": 9,
     "metadata": {},
     "output_type": "execute_result"
    }
   ],
   "source": [
    "df[10:20]"
   ]
  },
  {
   "cell_type": "markdown",
   "id": "abf0ae00",
   "metadata": {},
   "source": [
    "### Showing all the Columns\n",
    "Shows the names of all the columns present"
   ]
  },
  {
   "cell_type": "code",
   "execution_count": 16,
   "id": "b5ae9746",
   "metadata": {},
   "outputs": [
    {
     "data": {
      "text/plain": [
       "Index(['STAID', ' SOUID', '    DATE', '   TG', ' Q_TG'], dtype='object')"
      ]
     },
     "execution_count": 16,
     "metadata": {},
     "output_type": "execute_result"
    }
   ],
   "source": [
    "df.columns"
   ]
  },
  {
   "cell_type": "markdown",
   "id": "895b5ed6",
   "metadata": {},
   "source": [
    "### Indexing of Columns\n",
    "Show columns from one specific row index to another"
   ]
  },
  {
   "cell_type": "code",
   "execution_count": 15,
   "id": "6a7ac465",
   "metadata": {
    "scrolled": true
   },
   "outputs": [
    {
     "data": {
      "text/plain": [
       "20   -11\n",
       "21    -1\n",
       "22     2\n",
       "23     7\n",
       "24    10\n",
       "25     5\n",
       "26   -21\n",
       "27   -10\n",
       "28   -25\n",
       "29     5\n",
       "Name:    TG, dtype: int64"
      ]
     },
     "execution_count": 15,
     "metadata": {},
     "output_type": "execute_result"
    }
   ],
   "source": [
    "df['   TG'][20:30]"
   ]
  },
  {
   "cell_type": "markdown",
   "id": "3099b4d0",
   "metadata": {},
   "source": [
    "### Show Multiple Columns\n",
    "Shows Columns from one specific Column to another "
   ]
  },
  {
   "cell_type": "code",
   "execution_count": 18,
   "id": "61a53079",
   "metadata": {},
   "outputs": [
    {
     "data": {
      "text/html": [
       "<div>\n",
       "<style scoped>\n",
       "    .dataframe tbody tr th:only-of-type {\n",
       "        vertical-align: middle;\n",
       "    }\n",
       "\n",
       "    .dataframe tbody tr th {\n",
       "        vertical-align: top;\n",
       "    }\n",
       "\n",
       "    .dataframe thead th {\n",
       "        text-align: right;\n",
       "    }\n",
       "</style>\n",
       "<table border=\"1\" class=\"dataframe\">\n",
       "  <thead>\n",
       "    <tr style=\"text-align: right;\">\n",
       "      <th></th>\n",
       "      <th>TG</th>\n",
       "      <th>DATE</th>\n",
       "    </tr>\n",
       "  </thead>\n",
       "  <tbody>\n",
       "    <tr>\n",
       "      <th>20</th>\n",
       "      <td>-11</td>\n",
       "      <td>1860-01-21</td>\n",
       "    </tr>\n",
       "    <tr>\n",
       "      <th>21</th>\n",
       "      <td>-1</td>\n",
       "      <td>1860-01-22</td>\n",
       "    </tr>\n",
       "    <tr>\n",
       "      <th>22</th>\n",
       "      <td>2</td>\n",
       "      <td>1860-01-23</td>\n",
       "    </tr>\n",
       "    <tr>\n",
       "      <th>23</th>\n",
       "      <td>7</td>\n",
       "      <td>1860-01-24</td>\n",
       "    </tr>\n",
       "    <tr>\n",
       "      <th>24</th>\n",
       "      <td>10</td>\n",
       "      <td>1860-01-25</td>\n",
       "    </tr>\n",
       "    <tr>\n",
       "      <th>25</th>\n",
       "      <td>5</td>\n",
       "      <td>1860-01-26</td>\n",
       "    </tr>\n",
       "    <tr>\n",
       "      <th>26</th>\n",
       "      <td>-21</td>\n",
       "      <td>1860-01-27</td>\n",
       "    </tr>\n",
       "    <tr>\n",
       "      <th>27</th>\n",
       "      <td>-10</td>\n",
       "      <td>1860-01-28</td>\n",
       "    </tr>\n",
       "    <tr>\n",
       "      <th>28</th>\n",
       "      <td>-25</td>\n",
       "      <td>1860-01-29</td>\n",
       "    </tr>\n",
       "    <tr>\n",
       "      <th>29</th>\n",
       "      <td>5</td>\n",
       "      <td>1860-01-30</td>\n",
       "    </tr>\n",
       "  </tbody>\n",
       "</table>\n",
       "</div>"
      ],
      "text/plain": [
       "       TG       DATE\n",
       "20    -11 1860-01-21\n",
       "21     -1 1860-01-22\n",
       "22      2 1860-01-23\n",
       "23      7 1860-01-24\n",
       "24     10 1860-01-25\n",
       "25      5 1860-01-26\n",
       "26    -21 1860-01-27\n",
       "27    -10 1860-01-28\n",
       "28    -25 1860-01-29\n",
       "29      5 1860-01-30"
      ]
     },
     "execution_count": 18,
     "metadata": {},
     "output_type": "execute_result"
    }
   ],
   "source": [
    "# Have to give a List\n",
    "\n",
    "df[['   TG', '    DATE']][20:30]"
   ]
  },
  {
   "cell_type": "code",
   "execution_count": 25,
   "id": "cf3e2b88",
   "metadata": {},
   "outputs": [
    {
     "data": {
      "text/plain": [
       "2"
      ]
     },
     "execution_count": 25,
     "metadata": {},
     "output_type": "execute_result"
    }
   ],
   "source": [
    "import pandas as pd\n",
    "df1 = pd.read_csv('data_small/stations.txt', skiprows=17)\n",
    "df1['STAID'][1]"
   ]
  },
  {
   "cell_type": "code",
   "execution_count": 21,
   "id": "6bbe82a7",
   "metadata": {},
   "outputs": [
    {
     "name": "stdout",
     "output_type": "stream",
     "text": [
      "['VAEXJOE', 'FALUN', 'STENSELE', 'LINKOEPING', 'LINKOEPING-MALMSLAETT', 'KARLSTAD', 'KARLSTAD-AIRPORT', 'OESTERSUND', 'OESTERSUND-FROESOEN', 'STOCKHOLM', 'KREMSMUENSTER (TAWES)', 'GRAZ-UNIVERSITAET', 'INNSBRUCK-UNIV', 'SALZBURG-FLUGHAFEN', 'SONNBLICK (TAWES)', 'WIEN-HOHE WARTE', 'ZAGREB-GRIC', 'AMIANDOS', 'LARNACA', 'LIMASSOL', 'NICOSIA', 'POLIS', 'PRAHA-KLEMENTINUM', 'HELSINKI KAISANIEMI', 'JYVASKYLA LENTOASEMA', 'SODANKYLA. LAPIN ILMATIET. TUTK.KESKUS', 'MARSEILLE OBS. PALAIS-LONCHAMP', 'BOURGES', 'TOULOUSE-BLAGNAC', 'BORDEAUX-MERIGNAC', 'PERPIGNAN', 'LYON - ST EXUPERY', 'MARIGNANE', 'BAMBERG', 'BERLIN-DAHLEM', 'BREMEN', 'DRESDEN WAHNSDORF', 'FRANKFURT', 'HALLE', 'HAMBURG BERGEDORF', 'HAMBURG FUHLSBUETTEL', 'HOHENPEISSENBERG', 'JENA STERNWARTE', 'KAISERSLAUTERN', 'KARLSRUHE', 'MUENCHEN', 'MUENSTER', 'POTSDAM', 'SCHWERIN', 'ZUGSPITZE', 'CORFU', 'HELLINIKON', 'HERAKLION', 'LARISSA', 'METHONI', 'BUDAPEST', 'DALATANGI', 'REYKJAVIK', 'STYKKISHOLMUR', 'TEIGARHORN', 'VESTMANNAEYJAR', 'ALEKSANDROV GAJ', \"ARXANGEL'SK\", 'ARMAVIR', \"ASTRAXAN'\", \"ELAT'MA\", 'XOSEDA-XARD', 'IZEVSK', 'KALININGRAD', 'KANDALAKSHA', \"KEM'-PORT\", 'KURSK', 'KOJNAS', 'KOSTROMA', 'KOTLAS', 'KRASNOUFIMSK', 'SANKT-PETERBURG', 'MURMANSK', 'MOSKVA VDNX', \"NAR'YAN-MAR\", 'UFA', 'ONEGA', 'ORENBURG', 'PAVELEс', 'PETROPAVLOVSK', 'PECHORA', 'PSKOV', 'SARATOV', 'SMOLENSK', 'SORTAVALA', \"SY'KTY'VKAR\", 'TAMBOV', 'TROIсKO-PECHORSKOE', \"UST'-CIL'MA\", 'VELIKIE LUKI', \"VY'TEGRA\", 'VOLOGDA', 'HAMMER ODDE FYR', 'VESTERVIG', 'NORDBY (FANO)', 'TRANEBJERG', 'KOEBENHAVN: LANDBOHOJSKOLEN-1', 'HAMMER ODDE FYR-1', 'SANDVIG', 'KOEBENHAVN: LANDBOHOJSKOLEN', 'BIRR', 'DUBLIN PHOENIX PARK', 'MALIN HEAD', 'VALENTIA OBSERVATORY', 'TEL AVIV SEDE DOV', 'TEL AVIV SEDE DOV-1', 'TEL AVIV READING', 'HAR KENAAN', 'JERUSALEM CENTRAL', 'BEER SHEVA', 'BEER SHEVA-1', 'NAHAL HAZERIM', 'ELAT', 'ELAT-1', 'DEN HELDER', 'DE KOOY', 'DE BILT', 'GRONINGEN', 'EELDE', 'WEST SOUBURG', 'VLISSINGEN', 'MAASTRICHT-1', 'MAASTRICHT', 'BOLOGNA', 'FERRARA', 'MILAN', 'BRINDISI', 'CAGLIARI', 'ROMA CIAMPINO', 'VERONA VILLAFRANCA', 'BJOERNOEYA', 'NORD ODAL', 'SUOLOVUOPMI', 'SVALBARD AIRPORT', 'HOPEN', 'GLOMFJORD', 'JAN MAYEN', 'KARASJOK', 'KJOEREMSGRENDE', 'FAERDER FYR', 'OSLO BLINDERN', 'UTSIRA FYR', 'VARDOE', 'NESBYEN-SKOGLUND', 'BULKEN', 'GULBENE', 'LIEPAJA', 'KAUNAS', 'KLAIPEDA', 'VILNIUS', 'LUXEMBOURG AIRPORT', 'BIALYSTOK', 'HEL', 'POZNAN', 'RZESZOW JASIONKA', 'SZCZECIN', 'WARSZAWA-OKECIE', 'WROCLAW', 'BEJA', 'BRAGANCA', 'COIMBRA / INST. GEOFIS.', 'LISBOA GEOFISICA', 'PORTO', 'TAVIRA', 'ARAD', 'BAIA MARE', 'BUCURESTI-BANEASA', 'BUZAU', 'CALARASI', 'CLUJ NAPOCA', 'DROBETA TURNU SEVERIN', 'TG JIU', 'TURNU MAGURELE', 'VARFU OMUL', 'HURBANOVO', 'LJUBLJANA BEZIGRAD', 'BADAJOZ/TALAVERA LA REAL', 'MADRID - RETIRO', 'MALAGA AEROPUERTO', 'NAVACERRADA', 'SALAMANCA AEROPUERTO', 'SAN SEBASTIAN - IGUELDO', 'TORREVIEJA', 'TORTOSA - OBSERVATORIO DEL EBRO', 'VALENCIA', 'ZARAGOZA AEROPUERTO', 'BASEL BINNINGEN', 'GENEVE COINTRIN', 'GENEVE OBSERVATOIRE', 'LUGANO', 'SAENTIS', 'ZUERICH/FLUNTERN', 'FEODOSIIA', 'KIEV', 'LUGANSK', 'NIKOLAEV', 'POLTAVA', 'CET CENTRAL ENGLAND', 'NIS', 'BELGRADE (OBSERVATORY)', 'OKSOEY FYR', 'BERGEN FLORIDA', 'BODOE VI', 'VORU', 'VILSANDI', 'PRILEP', 'ARMAGH', 'ESKDALEMUIR', 'HULL', 'RADCLIFFE METEOROLOGICAL STATION OXFORD', 'WICK', 'SARAJEVO', 'TIRANA', 'ALGER-DAR EL BEIDA', 'ARSDORF_1', 'KOERICH_1', 'YEREVAN', 'ILULISSAT', 'TASIILAQ', 'ILULISSAT (JAKOBSHAVN)', 'TASIILAQ (ANGMAGSALIK)', 'TRANEBJERG OST-1', 'ILULISSAT MITTARFIK', 'ALICANTE EL ALTET', 'EL-GOLEA', 'IN-AMENAS', 'TAMANRASSET', 'MERSA MATRUH', 'ASSWAN', 'SIWA', 'BAHARIA', 'DAKHLA', 'HURGUADA', 'RENNES-ST JACQUES', 'STRASBOURG-ENTZHEIM', 'LINDENBERG', 'GAVAR', 'SAMOS AIRPORT', 'SOUDA AIRPORT', 'TROMSO', 'ONA II', 'FOKSTUA', 'TORUNGEN FYR', 'LEBA', 'SIEDLCE', 'POPRAD/TATRY', 'BARCELONA -FABRA OBSERVATORY', 'ALBACETE LOS LLANOS', 'CORDOBA AEROPUERTO', 'HAPARANDA', 'MALUNG', 'GOTSKA SANDON', 'LERWICK', 'STORNOWAY AIRPORT', 'VALLEY', 'WADDINGTON', 'CAMBORNE', 'ANCHIALOS', 'AACHEN', 'PADOVA', 'PALERMO', 'BAJRAMALY', 'BISER', 'PAFOS', 'CHARDZHEV', 'HENICHESK', 'ATYRAU', 'IZMAIL', \"KAMENNAYA STEP'\", \"KAZAN'\", 'KIROV', 'GANCA', 'KISINEV', 'GYZYLARBAT', 'ELBLAG', 'GUMRI', 'MINSK', 'ODESA', \"OKTYABR'SKIJ GORODOK\", \"PERM'\", 'ROSTOV-NA-DONU', 'SOCHI', 'EKATERINBURG', 'TURGAJ', 'URALSK', 'VASILEVICI', 'MARKNESSE', 'ALICANTE', 'LAUWERSOOG', 'BURGOS-VILLAFRIA', 'CADIZ', 'CIUDAD REAL', 'GRANADA', 'HUELVA (RONDA DEL ESTE)', 'HUESCA', 'A CORUNA', 'MURCIA', 'PAMPLONA', 'SEVILLA/SAN PABLO', 'SORIA', 'VALLADOLID', 'TORSHAVN', 'BREST-GUIPAVAS', 'WIJK AAN ZEE', 'CABAUW', 'GALWAY', 'VOLKEL', 'RIGA', 'SIBIU', 'BERKHOUT', 'HEINO', 'HUPSEL', 'TENERIFE/LOS RODEOS', 'DURHAM', 'GOTEBORG A', 'LUND', 'ARCEN', 'VISBY', 'HARNOSAND', 'UFS TW EMS', 'HELGOLAND', 'LIST/SYLT', 'SCHLESWIG', 'WESTERMARKELSDORF/FEHMARN', 'ROSTOCK-WARNEMUNDE', 'GREIFSWALD', 'EMDEN-FLUGPLATZ', 'NEURUPPIN', 'HANNOVER', 'MAGDEBURG', 'HERWIJNEN', 'DUSSELDORF', 'KASSEL', 'FRITZLAR', 'LEIPZIG-SCHKEUDITZ', 'DRESDEN-KLOTZSCHE', 'GORLITZ', 'NURBURG-BARWEILER', 'MEININGEN', 'ERFURT-BINDERSLEBEN', 'FICHTELBERG', 'WURZBURG', 'HOF', 'SAARBRUCKEN/ENSHEIM', 'NURNBERG', 'STRAUBING', 'AUGSBURG', 'KONSTANZ', 'KEMPTEN', 'ARGOSTOLI', 'ATHALASSA', 'AGROS', 'NIEUW BEERTA', 'WILHELMINADORP', 'SCHIPHOL', 'HOORN TERSCHELLING', 'SOESTERBERG', 'STAVOREN', 'LELYSTAD', 'ROTTERDAM', 'GILZE-RIJEN', 'ELL', 'VLIELAND', 'HOEK VAN HOLLAND', 'LEEUWARDEN', 'WOENSDRECHT', 'BREST', 'SWINOUJSCIE', 'SALO KARKKA', 'LOHJA PORLA', 'PORVOO JERNBOLE', 'PORI PORIN LENTOASEMA', 'MIETOINEN SAARI', 'TURKU TURUN LENTOASEMA', 'KOKEMAKI PEIPOHJA HYRKOLA', 'JOKIOINEN JOKIOISTEN OBSERVATORIO', 'HATTULA LEPAA-1', 'KANKAANPAA NIINISALO PUOLUSTUSVOIMAT', 'KURU LANSI-AURE', 'VARKAUS KAPYKANGAS', 'TOHMAJARVI KEMIE', 'AHTARI MYLLYMAKI', 'ALAJARVI MOKSY-1', 'MAANINKA HALOLA', 'KAJAANI LENTOASEMA-1', 'VIEREMA KAARAKKALA', 'MUHOS KK LAITASAARI', 'VAALA PELSO', 'TAIVALKOSKI KK', 'KUUSAMO LENTOASEMA-1', 'ROVANIEMI LENTOASEMA', 'MUONIO ALAMUONIO', 'INARI IVALO LENTOASEMA', 'ABBEVILLE', 'LILLE-LESQUIN', 'CAEN-CARPIQUET', 'REIMS-PRUNAY', 'ALENCON', 'NANTES-BOUGUENAIS', 'DIJON-LONGVIC', 'POITIERS - BIARD', 'CLERMONT-FERRAND', 'OLSZTYN', 'CHANIA', 'EMBRUN', 'TARBES - OSSUN', 'NICE', 'BASTIA', 'SLUBICE', 'METZ-FRESCATY', 'MONTELIMAR', 'CHIOS', 'PTE DE LA HAGUE', 'KAHLER ASTEN (WST)', 'THESSALONIKI', 'ALEXANDROUPOLI', 'KOZANI', 'IOANNINA', 'MITILINI', 'AGRINIO', 'SKYROS', 'TRIPOLI', 'KALAMATA', 'NAXOS', 'MILOS', 'KYTHIRA', 'RHODOS', 'IERAPETRA', 'PECS POGANY', 'SZEGED', 'DEBRECEN AIRPORT', 'BEDONIA', 'BOBBIO', 'BOSCO CENTRALE', 'LIGONCHIO CENTRALE', 'MONTEOMBRARO', 'MONZUNO', 'PORRETTA TERME', 'TERESPOL', 'LESZNO', 'WIELUN', 'SULEJOW', 'WLODAWA', 'RACIBORZ', 'KRAKOW', 'BIELSKO-BIALA', 'FLORINA', 'NOWY SACZ', 'LESKO', 'LAMIA', 'TANAGRA', 'KARASJOK-MARKANNJARGA', 'OCNA SUGATAG', 'IASI', 'NESBYEN-TODOKK', 'SUOLOVUOPMI-LULIT', 'BALLYHAISE (AGR.COLL.)', 'BACAU', 'MIERCUREA CIUC', 'DEVA', 'BET DAGAN', 'BALLYSHANNON (CATHLEENS FALL)', 'BELLACORRICK (MONEYNIERIN)', 'BOORA', 'TULCEA', 'CARRICKMACROSS (DUNOGE)', 'SULINA', 'CASEMENT AERODROME', 'ROSIORI DE VEDE', 'KOLKA', 'SKULTE', 'GAUJIENA', 'ALUKSNE', 'PAVILOSTA', 'SALDUS', 'AUCE', 'DOBELE', 'ZILANI', 'DAUGAVPILS', 'SIAULIAI', 'BIRZAI', 'LAZDIJAI', 'ROROS', 'KONGSBERG IV', 'LYNGOR FYR', 'TVEITSUND', 'LINDESNES FYR', 'LISTA FYR', 'SOLA', 'SAUDA', 'GARDERMOEN', 'TAKLE', 'TAFJORD', 'VAERNES', 'RENA - HAUGEDALEN', 'KJOBLI I SNAASA', 'ORLAND', 'SKROVA FYR', 'BARDUFOSS', 'SIHCCAJAVRI', 'FRUHOLMEN FYR', 'RUSTEFJELBMA', 'BARENсBURG', 'TERIBERKA', 'SVYATOJ NOS', 'KANIN NOS', \"KRASNOSCEL'E\", 'SOJNA', 'INDIGA', 'UMBA', 'UXTA KALEVALA', 'GRIDINO', 'ZHIZHGIN', \"MEZEN'\", \"REBOLY'\", \"PADANY'\", 'SURA', 'SHENKURSK', \"KARGOPOL'\", 'NYANDOMA', \"VY'BORG\", 'GOGLAND', 'VELIKIJ USTYUG', 'BELOGORKA', 'TIXVIN', 'GDOV', \"VEREB'E\", 'STARAYA RUSSA', 'BOLOGOE', \"PUSHKINSKIE GORY'\", 'KRASNAYA GORA', 'TRUBCHEVSK', 'BABAEVO', \"TOT'MA\", \"NIKOL'SK\", 'OPARINO', 'KOLOGRIV', \"RY'BINSK GMO\", 'VETLUGA', 'JOSHKAR-OLA', 'MOZHAJSK', 'KOLOMNA', 'LUKOYANOV', 'POREсKOE', 'SUXINICHI', \"RYAZAN'\", 'ZEMETCHINO', 'PENZA', 'BEZENCHUK', \"PONY'RI\", 'BOGORODIсKOE-FENINO', 'VORONEZH', 'BALASHOV', 'GOTNYA', 'URYUPINSK', 'KALACH', 'VALUJKI', 'FROLOVO', 'CHERTKOVO', \"E'L'TON\", 'VOLSHSKIY GMO', 'VERXNIJ BASKUNCHAK', 'СIMLYANSK (VOLGODONSK)', 'TAGANROG', 'СELINA', 'REMONTNOE', 'PRIMORSKO-AXTARSK', \"E'LISTA\", \"YASHKUL'\", 'STAVROPOL AMSG', 'KASPIYSKIY', 'ANAPA', 'TUAPSE', \"MINERAL'NY'E VODY'\", 'CLONAKILTY (AGRIC.COLL.)', 'BUDENNOVSK', 'KISLOVODSK', 'VLADIKAVKAZ', \"GROZNY'J\", 'GUDERMES', 'PYATIGORSK', 'IZANA', 'MELILLA', 'SANTANDER CENTRO', 'BILBAO AEROPUERTO', 'SANTIAGO DE COMPOSTELA/LABACOLLA', 'VIGO PEINADOR', 'PONFERRADA', 'LEON VIRGEN DEL CAMINO', 'LOGRONO-AGONCILLO', 'ZAMORA', 'REUS/AEROPUERTO', 'MURCIA/SAN JAVIER', 'JEREZ DE LA FRONTERA', 'TARIFA', 'KARESUANDO', 'JONKOPING', 'PAJALA', 'LULEA FLYGPLATS', 'HARSFJARDEN', 'SVENSKA HOGARNA', 'SAVE', 'SATENAS', 'BARKAKRA', 'FALSTERBO', 'RONNEBY-BREDAKRA', 'HOBURG', 'KARLSHAMN', 'BORAS', 'OLANDS NORRA UDDE', 'LANDSORT', 'OREBRO 1', 'FORSE', 'JACKVIK', 'ARJEPLOG A', 'JOKKMOKK', 'VITTANGI', 'SHEPETIVKA', 'LUBNY', 'VINNYTSIA', 'UMAN', 'UZHHOROD', 'ASKANIIA NOVA', 'SIMFEROPOL', 'KERCH', 'AI-PETRI', 'KHARKIV', 'DEBALTSEVE', 'KIRKWALL', 'KINLOSS', 'CRAIBSTONE', 'MYLNEFIELD', 'RINGWAY', 'ASKHAM BRYAN', 'SHAWBURY', 'GOUDHURST', 'DALE FORT', 'PAISLEY', 'CWMYSTWYTH', 'LONG ASHTON', 'CAMBRIDGE (B. GDNS)', 'ALDERGROVE', 'DERRYGREENAGH', 'COL DU GRAND ST-BERNARD', 'SION 1', 'SION 2', 'SHKODRA', 'SPLIT MARJAN', 'LASTOVO', 'RIJEKA', 'GOSPIC', 'OSIJEK', 'HVAR', 'ZAVIZAN', 'DUBLIN (GLASNEVIN)', 'DUBLIN (MERRION SQUARE)', 'DUBLIN AIRPORT', 'DUNDALK (ANNASKEAGH W.W.)', 'GLENAMOY', 'MARINA DI RAVENNA', 'RIMINI', 'GLENGARRIFF (ILNACULLIN)', 'GLENTIES HATCHERY', 'JOHNSTOWN CASTLE', 'KREDARICA', 'KELLS (HEADFORT)', 'LULLYMORE (BORD NA MONA)', 'MARKREE CASTLE', 'SLIEVE BLOOM MTNS.(NEALSTOWN)', 'TRALEE (CLASH)', 'WARRENSTOWN', 'WATERFORD (TYCOR)', 'AUCHINCRUIVE', 'GLENLEE', 'THREAVE', 'RONALDSWAY', 'NEWTON RIGG', 'GRIZEDALE', 'PRESTON: MOOR PARK', 'HAWARDEN BRIDGE', 'LOGGERHEADS: COLOMENDY CENTRE', 'INVERNESS', 'ABERPORTH', 'GOGERDDAN', 'YEOVILTON', 'SWANAGE', 'PLYMOUTH: MOUNTBATTEN', 'SLAPTON', 'ST MAWGAN', 'BUDE', 'BRAEMAR', 'BALMORAL', 'HILLSBOROUGH', 'STORMONT CASTLE', 'LOUGH NAVAR FOREST', 'GUERNSEY: AIRPORT', 'JERSEY: AIRPORT', 'DYCE', 'ALWEN', 'TIREE', 'ARDTALNAIG', 'FASKALLY', 'LEUCHARS', 'PENICUIK', 'EDINBURGH: ROYAL BOTANIC GARDEN', 'DUNBAR', 'BLYTH BRIDGE', 'BOWHILL', 'KIELDER CASTLE', 'MORPETH: COCKLE PARK', 'HIGH MOWTHORPE', 'SKEGNESS', 'TERRINGTON ST CLEMENT', 'EAST BERGHOLT', 'WATTISHAM', 'LOWESTOFT', 'ROTHAMSTED', 'WRITTLE', 'MALHAM TARN', 'BRADFORD', 'SHEFFIELD', 'BUXTON', 'NOTTINGHAM: WATNALL', 'WARSOP', 'NEWTOWN LINFORD', 'WELLESBOURNE', 'KEELE', 'MALVERN', 'HALESOWEN', 'KINLOCHEWE', 'LYONSHALL', 'HAMPSTEAD', 'HEATHROW', 'WYE', 'MANSTON', 'BOGNOR REGIS', 'EASTBOURNE', 'HASTINGS', 'WALLINGFORD', 'HURN', 'EVERTON', 'LECKFORD', 'HAYLING ISLAND', 'ALICE HOLT LODGE', 'LYNEHAM', 'RHUM: KINLOCH', 'BENMORE: YOUNGER BOTANIC GARDEN', 'BUTE: ROTHESAY', 'LEADHILLS', 'CARNWATH', 'BROCKEN', 'KOSZALIN', 'KETRZYN', 'SUWALKI', 'CHOJNICE', 'TORUN', 'MLAWA', 'GORZOW WLKP', 'ZIELONA GORA', 'KALISZ', 'KLODZKO', 'KATOWICE', 'KIELCE', 'SZOMBATHELY', 'BOTOSANI', 'CEAHLAU TOACA', 'CARANSEBES', 'GALATI', 'RAMNICU VALCEA', 'CRAIOVA', 'CONSTANTA', 'CARLISLE', 'BOSCOMBE DOWN', 'ROCHES POINT', 'CORK', 'ROSSLARE', 'KILKENNY', 'SHANNON', 'CLAREMORRIS', 'CLONES', 'BELMULLET', 'PAYERNE', 'ROUEN - BOOS', 'TOURS', 'BASEL-MULHOUSE', 'LIMOGES - BELLEGARDE', 'LE PUY - LOUDES', 'GOURDON', 'MILLAU', 'MONT-DE-MARSAN', 'ST-GIRONS', 'MONTPELLIER-AEROPORT', 'AJACCIO', 'ANDOYA', 'SLETTNES FYR', 'BERGEN/FLESLAND', 'GUNNARN', 'MASESKAR', 'MALILLA', 'BRYANSK', 'PELLO KK MUSEOTIE', 'NIVALA', 'ERSHOV', 'KRASNODAR KRUGLIK', 'DEELEN', 'HOOGEVEEN', 'EINDHOVEN', 'TWENTHE', 'VALKENBURG', 'WESTDORPE', 'FOKSTUGU', 'KONGSBERG II/III', 'KONGSBERG BRANNSTASJON', 'NESBYEN', 'NESBYEN II', 'ROROS AIRPORT', 'RENA', 'ONA', 'ONA HUSOY', 'BREKKE SLUSE', 'RADE - TOMB', 'RYGGE', 'SARPSBORG', 'ASKER', 'BJORNHOLT', 'TRYVASSHOGDA', 'DREVSJO', 'KISE PA HEDMARK', 'ABJORSBRATEN', 'BOVERDAL', 'OSTRE TOTEN - APELSVOLL', 'VAGA - KLONES', 'GULSVIK II', 'SOKNA II', 'GVARV', 'GVARV - LINDEM', 'GVARV - NES', 'MOGEN', 'KJEVIK', 'ASERAL', 'LYSEBOTN', 'OBRESTAD FYR', 'STAVANGER - VALAND', 'FET I EIDFJORD', 'SLATTEROY FYR', 'HAUKEDAL', 'HORNINDAL', 'MARISTOVA', 'STADLANDET', 'HUSTADVATN', 'ORSKOG', 'SUNNDALSORA III', 'SONGLI', 'TRONDHEIM - VOLL', 'NAMDALSEID', 'NAMSSKOGAN', 'NORDOYAN FYR', 'BODOE - VAGONES', 'LUROY', 'BONES I BARDU', 'DIVIDALEN', 'STORSTEINNES I BALSFJORD', 'TORSVAG FYR', 'CUOVDDATMOHKKI', 'KAUTOKEINO', 'KAUTOKEINO II', 'MAKKAUR FYR', 'ISFJORD RADIO', 'SVEAGRUVA', 'MIKE', 'MUENSTER/OSNABRUECK (AIRPORT)', 'BERLIN-TEMPELHOF', 'TRIER-PETRISBERG', 'RHEINSTETTEN', 'STUTTGART/ECHTERDINGEN', 'MUENCHEN-FLUGHAFEN', 'BADIA TEDALDA', 'BAISO', 'BARCO', 'BASILICAGOIANO', 'BRISIGHELLA', 'CABANNE', 'CALESTANO', 'CAMPIGNA', 'CASTEL DEL RIO', \"CASTELNOVO NE'MONTI\", 'CATTOLICA', 'CIVITELLA DI ROMAGNA', 'CODIGORO', 'COLLAGNA', 'COPPARO', 'CORNIOLO', 'COTTEDE', 'DIGA DEL BRUGNETO', 'DIGA DI PAVANA', 'DIGA DI QUARTO', 'DIGA DI SUVIANA', 'FARNETA CENTRALE', \"FIORENZUOLA D'ARDA\", 'FIRENZUOLA', 'GUIGLIA (STAZ. AGRARIA)', 'IDROVORA FOSSO GHIAIA', 'IMOLA', 'ISOLA DI PALANZANO CENTRALE', 'JOLANDA DI SAVOIA', 'LUGO DI ROMAGNA', 'MARRA CENTRALE', 'MARTINELLA', 'MIRANDOLA', 'MODENA', 'MONTE IOTTONE', 'MONTEGROPPO', 'MONTESE', 'NOCIVEGLIA', 'OSPITALETTO (OSPEDALETTO)', 'PAVULLO NEL FRIGNANO', 'PENNABILLI', 'PIANDELAGOTTI', 'POLINAGO', 'PRACCHIA', 'RAMISETO', \"REGGIO NELL'EMILIA (COVIOLO)\", 'ROCCA SAN CASCIANO', 'SAN CASSIANO', 'SAN MARINO', 'SESTOLA', 'VARSI', 'VERGATO', 'VILLA MINOZZO', 'ZIBELLO', 'NOVI SAD', 'DANMARKSHAVN', 'AKUREYRI', 'UIL', 'IM. E.T.KRENKELYA GMO', \"MALY'E KARMAKULY'\", \"CHERDY'N'\", 'KIRS', 'SARAPUL', 'SOROCHINSK', 'DERBENT', 'BARCELONA/AEROPUERTO', 'LANZAROTE/AEROPUERTO', 'CIMBAJ', 'BISHKEK', 'PETROPAVLOVSK', 'KUSTANAI', 'ATBASAR', 'KARAGANDA', 'KZYLZAR', 'ARALSKOE MORE', 'TURKESTAN', \"BELY'J OSTROV\", 'MARRESALYA', \"NOVY'J PORT\", \"PETRUN'\", 'SALEXARD', \"UST'-USA\", 'BEREZOVO', 'NJAKSIMVOL', \"OKTYABR'SKOE\", 'SURGUT', \"XANTY'-MANSIJSK\", 'LEUSHI', \"VERXOTUR'E\", 'TURINSK', \"TOBOL'SK\", \"TYUMEN'\", 'TARA', 'YELABUGA', 'SHADRINSK', 'ISHIM', 'KURGAN', 'MAKUSHINO', 'OMSK', 'CHULPANOVO', 'TROIсK', 'STERLITAMAK', 'ZILAIR', \"AXTY'\", 'DUSHANBE', 'KHOROG', 'TAMDY', 'TASHKENT', 'FERGANA', 'TERMEZ', 'D15-FA-1', 'K14-FA-1C', 'A12-CPP', 'F16-A', 'L9-FF-1', 'AWG-1', 'J6-A', 'HOORN-A', 'K13', 'LICHTEILAND_GOEREE', 'EUROPLATFORM', 'ROTTERDAM-GEULHAVEN', 'DIKSON', 'XATANGA', 'CHOKURDAX', 'OSTROV VRANGELYA', \"MY'S KAMENNY'J\", 'TURUXANSK', 'BOR', 'BAJKIT', \"IVDEL'\", 'ALEKSANDROVSKOE', 'OLENEK', 'VERXOYANSK', 'ZHIGANSK', 'TURA', 'VILYUJSK', 'OJMYAKON', 'SUNTAR', 'ERBOGACHEN', 'VANAVARA', 'OLEKMINSK', \"ISIT'\", 'YAKUTSK', \"UST'-MAYA\", \"MY'S SHMIDTA\", 'MARKOVO', \"ANADY'R'\", 'BUXTA PROVIDENIYA', 'SEJMCHAN', 'KAMENSKOE', 'MAGADAN', 'KORF', 'NIZHNIJ NOVGOROD', 'SAMARA', 'KOLPASHEVO', 'ENISEJSK', \"BOGUCHANY'\", 'TOMSK', 'KRASNOYARSK OP.P', 'BARABINSK', 'IRTYSHSK', 'BARNAUL', 'MINUSINSK', 'VITIM', 'KIRENSK', 'BODAJBO', 'CHARA', \"CHUL'MAN\", 'ZHIGALOVO', 'TROIсKIJ PRIISK', 'BARGUZIN', 'MOGOCHA', 'SKOVORODINO', 'IRKUTSK OBSERV.', 'CHITA', 'SRETENSK', \"ULAN-UDE'\", 'KYAXTA', \"KY'RA\", 'BORZYA', 'ALDAN', 'OXOTSK', 'AYAN', 'BOMNAK', \"E'KIMCHAN\", 'NIKOLAEVSK-NA-AMURE', 'NORSK', \"IM. POLINY' OSIPENKO\", 'BLAGOVESсENSK', 'CHEKUNDA', 'ARXARA', \"EKATERINO-NIKOL'SKOE\", 'XABAROVSK', 'ZOLOTOJ', \"DAL'NERECHENSK\", 'TERNEJ', \"POGRANICHNY'J\", 'VLADIVOSTOK', 'ALEKSANDROVSK-SAXALINSKIJ', 'PORONAJSK', \"YUZHNO-KURIL'SK\", 'KLYUCHI', 'ICHA', 'PETROPAVLOVSK-KAMCHATSKIJ', 'LVIV', 'CHERNIVTSI', 'ASTANA', 'AKTOBE', 'TAIPAK', 'IRGIZ', 'KARSAKPAJ', 'BALHASH', 'RUBсOVSK', 'SEMEJ', 'ZAJSAN', 'UCH-ARAL', 'ZHARKENT', 'ALMATY', 'NARYN', 'SAMTREDIA', 'TURKMEN-BASHI', 'KHUDJAND', 'SAMARKAND', 'ESENGYLY', 'ASHGABAT', 'KURGAN-TYUBE', 'SARAGT', 'GYSHGY', 'CRNOMELJ-DOBLICE', 'KOCEVJE', 'LESCE', 'TOPOL PRI MEDVODAH', 'VOJSKO', 'NOVA VAS NA BLOKAH', 'POSTOJNA', 'VELIKI DOLENCI', 'BILJE', 'NOVO MESTO', 'SMARTNO PRI SLOVENJ GRADCU', 'LETALISCE JOZETA PUCNIKA LJUBLJANA', 'LETALISCE EDVARDA RUSJANA MARIBOR', 'PORTOROZ-LETALISCE', 'CELJE-MEDLOG', 'LISCA', 'MURSKA SOBOTA-RAKICAN', 'RATECE-PLANICA', 'STUTTGART-SCHNARRENBERG', 'BRAEMAR-1', 'LOWESTOFT MONKTON AVENUE', 'MALMO A', 'TORUP A', 'TORUP', 'NIDINGEN A', 'MALILLA A', 'NORDKOSTER A', 'HARSTENA A', 'GOTSKA SANDON A', 'KILSBERGEN-SUTTARBODA A', 'TULLINGE A', 'STOCKHOLM-BROMMA', 'BORLANGE FLYGPLATS', 'AMOT A', 'FILMS KYRKBY A', 'KUGGOREN A', 'TANNAS A', 'SVEG', 'SUNDSVALLS FLYGPLATS', 'FROSON', 'JUNSELE A', 'JUNSELE', 'SKAGSUDDE A', 'HOLMON A', 'GADDEDE', 'GADDEDE A', 'BJUROKLUBB A', 'HEMAVAN', 'HEMAVAN FLYGPLATS', 'JOKKMOKK FLYGPLATS MO', 'PAJALA A', 'KATTERJAKK', 'KOSICE', 'ORAVSKA LESNA', 'NEWPORT FURNACE', 'DUNSANY GRANGE', 'GURTEEN', 'MT DILLON', 'MACE HEAD', 'OAK PARK', 'MOOREPARK', 'BALLYHAISE', 'SHERKIN ISLAND', 'MULLINGAR', 'NIZHNEUDINSK', 'YANAUL', 'DUVAN', 'ZLATOUST', 'AKSAKOVO', \"VERXNEURAL'SK\", 'ADAMOVKA', 'TYULENIJ OSTROV', 'BUJNAKSK', 'MAKHACH-KALA', 'ROTA', 'MADRID/TORREJON', 'A CORUNA/ALVEDRO', 'VITORIA AERODROMO', 'VITORIA/FORONDA', 'ALBACETE OBS.', 'ALMERIA', 'ALMERIA/AEROPUERTO', 'ASTURIAS/AVILES', 'GIJON', 'GIJON LA MERCED', 'GIJON MUSEL', 'OVIEDO', 'AVILA', 'AVILA-AYUNTAMIENTO', 'IBIZA/ESCODOLA', 'MENORCA/MAO', 'PALMA DE MALLORCA CMT', 'PALMA DE MALLORCA / SON SAN JUAN', 'GIRONA-NOU INSTITUT', 'CACERES CIUDAD', 'SANTANDER CMT', 'SANTANDER/PARAYAS', 'CASTELLON', 'CASTELLON DE LA PLANA', 'CEUTA', 'CEUTA (MONTE HACHO)', 'CIUDAD REAL (INSTITUTO)', 'CUENCA', 'GIRONA (ANTIC INSTITUT)', 'GIRONA/COSTA BRAVA', 'GRANADA/AEROPUERTO', 'GUADALAJARA', 'GUADALAJARA (INSTITUTO)', 'MOLINA DE ARAGON', 'HUELVA', 'JAEN', 'JAEN (INSTITUTO)', 'FUERTEVENTURA/AEROPUERTO', 'LLEIDA', 'LLEIDA (OBSERVATORIO)', 'LUGO/ROZAS', 'COLMENAR VIEJO/FAMET', 'MADRID/BARAJAS', 'MADRID/CUATROVIENTOS', 'MADRID/GETAFE', 'MURCIA/ALCANTARILLA', 'PAMPLONA (OBSERVATORIO)', 'OURENSE', 'OURENSE (INSTITUTO)', 'PALENCIA (OBSERVATORIO)', 'PONTEVEDRA', 'PONTEVEDRA (INSTITUTO)', 'SALAMANCA OBS.', 'HIERRO/AEROPUERTO', 'LA PALMA/AEROPUERTO', 'STA. CRUZ DE TENERIFE', 'TENERIFE/SUR', 'SEGOVIA', 'SEGOVIA (MARIANO QUINTANILLA)', 'MORON DE LA FRONTERA', 'CALAMOCHA', 'CALAMOCHA-VOR', 'TERUEL', 'TOLEDO', 'TOLEDO LORENZANA', 'VALENCIA/AEROPUERTO', 'VALLADOLID (VILLANUBLA)', 'DAROCA', 'LEUCHTTURM ALTE WESER', 'FELDBERG/SCHWARZWALD', 'FREUDENSTADT', 'AACHEN-ORSBACH', 'GERA-LEUMNITZ', 'GIESSEN/WETTENBERG', 'ANGERMUNDE', 'GROSSER ARBER', 'ARKONA', 'KIEL-HOLTENAU', 'KOLN-BONN', 'LAHR', 'LEUCHTTURM KIEL', 'BAD LIPPSPRINGE', 'MARNITZ', 'NORDERNEY', 'OBERSTDORF', 'OHRINGEN', 'REGENSBURG', 'BERLIN-TEGEL', 'STOTTEN', 'WASSERKUPPE', 'WEIDEN', 'WENDELSTEIN', 'FURSTENZELL', 'HAHN', 'MANNHEIM', 'OFFENBACH-WETTERPARK', 'COTTBUS', 'CUXHAVEN', 'UFS DEUTSCHE BUCHT', 'BAD-HEILIGENDAMM DOBERAN', 'DOBERLUG-KIRCHHAIN', 'DOMITZ', 'DONAUESCHINGEN', 'DORTMUND', 'DRESDEN-HOSTERWITZ', 'DRESDEN-STREHLEN', 'DREWITZ BEI BURG', 'DUDERSTADT', 'BAD DURKHEIM', 'BAD DURKHEIM (SALINE)', 'BAD DURRENBERG', 'DUSSELDORF-SUDFRIEDHOF', 'DUISBURG-FRIEMERSHEIM', 'DUISBURG-LAAR', 'EBELEBEN', 'EBERBACH/NECKAR', 'EBERSBACH/FILS', 'EBERSBERG-HALBING', 'EBERSWALDE', 'EBRACH', 'EGGEBEK', 'EHNINGEN', 'EIBERG', 'EICHSTATT-LANDERSHOFEN', 'EIMELDINGEN', 'EINBECK', 'EISLEBEN-HELFTA', 'ELGERSBURG', 'ELLWANGEN-RINDELBACH', 'ELPERSBUTTEL', 'ELSDORF/ERFTKREIS', 'ELSFLETH', 'BAD-SOHL ELSTER', 'ELZACH-FISNACHT', 'EMDEN-NESSERLAND', 'EMDEN-WOLTHUSEN', 'EMMENDINGEN-MUNDINGEN', 'BAD EMS', 'ENGELSKIRCHEN', 'ENGEN/HEGAU', 'ENINGEN', 'EPPINGEN', 'EPPINGEN-ELSENZ', 'ALTENSTADT', 'ERFDE', 'ERING', 'ERISKIRCH-MARIABRUNN', 'MOHRENDORF-KLEINSEEBACH', 'ERLANGEN-BRUCK', 'ESCHAU-HOBBACH', 'ESCHENBACH/OBERPFALZ', 'ESCHWEGE', 'ESENS', 'ALTENTREPTOW', 'ESLOHE', 'ESSEN-BREDENEY', 'ALTGERINGSWALDE', 'WEILERSWIST-LOMMERSUM', 'EUTIN', 'ALTGLASHUTTE', 'KR.ROTTAL-INN FALKENBERG', 'FASSBERG', 'FEHMARNBELT', 'FELDBERG', 'FICHTELBERG/OBERFRANKEN-HUTTSTADL', 'DUISBURG-BAERL', 'WAIBSTADT', 'HAMELN-HASTENBECK', 'WALTROP-ABDINGHOF', 'GEVELSBERG-OBERBROKING', 'LANDSHUT-REITHOF', 'ROCKENDORF', 'MEINERZHAGEN-REDLENDORF', 'FLADUNGEN-HEUFURT', 'HILDESHEIM-DRISPENSTEDT', 'HELMSTEDT-EMMERSTEDT', 'FLENSBURG', 'FLENSBURG (SCHAFERHAUS)', 'FLENSBURG-MURWIK', 'NORDSEEBOJE 2', 'FLOSSENBURG', 'FRAMMERSBACH', 'BAD FRANKENHAUSEN/KYFFHAUSER', 'BIRX/RHON', 'FRANKFURT/MAIN (STADT)', 'FRANKFURT/MAIN-WESTEND', 'FRANKFURT/MAIN (FELDBERGSTR.)', 'FRANKFURT/ODER', 'FRANKWEILER', 'ALTOMUNSTER-MAISBRUNN', 'HERSDORF-WEISSENSEIFEN', 'FREIAMT-OTTOSCHWANDEN', 'FREIBERG', 'FREIBURG', 'FREIBURG IM BREISGAU-HERDERN', 'FREIBURG/ELBE', 'FREYSTADT-OBERNDORF', 'FRIEDRICHSBRUNN', 'FRIEDRICHSHAFEN', 'MALSBURG-MARZELL-FRIEDRICHSHEIM', 'FRIESOYTHE-EDEWECHTERDAM', 'ALZEY', 'FUCHSKAUTEN', 'AMBERG-UNTERAMMERSRICHT', 'FURTH/BAYERN (A)', 'FULDA', 'GARDELEGEN', 'AMERANG-PFAFFING', 'GARMISCH-PARTENKIRCHEN', 'GARTZ/ODER', 'GEISENHEIM', 'GEISINGEN', 'TRAUNSTEIN-GEISSING', 'GELBELSEE', 'GELDERN-WALBECK', 'GELNHAUSEN', 'OHLSBACH', 'GENTHIN', 'GERNRODE', 'GERNSHEIM-ALLMENDFELD', 'GERODA-PLATZ', 'GIESSEN (LAHNTAL)', 'GILSERBERG-MOISCHEID', 'GLUCKSBURG-MEIERWIK', 'GLUCKSTADT', 'ANKLAM', 'GOSSWEINSTEIN', 'GOTTINGEN', 'GOLDBERG', 'ANNABERG-BUCHHOLZ', 'GRAFENBERG-KASBERG', 'ANNATURM', 'GRAINET-REHBERG', 'GRAMBEK', 'GREBENHAIN-HERCHENHAIN', 'ANNWEILER-BINDERSBACH', 'GREIFSWALDER OIE', 'ANSBACH', 'GREIZ-DOLAU', 'ANSBACH-HENNENBACH', 'GROSS LUSEWITZ', 'GROSSER FALKENSTEIN', 'FELDKIRCHEN-WESTERHAM-LENZMUHLE', 'ARNEBURG', 'ARNIS', 'GRUNDAU-BREITENBORN', 'GRUNOW', 'ARNSBERG', 'KR. OSTALB GSCHWEND', 'GUTERSLOH', 'ARNSTEIN-MUDESHEIM', 'HAGEN-FLEY', 'AROLSEN-NEU BERICH', 'OLSDORF', 'HAMBURG-BOTANISCHER GARTEN', 'HAMBURG-KIRCHWERDER', 'HAMBURG-NEUWIEDENTHAL', 'HAMBURG-REITBROOK', 'HAMBURG-SANKT PAULI', 'ARTERN', 'HAMBURG-WANDSBEK', 'HAMELN', 'AACH', 'HANAU', 'HANKENSBUTTEL', 'HARBURG', 'ASCHAFFENBURG', 'HARZGERODE', 'HASELDORF', 'HASSELFELDE', 'HAUSSTEIN', 'HECHINGEN', 'WEDDINGSTEDT', 'ASCHERSLEBEN', 'HEIDELBERG', 'KONIGSTUHL', 'HEIDELBERG-GRENZHOF', 'HEIDENHEIM/BRENZ', 'HEIDENROD-MAPPERSHAIN', 'HEILBRONN', 'HEINSBERG-SCHLEIDEN', 'ASSLAR KLEIN-ALTENSTADTEN', 'HELMSTEDT', 'KR. DITHMARSCHEN HELSE', 'HERFORD', 'HERLESHAUSEN', 'HERRENBERG', 'HERRENHOF', 'HERRNHUT', 'NIEDERWORRESBACH', 'BAD HERSFELD', 'HERTEN', 'HERZBERG', 'ATTENKAM', 'HIDDENSEE-VITTE', 'HILDESHEIM', 'HILGENROTH', 'AU I.D.HALLERTAU-GUNZENHAUSEN', 'HINDFELD', 'EISFELD-WAFFENROD-HINTERROD', 'AUE', 'HOLLENSTEIN (KRAFTWERK)', 'BERTSDORF-HORNITZ', 'HOF (STADT)', 'HOFHEIM', 'HOHLSTEDT-KOTSCHAU', 'HOHN', 'HOHWACHT', 'HOLZDORF (FLUGPLATZ)', 'HOLZHAUSEN A.D. HAIDE', 'HOLZKIRCHEN', 'AUGSBURG (SANKT STEPHAN)', 'KR. HOLZMINDEN BEVERN', 'HOLZMINDEN-SILBERBORN', 'HOMBERG/OHM', 'HOMBURG/SAAR', 'HOPSTEN (FLUGPLATZ)', 'HORLACHEN', 'HORNISGRINDE', 'HOYERSWERDA (PH)', 'HUELL', 'HUMMERICH', 'HUSUM', 'IDAR-OBERSTEIN', 'IHRINGEN', 'INGELFINGEN', 'INGOLSTADT (FLUGPLATZ)', 'MITTBACH', 'ISERLOHN-WESTIG', 'ITZEHOE', 'SCHLESWIG-JAGEL', 'AURICH', 'JESSEN/ELSTER', 'JEVER', 'JORK', 'JULICH (FORSCH.-ANLAGE)', 'JUTERBOG', 'KAHL/MAIN', 'KAISERSBACH-CRONHUTTE', 'KAISHEIM-NEUHOF', 'KALKAR', 'KALL-SISTIG', 'HEILIGENSTADT-KALTENEBER', 'KALTENNORDHEIM', 'KARLSHULD', 'KASSEL-HARLESHAUSEN', 'KAUFBEUREN', 'KAUFERING', 'KEHL-ODELSHOFEN', 'KIEL-KRONSHAGEN', 'KIRCHBERG/JAGST-HERBOLDSHAUSEN', 'KIRCHDORF/POEL', 'BADEN-BADEN-GEROLDSAU', 'BAD KISSINGEN', 'MULLHEIM', 'KITZINGEN', 'KLEINER FELDBERG/TAUNUS', 'KLEIN RONNAU', 'KLEINER INSELSBERG', 'KLEINMACHNOW', 'KLETTWITZ', 'KLEVE', 'KLIPPENECK', 'KLITZSCHEN BEI TORGAU', 'KNITTLINGEN', 'KOBLENZ-HORCHHEIM', 'KOLN-BOTANISCHER GARTEN', 'BAD KONIGSHOFEN', 'KONIGSMOOR', 'BAIERSBRONN-OBERTAL', 'KONIGSMOOS-UNTERMAXFELD', 'KOSCHING', 'BAD KOSEN', 'KOTERBERG', 'KOTHEN (ANHALT)', 'BAD KOHLGRUB (ROSSHOF)', 'KORBACH-LENGEFELD', 'BAINDT', 'KRONACH', 'KRUMBACH-EDENHAUSEN', 'KUKELS', 'KUMMERSBRUCK', 'KUNZELSAU', 'KULMBACH', 'KUMHAUSEN', 'KUSEL-FUNFBIRKEN', 'KYRITZ', 'LAAGE (FLUGPLATZ)', 'MERKLINGEN', 'LAMSPRINGE', 'LANDSBERG (FLUGPLATZ)', 'LANDSBERG/LECH', 'LANDSHUT', 'BAMBERG-ALTENBURG', 'BAMBERG (STERNWARTE)', 'LANGENLIPSDORF', 'BAD LANGENSALZA', 'LANGEOOG', 'LATHEN', 'BAD LAUCHSTADT', 'LAUDA-KONIGSHOFEN-GERLACHSHEIM', 'LAUPHEIM', 'BARGISCHOW-GNEVEZIN', 'LECHFELD', 'LECK (A)', 'LECK', 'LEHBEK', 'LEHESTEN/THURINGER WALD', 'LEIBLFING', 'LEINAU', 'LEINEFELDE', 'LEIPZIG-HOLZHAUSEN', 'LENNESTADT-THETEN', 'LENNINGEN-SCHOPFLOCH', 'BARSINGHAUSEN-HOHENBOSTEL', 'LENSAHN', 'LENZEN/ELBE', 'KOLN-STAMMHEIM', 'LICHTENHAIN-MITTELNDORF', 'BARTH', 'BAD LIEBENZELL', 'LILIENTAL', 'LIMBURG/LAHN-OFFHEIM', 'LIMBURGERHOF', 'LINDENBERG/ALLGAU', 'LINDENFELS-WINTERKASTEN', 'LINGEN', 'LIPPSTADT-BOKENFORDE', 'BAD LOBENSTEIN', 'BARUTH', 'LOHNBERG-OBERSHAUSEN', 'LONINGEN', 'LONINGEN-HAGEL', 'LOHR/MAIN-STEINBACH', 'LORCH/RHEIN', 'LUDWIGSHAFEN-MUNDENHEIM', 'LUBBEN-BLUMENFELDE', 'LUBECK', 'LUBECK-BLANKENSEE', 'LUBECK-WERFT', 'LUCHOW', 'LUDENSCHEID (ZEPPELIN-GYMNASIUM)', 'LUDENSCHEID', 'LUDINGHAUSEN', 'LUNEBURG', 'LUISENTHAL (TALSPERRE )', 'MAINHARDT-ZIEGELBRONN', 'MAINZ-LERCHENBERG (ZDF)', 'MAISACH-GERNLINDEN', 'MALLERSDORF/NIEDERBAYERN', 'KR. BAUTZEN KUBSCHUTZ', 'MANDERSCHEID-SONNENHOF', 'MANSCHNOW', 'VATTERODE-GRAFENSTUHL', 'KR. MARBURG-BIEDENKOPF COLBE', 'MARIENBERG', 'BAD MARIENBERG', 'MARIENLEUCHTE', 'MARTINRODA', 'HEINERSREUTH-VOLLHOF', 'MAUTH-FINSTERAU', 'MAYEN', 'MEERBECK', 'MEERSBURG', 'MEHRINGEN', 'MEINERZHAGEN (A)', 'GARSEBACH BEI MEISSEN', 'MELLE', 'MEMMINGEN', 'MEMMINGEN (FLUGPLATZ)', 'MENDIG', 'MEPPEN', 'BAD-NEUNKIRCHEN MERGENTHEIM', 'MESSSTETTEN', 'BECKUM-UNTERBERG', 'METTEN', 'METZINGEN', 'BEDERKESA', 'MICHELSTADT', 'MICHELSTADT-VIELBRUNN', 'SCHMIERITZ-WELTWITZ', 'MILTENBERG', 'MITTEL-GRUNDAU', 'MITTENWALD-BUCKELWIESEN', 'BEERFELDEN', 'MODAUTAL-NEUNKIRCHEN', 'MOLLN', 'ROLLBACH', 'MONCHENGLADBACH', 'MONTABAUR', 'MORINGEN-LUTTERBECK', 'BEHRENSDORF', 'MUHLACKER', 'MUHLDORF', 'MUHLHAUSEN', 'MUNCHEBERG', 'MUNCHEN-BOGENHAUSEN', 'MUNCHEN-BOTANISCHER GARTEN', 'MUNCHEN-NYMPHENBURG', 'MUNCHEN-PERLACH', 'MUNCHEN-RIEM', 'MUNSINGEN-APFELSTETTEN', 'MURRHARDT', 'BAD MUSKAU', 'BELM', 'NAGOLD', 'BAD NAUHEIM', 'NEUBRANDENBURG', 'NEUBURG/DONAU (FLUGPLATZ)', 'NEUBURG/KAMMEL-LANGENHASLACH', 'NEUDENAU', 'BENDORF', 'BAD-AHRWEILER NEUENAHR', 'MENZ', 'NEUHAUS AM RENNWEG', 'NEUHAUSEN OB ECK', 'NEUHAUSEN OB ECK-UNTERSCHWANDORF', 'NEUKIRCHEN-HAUPTSCHWENDA', 'NEULAND', 'NEUMUNSTER', 'NEUNKIRCHEN-SEELSCHEID-KRAWINKEL', 'NEUNKIRCHEN-SEELSCHEID-MEISENBACH', 'NEUNKIRCHEN-WELLESWEILER', 'BENSHEIM', 'NEUSTADT/AISCH', 'NEUSTADT AM KULM-FILCHENDORF', 'NEUSTADT/WEINSTRASSE', 'NEUSTADT/WEINSTRASSE (HEIDEHOF)', 'NEUSTRELITZ', 'REGENSBURG-BURGWEINTING', 'NIDDERAU-WINDECKEN', 'NIDEGGEN-SCHMIDT', 'NIEDERELBERT', 'NIEDERSTETTEN', 'NIEDERSTOTZINGEN', 'NIENBURG', 'REIMLINGEN', 'NORVENICH (FLUGPLATZ)', 'NORDHOLZ (FLUGPLATZ)', 'NORDHORN', 'NURBURG', 'BERG/OBERPFALZ', 'NURNBERG-BUCHENBUEHL', 'NURNBERG-NETZSTALL', 'NURTINGEN', 'NUFRINGEN', 'KIEFERSFELDEN-GACH', 'BERGEN', 'OBERNDORF/NECKAR-AISTAIG', 'OBERSCHLEISSHEIM', 'OBERSULM-WILLSBACH', 'OBERTAUFKIRCHEN', 'OBERVIECHTACH', 'OBERWESER-GIESELWERDER', 'OCHSENHAUSEN-MITTELBUCH', 'OCHSENKOPF', 'OCHTRUP', 'OFFENBACH/M. (STADT)', 'OFFENBURG', 'BAD BERGZABERN', 'OLDENBURG (A)', 'OLDENBURG', 'OSCHATZ', 'OSNABRUCK', 'OSTERFELD', 'OSTERHOF', 'OSTHEIM V.D. RHON', 'OY-MITTELBERG', 'OY-MITTELBERG-PETERSTHAL', 'PAPENBURG', 'BAD BERLEBURG', 'PARSBERG/OBERPFALZ-EGLWANG', 'PASSAU-MAIERHOF', 'PASSAU-OBERHAUS', 'PAUSA-UNTERREICHENAU', 'PELZERHAKEN', 'PERL-BESCH', 'PERL-NENNIG', 'BAD-STUNZEL BERLEBURG', 'PETKUS', 'PFORZHEIM-EUTINGEN', 'PFORZHEIM-ISPRINGEN', 'PFULLENDORF', 'PHILIPPSBURG', 'PIRMASENS', 'PLAUEN', 'PLON (SEE)', 'POMMELSBRUNN', 'POMMELSBRUNN-MITTELBURG', 'PRIEN-STOCK', 'BERLIN-BUCH', 'PUCH', 'PUTBUS', 'QUAKENBRUCK', 'BERLIN-DAHLEM (LFAG)', 'QUEDLINBURG', 'QUERFURT-MUHLE LODERSLEBEN', 'QUICKBORN (KURZER KAMP)', 'QUICKBORN', 'RADOLFZELL-MARKELFINGEN', 'RAHDEN-VARL', 'RAISTING', 'RASTATT', 'RASTENBERG', 'RAUSCHBERG BEI RUHPOLDING', 'KR. RAVENSBURG WEINGARTEN', 'RECKLINGHAUSEN', 'BERLIN-KANISWALL', 'BAD REICHENHALL', 'MARIENBERG-REITZENHAIN', 'REMETSCHWIEL', 'REMSCHEID-LENNEP', 'RENDSBURG', 'RENNINGEN-IHINGER HOF', 'REUTLINGEN-BETZINGEN', 'RHEINAU-MEMPRECHTSHOFEN', 'BERLIN-LICHTENRADE', 'RHEINE-BENTLAGE', 'RHEINFELDEN', 'BERLIN-LICHTERFELDE (SUD)', 'KREIS BIBERACH ALTHEIM', 'BERLIN-MARZAHN', 'RODEWISCH', 'BERLIN-MITTE', 'ROHRIGSHOF BEI SCHLUCHTERN', 'ROETGEN', 'BERLIN-RUDOW', 'ROSENHEIM', 'ROTENBURG (WUMME)', 'ROTH BEI NURNBERG', 'BERLIN-SCHONEFELD', 'ROTH', 'ROTHENBURG OB DER TAUBER', 'BAD ROTHENFELDE', 'ROTTENBURG-KIEBINGEN', 'BERLIN-SPANDAU', 'ROTTWEIL', 'BAD KREUZNACH', 'RUHWINKEL', 'RUPPERTSECKEN', 'RUSEL-IRLMOOS', 'BERLIN-TEGELER FLIESSTAL', 'RUTESHEIM', 'SAALFELD', 'SAARBRUCKEN-SANKT JOHANN', 'SACHSENHEIM', 'BERLIN-TREPTOW', 'SALDENBURG-ENTSCHENREUTH', 'BERLIN-ZEHLENDORF', 'SALZGITTER-RINGELHEIM', 'SALZHEMMENDORF-LAUENSTEIN', 'BAD SALZUFLEN', 'SALZWEDEL', 'SANDBERG', 'SANKT PETER-ORDING', 'SANKT WENDEL-HOF', 'SANKT WENDEL-URWEILER', 'BAD-OSTINGHAUSEN SASSENDORF', 'SCHAAFHEIM-SCHLIERBACH', 'SCHALLSTADT-MENGEN', 'SCHAUMBERG-THOLEY', 'SCHEMMERHOFEN-INGERKINGEN', 'SCHENKLENGSFELD', 'SCHESSLITZ', 'SCHIEDER', 'SCHIERKE', 'BERNBURG/SAALE (NORD)', 'SCHLEIZ', 'SCHLESWIG-STADTFELD', 'SCHLOSSBOCKELHEIM', 'SCHLUCHTERN-KLOSTER GOMFRITZ', 'SCHLUCHTERN-HEROLZ', 'SCHMALENBECK', 'SCHMALKALDEN', 'SCHMATZFELD', 'SCHMELZ-HUTTERSDORF', 'GROSSENKNETEN', 'SCHMUCKE', 'SCHNEIFELFORSTHAUS', 'BERNKASTEL-KUES', 'SELB/OBERFRANKEN-LAUTERBACH', 'SCHOPFHEIM-EICHEN', 'SCHORNDORF-KNOBLING', 'SCHOTTEN', 'SCHULENBERG', 'SCHWABACH (A)', 'SCHWABISCH GMUND-STRASSDORF', 'SCHWABISCH HALL-BIBERSFELD', 'SCHWAIGERMOOS', 'BAD SCHWALBACH', 'SCHWANDORF', 'SCHWANEBECK', 'SCHWANGAU-HORN', 'SCHWARZBURG', 'BERUS', 'SCHWEINFURT-GARTENSTADT', 'SCHWESING', 'SEEHAUSEN', 'SEELSCHEID', 'SEESEN', 'BAD SEGEBERG', 'SELB/OBERFRANKEN-WILDENAU', 'SIEGEN (KLARANLAGE)', 'SIGMARINGEN (FLUGPLATZ)', 'SIGMARINGEN-LAIZ', 'SIGMARSZELL-ZEISERTSWEILER', 'SILBERHUTTE', 'SIMBACH/INN', 'SIMMERN-WAHLBACH', 'SINSHEIM', 'STEINAU-SEIDENROTH', 'SOLINGEN-HOHENSCHEID', 'SOLTAU', 'SONDERSHAUSEN', 'WARTHAUSEN-BIRKENHARD', 'SONNEBERG-NEUFANG', 'SONTRA', 'BAD SOODEN-ALLENDORF', 'SPEINSHART', 'SPOREN-PRUSSENDORF', 'BIEDENKOPF', 'STAMMBACH-QUERENBACH', 'STEGEN', 'KR. CUXHAVEN STEINAU', 'STEINBERG', 'MITTELNKIRCHEN-HOHENFELDE', 'STIEGE', 'STOCKACH', 'WAGERSROTT', 'STUTTGART (NECKARTAL)', 'STUTTGART-STADT', 'STUTTGART-HOHENHEIM', 'TANGERMUNDE', 'TANN/RHON', 'TAUBERBISCHOFSHEIM-DITTIGHEIM', 'TEGKWITZ', 'TETEROW', 'WORPSWEDE-HUTTENBUSCH', 'TEUSCHNITZ', 'THEESSEN', 'THOLEY', 'BISCHBRUNN', 'THUNGERSHEIM', 'TIEFENORT', 'TIRSCHENREUTH-LODERMUHL', 'TITISEE-NEUSTADT-LANGENORDNACH', 'TONISVORST', 'TORFHAUS IM SOLLING', 'TRAUNSTEIN-SPARZ', 'TRAUNSTEIN-AXDORF', 'TRAVEMUNDE', 'TRENT', 'TRIBSEES', 'TRIER-ZEWEN', 'TROCHTELFINGEN', 'TROCHTELFINGEN-WILSINGEN', 'TROLLENHAGEN', 'TROSTBERG', 'TUBINGEN', 'TUTTLINGEN', 'TUTTLINGEN-MOHRINGEN', 'TWISTETAL-MUHLHAUSEN', 'UBERLINGEN/BODENSEE', 'UECKERMUNDE', 'UELZEN', 'GOLLHOFEN', 'ULM', 'UMMENDORF', 'UNTERLUSS', 'UTTENREUTH', 'VILLINGEN-SCHWENNINGEN', 'VISBEK', 'VOLKLINGEN-STADT', 'VOGTSBURG-OBERROTWEIL', 'VOLDAGSEN', 'WACKERSLEBEN', 'BAD BLANKENBURG', 'WAGHAUSEL-KIRRLACH', 'WAHLEN', 'WAHLSBURG-LIPPOLDSBERG', 'WITTENBORN', 'WAIBLINGEN', 'WALDAU-JOSTAL', 'WALDECK', 'AHRENSBURG-WULFSDORF', 'WALDEMS-REINBORN', 'WALDHAUSER (NATIONAL PARK)', 'WALDSASSEN', 'WALDSHUT', 'WALTERSHAUSEN', 'WANGEROOGE', 'WARBURG', 'WAREN', 'BLANKENRATH', 'WARTENBERG-ANGERSBACH', 'WASSERBURG', 'WATZMANNHAUS', 'KR.ANSBACH WEIDENBACH', 'WEIGENHEIM-REUSCH', 'WEIHENSTEPHAN-DURNAST', 'WEILBURG (KLARANLAGE)', 'WEIMAR', 'WEIMAR-SCHONDORF', 'WEINBIET', 'WEINSBERG', 'WEISKIRCHEN/SAAR', 'WEISMAIN', 'WEISSACH', 'WEISSENBURG', 'WEISSENFELS', 'WEISSENSEE-OTTENHAUSEN', 'WEISWEIL-WALDECKHOF', 'WELLENDINGEN', 'WELLMITZ', 'WERL', 'KR. SCHWEINFURT MUHLHAUSEN', 'WERNIGERODE', 'WERTHEIM-EICHEL', 'BOBECK', 'WESTERLAND', 'WIELENBACH (DEMOLLSTR.)', 'BOCHOLT (MARIENSCHULE)', 'WIESBADEN-AURINGEN', 'WIESBADEN-DOTZHEIM', 'WIESENBURG', 'BOCHOLT', 'BAD-CALMBACH WILDBAD', 'BOCHUM', 'NEUBULACH-OBERHAUGSTETT', 'BAD WILDUNGEN', 'WILHELMSHAVEN', 'REMS-MURR-KREIS WINTERBACH', 'WISMAR', 'WITTENBERG', 'WITTMUNDHAFEN', 'WITTSTOCK', 'WITTSTOCK-ROTE MUHLE', 'WITZENHAUSEN', 'WORNITZ-BOTTENWEILER', 'WOLDEGK', 'WOLFACH', 'WOLFSBURG', 'WOLFSBURG (SUDWEST)', 'WOLFSTEIN/PFALZ', 'WORMS', 'WURZBURG (KLARWERK)', 'WURZBURG (PHYSIKALISCHES-INSTITUT)', 'WUNSTORF', 'WUPPERTAL-BUCHENHOFEN', 'REMSCHEID', 'WUSTRAU-ZIETHENHORST', 'WUTOSCHINGEN-OFTERINGEN', 'WRIXUM/FOHR', 'ZEHDENICK', 'ZEITZ', 'ZERBST', 'BOBLINGEN', 'ZINNOWITZ', 'ZINNWALD-GEORGENFELD', 'BOHMING', 'LICHTENTANNE', 'ZWIESEL', 'ZWIESELBERG', 'BASSUM (A)', 'BERGE', 'DANNENBERG', 'KIRCHHEIM/TECK-OTLINGEN', 'BOFFZEN', 'BAD KOHLGRUB (A)', 'MAINBURG', 'MELSUNGEN-BURSTOSS', 'BOIZENBURG', 'NEUWIED', 'BOKEL', 'SCHONHAGEN (OSTSEEBAD)', 'REIT IM WINKL', 'BOLTENHAGEN', 'WELZHEIM (A)', 'BONN', 'BONN-FRIESDORF', 'BONN-ROLEBER', 'BOOS', 'MELCHOW-SCHONHOLZ', 'WENDISCH EVERN', 'TAUBENHEIM-SEELIGSTADT', 'OSTENFELD (RENDSBURG)', 'GRAMBOW-SCHWENNENZ', 'MEDOW-WUSSENTIN', 'STRALSUND-DEVIN', 'SOHLAND/SPREE', 'BORGENTREICH-BUHNE', 'WANGERLAND-HOOKSIEL', 'WEIDENBACH-WEIHERSCHNEIDBACH', 'DORPEN', 'DORNICK', 'COSCHEN', 'BORKEN IN WESTFALEN', 'MALLERSDORF-PFAFFENBERG', 'NASTATTEN', 'SELB-SPIELBERG', 'LUGDE-PAENBRUCH', 'STEINHAGEN-NEGAST', 'BORKUM-SUDERSTRASSE', 'AITERHOFEN', 'SAARBRUCKEN-BURBACH', 'DOLLNSTEIN-BREITENFURT', 'FRIEDRICHSHAFEN-UNTERRADERACH', 'GROSSERLACH-MANNENWEILER', 'INGELFINGEN-STACHENHAUSEN', 'SCHWABISCH GMUND-WEILER', 'SINGEN', 'BRILON-THULEN', 'WUSTERWITZ', 'PABSTORF', 'MOORGRUND GRAFEN-NITZENDORF', 'DEMKER', 'NOTZINGEN', 'PILSACH-LITZLOHE', 'MUHLHAUSEN-GORMAR', 'KARLSHAGEN', 'MARKT ERLBACH-MOSBACH', 'NOSSEN', 'LOHR/MAIN-HALSBACH', 'LUDINGHAUSEN-BROCHTRUP', 'RUNKEL-ENNERICH', 'MAISACH-GALGEN', 'SCHONUNGEN-MAINBERG', 'BRAKE', 'BRAKE-SUDERFELD', 'BRAMSCHE', 'BRANDE-HORNERKIRCHEN', 'BRANDENBURG-GORDEN', 'HAGENBUCHACH', 'BRAUNLAGE', 'BRAUNSCHWEIG-GLIESMARODE', 'BRAUNSCHWEIG (T.H.)', 'BRAUNSCHWEIG', 'BREITSOL', 'BREMEN-SEEFAHRTSCHULE', 'BREMERHAVEN', 'BREMERHAVEN-SPECKENBUTTEL', 'BREMERVORDE (A)', 'BREMERVORDE', 'BREMERVORDE-NIEDEROCHTENHAUSEN', 'ESCHBACH', 'ELSENDORF-HORNECK', 'LIEBENBURG-OTHFRESEN', 'ALBSTADT-EBINGEN', 'SIEGSDORF-HOLL', 'BIELEFELD-DEPPENDORF', 'BRETTEN', 'BRILON', 'FREUDENBERG/MAIN-BOXTAL', 'ALBSTADT-BADKAP', 'BROMBACHTAL-KIRCH-BROMBACH', 'HATTSTEDT', 'BROTTERODE', 'ALBSTADT-ONSTMETTINGEN', 'DONAUWORTH-OSTERWEILER', 'OLBERSLEBEN', 'TREUEN', 'ARNSBERG-NEHEIM', 'HERMARINGEN-ALLEWIND', 'DEUTSCHNEUDORF-BRUDERWIESE', 'PRACKENBACH-NEUHAUSEL', 'FELDBERG/MECKLENBURG', 'JESSNITZ', 'ALFELD', 'EISENACH', 'FEUCHTWANGEN-HEILBRONN', 'BRUCKEN', 'WALDMUNCHEN', 'BORKUM-FLUGPLATZ', 'AHAUS', 'HECKELBERG', 'BAD BRUCKENAU (A)', 'HOYERSWERDA', 'WUNSIEDEL-SCHONBRUNN', 'GOTTFRIEDING', 'HOHERODSKOPF/VOGELSBERG', 'ALDERSBACH-KRIESTORF', 'LEUTKIRCH-HERLAZHOFEN', 'NEU-ULRICHSTEIN', 'NEUHUTTEN/SPESSART', 'LANGENWETZENDORF-GOTTENDORF', 'KREIPITZSCH BEI BAD KOSEN', 'PIDING', 'PADENSTEDT (PONY-PARK)', 'VEILSDORF', 'OBERHACHING-LAUFZORN', 'WITTINGEN-VORHOP', 'KR. NECKAR-ODENWALD BUCHEN', 'BUCHENBACH', 'BUCHHOLZ IN DER NORDHEIDE', 'BUCHEL (FLUGPLATZ)', 'BUCKEBURG', 'BUDINGEN', 'BUHLERTAL', 'BUHLERTAL-OBERTAL', 'ALFHAUSEN', 'BUHLENBERG', 'SCHLUSSELFELD (KLARANLAGE)', 'BURGWALD-BOTTENDORF', 'CARLSFELD', 'CELLE (STADT)', 'CELLE', 'PEMFLING-PITZLING', 'CHEMNITZ', 'CHIEMING', 'CLAUSTHAL-ZELLERFELD', 'CLOPPENBURG', 'LAUTERTAL-OBERLAUTER', 'COTTBUS (FLUGPLATZ)', 'CRAILSHEIM-ALEXANDERSREUT', 'CRIMMITSCHAU', 'DACHWIG', 'DARMSTADT', 'DARMSTADT (A)', 'DARMSTADT-BOTANISCHER GARTEN', 'ALSFELD-EIFA', 'DEGGENHAUSERTAL-AZENWEILER', 'ALSFELD-REIBERTENROD', 'DESSAU', 'DEUSELBACH', 'DIEPHOLZ', 'DIERFELD', 'DIESBAR-SEUSSLITZ', 'DIETENHOFEN', 'DILLENBURG', 'DILLINGEN/DONAU', 'DILLINGEN/DONAU-FRISTINGEN', 'ALTASTENBERG', 'DIPPOLDISWALDE-REINBERG', 'AS - RUSTADSKOGEN', 'NELAUG', 'LANDVIK', 'BYKLE - KULTRAN', 'BYGLANDSFJORD', 'BYGLANDSFJORD II', 'BYGLANDSFJORD - SOLBAKKEN', 'GOL - STAKE', 'ALTA LUFTHAVN', 'HAMMERFEST LUFTHAVN', 'HONNINGSVAG LUFTHAVN', 'MEHAMN LUFTHAVN', 'BERLEVAG LUFTHAVN', 'VADSO LUFTHAVN', 'HAMAR II', 'HAMAR - STAVSBERG', 'MIDTLAEGER', 'FISKABYGD', 'BRUSDALSVATN II', 'HILDRE', 'SVINOY FYR', 'MOLDE LUFTHAVN', 'KRISTIANSUND - KARIHOLA', 'KRISTIANSUND LUFTHAVN', 'SMOLA - MOLDSTAD', 'ORSTA-VOLDA LUFTHAVN', 'VIGRA', 'ALVUNDFJORD', 'BRONNOYSUND LUFTHAVN', 'EVENES LUFTHAVN', 'LEKNES LUFTHAVN', 'SANDNESSJOEN LH - STOKKA', 'MO I RANA III', 'VALLJORD', 'NARVIK LUFTHAVN', 'SVOLVAER LUFTHAVN', 'STOKMARKNES LH - SKAGEN', 'MO I RANA LUFTHAVN', 'NAMSOS LUFTHAVN', 'SKLINNA FYR', 'VENABU', 'SOGNEFJELLHYTTA', 'LOKEN I VOLBU', 'FILEFJELL - KYRKJESTOLANE', 'OSLO - VESTLI', 'OSLO - BLINDERN PLU', 'ASKIM II', 'HAUGESUND LUFTHAVN', 'SANDNES - ROVIK', 'NEDRE VATS', 'FURENESET', 'FLORO LUFTHAVN', 'SOGNDAL LUFTHAVN', 'SANDANE', 'SANDANE LUFTHAVN', 'SVELGEN II', 'KONGSVOLL FJELLSTUE', 'BREIVOLL', 'BUHOLMRASA FYR', 'SOVATNET', 'SULA', 'SULA FYR', 'NY-ALESUND I', 'NY-ALESUND', 'BERGELIGREND', 'MOSSTRAND II', 'SKIEN - GEITERYGGEN', 'HEKKINGEN FYR', 'TROMSO - LANGNES', 'SORKJOSEN LUFTHAVN', 'NORDSTRAUM I KVAENANGEN', 'KRISTIANSAND - SOMSKLEIVA', 'TONSTAD - NETTFED', 'MELSOM', 'TORP', 'SMYGEHUK', 'FALSTERBO_A', 'MAGLARP', 'SANDHAMMAREN', 'JORDBERGA', 'YSTAD', 'SKILLINGE_A', 'BOLLERUP', 'RYNGE_V', 'HOKOPINGE', 'STURUP', 'SIMRISHAMN', 'MALMO', 'OSKARSGRUNDET_NO', 'MALMO_2', 'SANKT_OLOF', 'ALNARP', 'STENSHUVUD', 'BJORKA', 'LUND_LTH', 'ORTOFTA', 'HORBY_A', 'TROLLENAS', 'ORJA', 'VEN', 'STEHAG', 'SVALOV', 'KRISTIANSTAD_EVEROD', 'UTKLIPPAN', 'RINKABY', 'KRISTIANSTAD', 'HANO_A', 'KRISTIANSTAD_V', 'HELSINGBORG_A', 'UNGSKAR', 'HELSINGBORG', 'KARPALUND', 'OLANDS SODRA GRUND 1', 'LJUNGBYHED', 'HASSLARP', 'KARLSKRONA-SODERSTJ.', 'OLANDS SODRA UDDE', 'OLANDS SODRA UDDE A', 'MARIELUND', 'MUNKA-LJUNGBY', 'NYHAMNSLAGE', 'HASTVEDA_MO', 'KULLEN', 'OSBY', 'SKANES_FAGERHULT', 'HUNNESTORP_V', 'HALLANDS_VADERO_A', 'HALLANDS_VADERO', 'RYD', 'MARKARYD', 'URSHULT-KUNNINGE', 'VISSEFJARDA', 'KNARED', 'MORBYLANGA', 'TINGSRYD-DEGERHAGA', 'EKEFORS', 'GENEVAD', 'RORSBO', 'OLVINGSTORP', 'EMMABODA', 'OLANDSBRON V', 'KALMAR', 'HALMSTAD', 'KALMAR_FLYGFLOTTILJ', 'KALMAR_FLYGPLATS', 'HALMSTAD FLYGFLOTTILJ', 'URASA', 'SIMLANGSDALEN', 'SINGESHULT', 'LESSEBO', 'EKERUM', 'LJUNGBY', 'SKEDEMOSSE', 'KOSTA_MO', 'VAXJO_A', 'LJUNGBY_A', 'FROSLIDA', 'EFTRA-BROEN_V', 'FALKENBERG', 'HOBURG_A', 'VAXJO-KRONOBERG', 'GLOMMEN', 'JONSTORP', 'SANDBACKSHULT', 'NASUDDEN', 'VARBERG', 'GRIMETON', 'ULLARED_A', 'BERG', 'STORA_SEGERSTAD', 'ASEDA', 'LAESO_OST_A', 'FAGERED', 'DRAGERYD', 'BLANKASTROM', 'KALLSJO', 'HEMSE', 'RINGHALS 1', 'RINGHALS', 'OSKARSHAMN', 'MOSSEN', 'GISLAVED', 'HAGSHULTS_FLYGPLATS', 'STORA_KARLSO', 'OLANDS NORRA UDDE A', 'HESTRA', 'ALLGUNNEN', 'BUTTLE', 'NAVELSJO', 'AMBJORNARP', 'VETLANDA', 'HERRVIK', 'OSTERGARNSHOLM_A', 'OSTERGARN', 'NAGLARP', 'ORBY', 'ROSSARED', 'ROMA_V', 'TOMTABACKEN_A', 'ROMA_AUT', 'SANDSJOBACKA', 'SPINKABO', 'GODEBERG', 'TRUBADUREN', 'HASSLEBY', 'VINGA', 'TOVEHULT', 'NASSJO', 'FAGERHULT', 'BOLLEBYGD', 'VISBY_FLYGPLATS', 'LANDVETTER_FLYGPLATS', 'VIMMERBY', 'FLAHULT', 'GLADHAMMAR_A', 'TORSLANDA', 'GUNNEBO', 'VASTERVIK', 'DALSJOFORS', 'PRASTKULLA', 'JONKOPINGS_FLYGPLATS', 'ULRICEHAMN', 'RANGEDALA_A', 'HUSKVARNA', 'ANEBY', 'SAVE-SKALVISERED', 'KARNA', 'RAMSJOHOLM', 'STRANDVALLEN', 'UDDABO', 'OGESTAD', 'HORN_A', 'LOMMARYD', 'FARO', 'MULLSJO', 'FAROSUND_AR_A', 'MOLLA', 'TINGHALLA', 'ALVHEM', 'VARGARDA-HAGRUNGA', 'TYLLINGE', 'SABY', 'TRANAS_AUT', 'MALEXANDER', 'GRANNA', 'TRANAS', 'GARN', 'RORASTRAND', 'MALEXANDER_A', 'KYMBO_V', 'SIMONSTORP', 'VISINGSO', 'MASESKAR_A', 'VISINGSO_A', 'FALERUM', 'FALKOPING', 'GENDALEN', 'ASBRACKA-TORPABRON_V', 'ATVIDABERG', 'VALDEMARSVIK', 'LJUNGSKILE', 'LANGJUM', 'HOGSTENA', 'HARSTENA', 'BJARKA-SABY', 'BORGUNDA', 'HARSNAS', 'TROLLHATTAN', 'TROLLHATTANS FLYGPLATS', 'HALLUM_A', 'HALLO', 'HOLMA', 'LANNA', 'UDDEVALLA', 'VANERSBORG', 'SMOGEN', 'SKARA-STENUM', 'SKARA-VASTERSKOG', 'OJEBRO', 'HERRBERGA', 'SKOVDE', 'SKARA 1', 'SKARA', 'SKARA-EKEBERG', 'ORBERGA', 'SATENAS_D', 'VASTERLOSA', 'REMNINGSTORP', 'LIDKOPING', 'SKARKIND', 'KARLSBORG_MO', 'BJORNEGARDEN', 'DINGLE', 'MARVIKEN', 'VADEROBOD', 'VASTERPLANA', 'SVARTEBORG', 'AXSTAL_MO', 'STORA_VADERO', 'BALLEFORS', 'NORRKOPING-SMHI', 'NORRKOPING KUNSANGEN', 'GUSTAF_DALEN_A', 'ERIKSTAD-BERGARUD_V', 'NORRKOPING', 'KROPPEFJALL-GRANAN_A', 'NORRKOPING-SORBY', 'KVARN_MO', 'HUD_V', 'ERIKSTAD', 'FAGRE', 'VASTRA_NY', 'OXELOSUND', 'KOLMARDEN-STROMSFORS', 'NAVEN_A', 'MARIESTAD', 'FINSPANG 1', 'KETTSTAKA_A', 'STAVSJO', 'LANDSORT_A', 'SIMONSTORP_O', 'ODEBYN', 'NYKOPINGS_FLYGPLATS', 'LURO 1', 'ALGARAS', 'GODEGARD', 'LURO', 'ZINKGRUVAN', 'URSHOLMEN', 'KARNSKOGEN', 'MARIEDAMM', 'GARDSJO_A', 'ASKERSUND', 'AKERSHUS', 'TROSA', 'BASTORP', 'STROMSTAD', 'HUVUDSKAR_OST_A', 'UTO', 'SNAVLUNDA', 'STABBO', 'RIPSA', 'VALLA', 'HOGSJO', 'STRANGSTORP', 'AMAL', 'FLODA_A', 'FLODAFORS', 'ATORP', 'RIKSTEN', 'SAFFLE', 'DUNKER', 'ALMAGRUNDET_A', 'SODERTALJE', 'STORMYRA', 'BREDVIKEN', 'BLOMSKOG_A', 'OREBRO_A', 'DEGERFORS', 'EKLANGEN', 'AKERS_STYCKEBRUK', 'MARIEFRED', 'OREBRO_AUT', 'OREBRO', 'VILLINGSBERG', 'BLOMSKOG', 'SANDHAMN', 'STAVSNAS_A', 'LENNARTSFORS', 'NYCKLEBY', 'KRISTINEHAMN', 'GUSTAVSBERG', 'VINGAKER', 'STOCKHOLM_A', 'VARTAN', 'ESKILSTUNA_MO', 'ADELSO_A', 'KARLSTAD_AUT', 'ULVHALL', 'BECKOMBERGA', 'ESKILSTUNA', 'LYCKAS', 'STRANGNAS', 'BARKARBY', 'ROSKAR', 'SVENSKA_HOGARNA_A', 'HUSARO', 'KOPING', 'FELLINGSBRO-FINNAKER', 'SVENSKA_BJORN', 'LINDESBERG', 'SUTTERHOJDEN', 'VASTERAS-HASSLO', 'DJURSKOG', 'ASPHYTTAN', 'MOLKOM', 'ASKE', 'STOCKHOLM-ARLANDA', 'GRONBO', 'ENKOPING_MO', 'ARLANDA', 'KARSTA', 'DAGLOSEN_A', 'ARVIKA', 'VINGAKER', 'ARVIKA_A', 'GAMMELKROPPA', 'FILIPSTAD', 'PERSBERG', 'UTTERSBERG', 'NORRTALJE', 'SODERARM', 'RIDDARHYTTAN', 'ULTUNA', 'SVANBERGA_A', 'SKINNSKATTEBERG', 'SUNNE', 'NORRTALJE-VASBY', 'UPPSALA_AUT', 'HANGSTAD', 'SUNNE_A', 'KLOTEN', 'KLOTEN_A', 'HOGSATER', 'UPPSALA_FLYGPLATS', 'SALA', 'SALA_A', 'STALLDALEN', 'FORSHULT', 'STANGFALLET', 'EDEBACK', 'BROVALLEN', 'TORSBY', 'SKEPPSMORA_V', 'SONNBO', 'FREDRIKSBERG', 'AVESTA', 'GUSTAVSFORS', 'GUSTAVSFORS_A', 'SINGO', 'FOLKARNA', 'RISINGE', 'LEJEN', 'DANNEMORA', 'FILMS_KYRKBY', 'KERSTINBO_A', 'UNDERSTEN', 'VASBY', 'OSTMARK-LAMBACKEN', 'OSTMARK-RANNBERG', 'RAMSHYTTAN', 'OREGRUND', 'OSTMARK-ROJDASEN', 'IDKERBERGET', 'STORA_SPANSBERGET_A', 'UNTRA', 'STJARNSUND', 'BORLANGE_AUT', 'DOMNARVET', 'GRUNDKALLEN', 'BORLANGE', 'MOCKFJARD', 'ORSKAR_A', 'VASSBO', 'FAGERVIKEN', 'HAMMARBY', 'GRADA_KRAFTVERK', 'SANDVIKEN', 'BRATTMON_V', 'FLATEN', 'GAVLE', 'MALUNG_A', 'SAGMYRA 1', 'GAVLE_A', 'LEKSAND', 'EGGEGRUND', 'UTVALNAS', 'VINTJARN', 'VASTRA_BANKEN', 'SILJANSFORS', 'HOLJES', 'BACKA', 'MORA_A', 'AMOTSBRUK', 'KNAS', 'SVABENSVERK', 'DALSTUGA', 'SALEN-HOGFJALLET_V', 'RORBACKSNAS', 'STORFJALLET-SALEN', 'STORJUNGFRUN', 'SALEN', 'TANDADALEN', 'ALVDALEN_A', 'ALVDALEN_11', 'GRUNDFORSEN', 'EDSBYN_A', 'EDSBYN', 'ROSTEBO', 'DONJE', 'KVARNBERG', 'NOPPIKOSKI', 'KRACKELBACKEN', 'AGO', 'ULVSJO', 'HOLICK', 'HAMRA', 'HAMRA_A', 'SARNA', 'SARNA_A', 'KUGGOREN', 'JARVSO', 'HUDIKSVALL', 'DELSBO', 'DELSBO_A', 'LJUSDAL', 'IDRE-STORBO_V', 'BJURAKER', 'FLOTNINGEN', 'LILLHARDAL', 'IDRE_FJALL_A', 'GRAN', 'FINNEBY', 'SVEG_A', 'DRAVAGEN_A', 'GROVELSJON', 'LOFSDALEN', 'BRAMO', 'YTTERHOGDAL', 'BRAMON', 'LORUDDEN', 'NORRBERG-NORRHOG_V', 'SIDSJO', 'SUNDSVALL', 'HEDE', 'HEDEVIKEN', 'SUNDSVALL-RASTA_V', 'TORPSHAMMAR_A', 'KLOVSJOHOJDEN_A', 'FRANSTA', 'FRANSTA_11', 'SORAKER', 'KLOVSJO', 'LJUSNEDAL', 'FJALLNAS', 'HARNO', 'LUNGO', 'SKALAN', 'FLATRUET_V', 'HUNGE', 'HUNGE_A', 'BORTNAN_A', 'SILLRE_V', 'LJUNGA', 'STORSJO_KAPELL', 'JARKVISSLE', 'NORDVIK', 'ULLANGER', 'BISPGARDEN', 'BISPGARDEN 1', 'SYLARNA', 'BYDALEN_V', 'VIKSBACKEN', 'KRAMFORS-GISTGARDSON', 'HOGLEKARDALEN', 'VASTMARKUM_A', 'BOLESTRAND', 'KRANGEDE_A', 'NORDERON', 'LANNAS', 'SOLLEFTEA', 'BLAHAMMAREN_A', 'SKAGSUDDE', 'FROSON_D', 'ROSTA', 'TRILLEVALLEN_V', 'STORLIEN-STORVALLEN', 'STORLIEN', 'MO 1', 'MORSIL', 'MATTMAR_V', 'KASA', 'UNDERSAKER', 'ARE-BJORNANGE_V', 'SYDOSTBROTTEN', 'DUVED', 'ARE', 'ORNSKOLDSVIKS FLYGPLATS', 'ARESKUTAN', 'JARNASKLUBB_A', 'BREDBYN', 'NORDMALING', 'HOLMOGADD A', 'STORFINNFORSEN', 'SIKASKALEN', 'HEMLING_A', 'HEMLING', 'FOLLINGE_A', 'GISSELAS', 'HALLVIKEN', 'FOLLINGE-VAGSKALET', 'HALLHAXASEN_A', 'OVERANG', 'UMEA_FLYGPLATS', 'ROBACKSDALEN', 'UMEA', 'KORSVATTNET_A', 'STROMSUND', 'ALASEN', 'VANNAS', 'TEGELTRASK', 'STORA_STENSJON', 'EDEVIK', 'ALMDALEN', 'BJORKEDE', 'FREDRIKA_A', 'FREDRIKA', 'HOTING_A', 'HOTING', 'VINDELN-SUNNANSJONAS', 'ASELE', 'ASELE_A', 'KULBACKSLIDEN', 'GUBBHOGEN_A', 'HALLNAS-LUND', 'MUNSVATTNET', 'LOVANGER', 'HOKMARKSBERGET_V', 'NORRAKER', 'VASTANTRASK', 'IDVATTNET', 'KORSSELBRANNA', 'BJUROKLUBB', 'KROKSJO', 'LYCKSELE_A', 'HOGLAND', 'PETISTRASK_A', 'VILHELMINA_A', 'SKELLEFTEA_FLYGPLATS', 'LAXBACKEN', 'RISTRASK_V', 'URSVIKEN', 'JORMLIEN', 'KLUTMARK', 'BRANNAKERSFJALLET_V', 'SKELLEFTEA', 'ULVOBERG', 'ANKARVATTNET', 'NORSJO', 'FURUOGRUND', 'NORSJO_A', 'STORLIDEN', 'SAXNAS_V', 'GUNNARN_A', 'MARSLIDEN', 'BLAIKLIDEN', 'KLIMPFJALL', 'STEKENJOKK_A', 'LANGVATTNET', 'FALLFORS_MO', 'FALLFORS', 'MALA-BRANNAN_A', 'MALA', 'PITSUND', 'DIKANAS', 'HARAHOLMEN', 'KITTELFJALL', 'PITEA', 'GLOMMERSTRASK', 'MYRHEDEN', 'RODKALLEN_A', 'DIKANAS_SKANSNAS', 'GIELAS_A', 'FARSTUGRUNDEN', 'SALTMYRAN', 'STORBERG', 'ABELVATTNET', 'SORSELE', 'DANASJO', 'BURESJON_A', 'LULEA-BERGNASET', 'ARVIDSJAUR_A', 'LULEA', 'ALVSBYN_A', 'BOKSJO', 'ALVSBYN_M', 'STORON_A', 'SUNDERBYN', 'TARNABY', 'STOROHAMN', 'SAVAST_V', 'VINDEL-STORSJO', 'HEMAVAN-GIERTEVARTO A', 'BRANNBERGS FORSOKSGARD', 'BODEN', 'VINDEL-BJORKHEDEN', 'HAPARANDA_A', 'HEDNORET', 'KALIX', 'VIDSEL_MO', 'VIDSEL', 'HOGSON', 'SUDDESJAUR', 'BJORKFORS 1', 'ORRBYN', 'AMMARNAS', 'ABRAUR', 'HARADS', 'LAISVALLSBY', 'OVERKALIX-SVARTBYN_A', 'OVERKALIX-SVARTBYN', 'LAKATRASK_A', 'TJAKAAPE_MO', 'SUDOK', 'JAKKVIK_V', 'OVERTORNEA', 'PALKEM_M', 'PALKEM', 'MURJEK', 'LILLVIKEN-ROPARUDDEN', 'VAJMAT_V', 'NAISHEDEN', 'STENUDDEN', 'VUOGGATJALME', 'YLINENJARVI_A', 'MIERKENIES', 'MIERKENIS_A', 'KARATS', 'MARKUSVINSA', 'SARKAVARA', 'NATTAVAARA_A', 'NATTAVAARA_BY', 'RANDIJAUR', 'NATTAVARA', 'PAHAROVA_A', 'KORPILOMBOLO_M', 'KVIKKJOKK-ARRENJARKA', 'KVIKKJOKK-ARRENJARKA A', 'KOMPELUSVAARA', 'ALLOLUOKTA', 'GALLIVARE_FLYGPLATS', 'GALLIVARE_A', 'GALLIVARE', 'AKTSE', 'MALMBERGET', 'LATNIVAARA_A', 'ALUOKTA', 'SAITTAROVA_A', 'SALTOLUOKTA', 'BJORKUDDEN', 'STORA_SJOFALLET_A', 'SATIS', 'SVAPPAVAARA', 'RITSEM', 'RITSEM_A', 'PARKALOMPOLO_A', 'LAINIO', 'KIRUNA_FLYGPLATS', 'NIKKALUOKTA', 'KIRUNA 1', 'NIKKALUOKTA_A', 'ESRANGE', 'TARFALA_A', 'MUODOSLOMPOLO', 'NEDRE_SOPPERO_V', 'LANNAVAARA', 'RENSJON_A', 'TORNETRASK', 'KATTUVUOMA', 'ABISKO_AUT', 'ABISKO', 'KATTERJAKK_A', 'RIKSGRANSEN', 'VASSIJAURE', 'TORNEHAMN', 'KARESUANDO_A', 'NAIMAKKA_A', 'NAIMAKKA', 'TRELLEBORG', 'KOPINGE', 'HAMMENHOG', 'GARSNAS', 'STAFFANSTORP', 'ALNARP FRUKTAVDELNING', 'UGERUP', 'KOLLEBERGA', 'HASSLEHOLM', 'RONNEBY', 'ANGELHOLM', 'OLOFSTROM', 'SJOARYD', 'KALMAR_D', 'KINNARED', 'KARLSHAMMAR', 'RYNINGSNAS', 'VATHULTSTROM', 'ROMA', 'STENSTUGU FORSOKSGARD', 'TYLLINGE_D', 'KOBERG', 'KRISTINEBERG', 'GRASTORP', 'MOTALA', 'TIDAN', 'BRALANDA', 'BACKEFORS', 'NYNASHAMN', 'OREBRO_FLYGPLATS', 'WIAD', 'BERGA', 'FARSTA', 'STENKVISTA', 'SVARTSJO', 'KYRKERUD', 'ARJANG', 'ARBOGA', 'VARPNAS', 'NORA_D', 'STORFORS_D', 'SUTTERTJARN', 'BRUNSBERG', 'ADOLFSFORS', 'TOMTA', 'VADDO', 'BJURFORS', 'GYSINGE', 'SATER_D', 'FINNGRUNDETS FYRSKEPP', 'TRANGSLET', 'OFFER', 'LIT', 'RAMSELE', 'JARPSTROMMEN', 'SUNDMO', 'ULRIKSFORS', 'YXSJO', 'BYGDSILJUM', 'BYGDSILJUM_D', 'ANKARVATTNET_D', 'KITTELFJALL_D', 'OJEBYN', 'ALVSBY_SKOGSSKOLA', 'BRANNBERG_D', 'KALIX_D', 'NORRIAN', 'SARKAVARE', 'PORJUS', 'HARRTRASK', 'KIRUNA', 'OLANDS SODRA GRUND', 'WAGENINGEN - HAARWEG', 'JOMALA MAARIANHAMINAN LENTOASEMA', 'PARAINEN UTO', 'LEMLAND NYHAMN', 'MARKET/STORBY', 'JOMALA JOMALABY', 'HAMMARLAND MARKET', 'KUMLINGE BARO', 'KOKAR BOGSKAR', 'GETA OSTERGETA', 'NAANTALI RAULA', 'PARAINEN FAGERHOLM', 'JOMALA SODERSUNDA', 'KUMLINGE KIRKONKYLA', 'HANKO RUSSARO', 'HANKO KPKI', 'KAARINA YLTOINEN', 'PIIKKIO TUORLA', 'NAANTALI KESKUSTA', 'TURKU RUISSALO', 'PIIKKIO YLTOINEN VERTAILUAS', 'DRAGSFJARD SKINNARVIK', 'KEMIONSAARI LOVBOLE', 'KEMIONSAARI VANO', 'HANKO TULLINIEMI', 'TURKU RAJAKARI', 'TURKU KUPITTAA', 'TURKU ARTUKAINEN', 'KEMIONSAARI KEMIO KK', 'SUOMUSJARVI KETTULA', 'HANKO TVARMINNE', 'POHJA POHJANKURU', 'SALO SUOMUSJARVI', 'RAASEPORI JUSSARO', 'SALO KIIKALA LENTOKENTTA', 'VANTAA HELSINKI-VANTAAN LENTOASEMA', 'INKOO BAGASKAR', 'HELSINKI KATAJALUOTO', 'ESPOO OTANIEMI', 'HELSINKI ILMALA', 'HELSINGIN MLK TAMMISTO', 'VIHTI MAASOJA', 'ESPOO NUPURI', 'HELSINKI HARMAJA', 'KIRKKONUMMI MAKILUOTO', 'KIRKKONUMMI', 'HELSINKI KAISANIEMI AWS', 'HELSINKI HELSINGIN MAJAKKA', 'HELSINKI KUMPULA', 'ESPOO SEPANKYLA', 'HELSINKI RAUTATIENTORI', 'HELSINKI-MALMIN LENTOASEMA', 'VALLISAARI', 'HELSINKI VIIKIN KOETILA', 'VANTAA TIKKURILA', 'TUUSULA RUOTSINKYLA', 'TUUSULA HYRYLA', 'JARVENPAA', 'HELSINKI MARJANIEMI', 'PORVOO KALBADAGRUND', 'PORVOO EMASALO', 'HELSINKI ISOSAARI', 'HELSINKI HERTTONIEMI', 'PORVOO LEHTIMAKI', 'PORVOO HARABACKA', 'KOTKA RANKKI', 'RUOTSINPYHTAA KEITALA', 'RUOTSINPYHTAA REIMARS', 'RUOTSINPYHTAA TESJOKI', 'PERNAJA SARVILAHTI', 'LOVIISA ORRENGRUND', 'KOTKA POOKINMAKI', 'KOTKA HAAPASAARI', 'KOTKA KIRKONMAA', 'RAUMA KUUSKAJASKARI', 'RAUMA KPKI', 'EURAJOKI VERKKOKARI', 'RAUMA MAJAKKA', 'KUSTAVI ISOKARI', 'LAITILA PALTTILA', 'RAUMA KYLMAPIHLAJA', 'PORI RAUTATIEASEMA', 'PAIMIO TAATILA', 'HUITTINEN LAUTTAKYLA', 'SAKYLA PYHAJOKI', 'KOKEMAKI TULKKILA', 'TAMPERE HARMALA-1', 'TAMMELA MUSTIALA', 'PIRKKALA TAMPERE-PIRKKALAN LENTOASEMA', 'SOMERO HIRSJARVI', 'KYLMAKOSKI NAULI', 'JOKIOINEN JOKIOISTEN OBSERVATORIO AWS', 'TAMPERE HATANPAA', 'TAMPERE HARMALA', 'SOMERO SALKOLA', 'HAMEENLINNA KAURIALA', 'HYVINKAA HYVINKAANKYLA', 'HATTULA LETEENSUO', 'HAUHO HAHKIALA', 'PALKANE MYTTAALA', 'NURMIJARVI GEOFYSIIKAN OBSERVATORIO', 'HAMEENLINNA KATINEN', 'HATTULA LEPAA', 'LAHTI LAUNE', 'ORIMATTILA KAKELA', 'HAMEENLINNA LAMMI PAPPILA', 'LAMMI EVO', 'ASIKKALA PULKKILANHARJU-1', 'LAHTI KUJALA', 'KOSKI HL HYRKKALA', 'LAMMI VESTOLA', 'LAMMI EVO', 'HOLLOLA ALA-OKEROINEN', 'MANTSALA PUROLA', 'HAMEENLINNA LAMMI ISO-EVO', 'ASIKKALA PULKKILANHARJU', 'ASIKKALA MAATAL.OPPILAITOS', 'HAMEENLINNA LAMMI EVO', 'KOUVOLA UTTI LENTOKENTTA', 'KOTKA SUNILA', 'LAPINJARVI INGERMANNINKYLA', 'KOUVOLA ANJALA', 'KUUSANKOSKI KESKUSTA', 'HEINOLA ASEMANTAUS', 'VALKEALA URO', 'KOUVOLA UTTI LENTOPORTINTIE', 'VIROLAHTI KOIVUNIEMI', 'YLAMAA YLIJARVI', 'LAPPEENRANTA LENTOASEMA', 'RUOKOLAHTI KOTANIEMI', 'TAIPALSAARI KYLANIEMI', 'LAPPEENRANTA KONNUNSUO', 'LAPPEENRANTA LEPOLA', 'PUUMALA HUUHKAALA', 'LAPPEENRANTA HIEKKAPAKKA', 'RAUTJARVI SIMPELE KANGASKOSKI', 'PARIKKALA KOITSANLAHTI', 'MANTYLUOTO/PORI', 'KASKINEN SALGRUND', 'KRISTIINANKAUPUNKI KARHUSAARI', 'PORI MANTYLUOTO', 'KARIJOKI KANKALO', 'PORI TAHKOLUOTO', 'KRISTIINANKAUPUNKI MAJAKKA', 'MOUHIJARVI SELKEE', 'KARVIA ALKKIA', 'KAUHAJOKI KUJA-KOKKO', 'KANKAANPAA NIINISALO LENTOKENTTA', 'KIHNIO AITONEVA', 'HAMEENKYRO KYROSPOHJA', 'VIRRAT AIJANNEVA', 'TAMPERE SIILINKARI', 'JAMSA HALLI LENTOKENTTA', 'KANGASALA KOYRA', 'JUUPAJOKI HYYTIALA', 'MANTTA KPKI', 'JAMSA HALLI LENTOASEMANTIE', 'JAMSANKOSKI', 'JYVASKYLA KESKUSTA', 'JYVASKYLAN MLK TIKKAKOSKI', 'JYVASKYLA KELJO', 'LUHANKA JUDINSALO', 'MULTIA PIRTTIPERA', 'JAMSA HIMOS', 'JOUTSA LEIVONMAKI SAVENAHO', 'PERTUNMAA LAUKKALA', 'LAUKAA SAVIO', 'MIKKELI LENTOASEMA', 'PIEKSAMAKI NIKKARILA', 'PIEKSAMAEN MLK NAARAJARVI', 'LEPPAVIRTA KK', 'JUVA PARTALA', 'JOROINEN VARKAUDEN LENTOASEMA', 'VARKAUS KOSULANNIEMI', 'PUUMALA SORJOLA', 'SAVONLINNA LENTOASEMA', 'SAVONLINNA ORAVI', 'SAVONLINNA RUUNAVUORI', 'PUUMALA KIRKONKYLA', 'RANTASALMI RUKKASLUOTO', 'PUNKAHARJU LAUKANSAARI', 'KITEE HEINONIEMI', 'KESALAHTI MANTYNIEMI', 'KITEE KK', 'VAASA VAASAN LENTOASEMA', 'GASHALLAN/NARPIO', 'MUSTASAARI VALASSAARET', 'VAASA HIETALAHTI', 'KORSNAS MOIKIPAA', 'KORSNAS BREDSKARET', 'VAASA PALOSAARI', 'MAALAHTI STROMMINGSBADAN', 'VAASA KESKUSTA KOULUKATU', 'VAASA KLEMETTILA', 'SEINAJOKI PELMAA', 'PERASEINAJOKI HAUKINEVA', 'KAUHAVA LENTOKENTTA', 'LAPUA SIIRILA', 'KAUHAVA KK UUNIMAANTIE', 'HALSUA KANALA PUROLA', 'HALSUA KK', 'ALAJARVI MOKSY', 'MULTIA KARHILA', 'VIITASAARI HAAPANIEMI', 'MULTIA SAHRAJARVI LINJALA', 'KONNEVESI HYTOLA', 'VESANTO SONKARI', 'RAUTALAMPI RASTU', 'SIILINJARVI KUOPION LENTOASEMA', 'KUOPIO INKILANMAKI', 'KUOPIO RITONIEMI', 'KUOPIO AUTOSYNOP', 'KUOPIO KESKUSTA', 'KUOPIO SAVILAHTI', 'OUTOKUMPU KESKUSTA', 'RAUTAVAARA YLA-LUOSTA', 'LIPERI JOENSUUN LENTOASEMA', 'JUUKA NIEMELA', 'LIEKSA HATTUSAARI', 'LIPERI KASKESNIEMI', 'LIPERI TUISKAVANLUOTO', 'JOENSUU LINNUNLAHTI', 'LIPERI LENTOASEMA VERTAILUMITTAUS', 'ILOMANTSI KK', 'PIELISJARVI', 'LIEKSA LAMPELA', 'ILOMANTSI NAARVA', 'ILOMANTSI VALIVAARA', 'ILOMANTSI POTSONVAARA', 'ILOMANTSI MEKRIJARVI', 'PIETARSAARI MASSKAR VASTERSUND', 'TANKAR/OJA', 'KOKKOLA OJA MARASKAR', 'PIETARSAARI KALLAN', 'KOKKOLA TANKAR', 'KRUUNUPYY LENTOASEMA', 'ULKOKALLA/KALAJOKI', 'KALAJOKI RAHJA', 'KALAJOKI ULKOKALLA', 'KOKKOLA HOLLIHAKA', 'REISJARVI', 'OULAINEN OHINEVA', 'TOHOLAMPI LAITALA', 'YLIVIESKA LENTOKENTTA', 'HAAPAJARVI MAAMIESKOULU', 'HAAPAVESI MUSTIKKAMAKI', 'PYHAJARVI OJAKYLA', 'HAAPAVESI PIIPSANNEVA', 'PYHAJARVI OL PYHASALMI', 'PYHANTA VIITAMAKI', 'KAJAANI LENTOASEMA', 'KAJAANI PETAISENNISKA', 'VALTIMO KK', 'RISTIJARVI HIISIJARVI', 'SOTKAMO KUOLANIEMI', 'NURMES YLIKYLA', 'KUHMO KESKUSTA', 'NURMES POROKYLA', 'KUHMO KALLIOJOKI', 'RAAHE NAHKIAINEN', 'HAILUOTO OJAKYLA', 'KEMI I MAJAKKA', 'HAILUOTO MARJANIEMI', 'RAAHE LAPALUOTO', 'OULUNSALO OULUN LENTOASEMA', 'SIIKAJOKI REVONLAHTI', 'OULU LINNANMAA', 'TYRNAVA LEPPIOJA', 'OULU VIHREASAARI', 'OULUNSALO PELLONPAA', 'PUDASJARVI LENTOKENTTA', 'PUDASJARVI KURENALUS', 'PUOLANKA KK', 'PUOLANKA RASINKYLA-1', 'SUOMUSSALMI PESIO', 'PUOLANKA RASINKYLA', 'HYRYNSALMI KYTOMAKI', 'PUOLANKA PALJAKKA', 'SUOMUSSALMI KK', 'YLITORNIO PORTIMOJARVI', 'KEMINMAA KEMI-TORNION LENTOASEMA', 'KEMI AJOS', 'TORNIO LIAKKA', 'KEMINMAA', 'TORNIO TORPPI', 'KUIVANIEMI HALTTULA', 'ROVANIEMEN MLK PISAVAARA-1', 'RANUA KK', 'RANUA LENTOKENTTA', 'TAIVALKOSKI MUSTAVAARA', 'TAIVALKOSKI KK KAUPPATIE', 'KUUSAMO KIUTAKONGAS', 'KUUSAMO RUKATUNTURI', 'KUUSAMO OULANKA', 'KUUSAMO LENTOASEMA', 'KOLARI TEURAVUOMA', 'KOLARI RAUTUVAARA', 'KOLARI TULLI', 'YLITORNIO MELTOSJARVI', 'KITTILA KAUKONEN', 'ROVANIEMEN MLK MELTAUS', 'ROVANIEMEN MLK MARRASJARVI', 'ROVANIEMI MLK. MARRASJARVI', 'ROVANIEMI RAUTATIEASEMA', 'ROVANIEMI AUTOSYNOP', 'ROVANIEMI APUKKA', 'SODANKYLA LISMA-AAPA', 'SODANKYLA AWS', 'KEMIJARVI JUMISKO', 'KEMIJARVI LEHTOSALMI', 'KEMIJARVI LENTOKENTTA', 'SALLA KK', 'SAVUKOSKI KK', 'PELKOSENNIEMI PYHATUNTURI', 'SALLA KK MYLLYTIE', 'SALLA NARUSKA-1', 'SALLA NARUSKAJARVI', 'SALLA NARUSKA', 'ENONTEKIO HETTA LENTOASEMA', 'KITTILA HUKKAKUMPU', 'KITTILA PALLASJARVI-1', 'KITTILA PULJU', 'KITTILA LEVITUNTURI', 'MUONIO LAUKUKERO', 'MUONIO SAMMALTUNTURI', 'KITTILA PALLASJARVI', 'KITTILA MATOROVA', 'KITTILA LENTOASEMA', 'KITTILA KENTTAROVA', 'KITTILA KK', 'KITTILA POKKA', 'SODANKYLA LOKKA', 'SODANKYLA VUOTSO', 'INARI LAANILA', 'INARI KIILOPAA', 'INARI SAARISELKA MATKAILUKESKUS', 'INARI SAARISELKA KAUNISPAA', 'INARI RAJAJOOSEPPI', 'SALLA TUNTSA', 'SALLA VARRIOTUNTURI', 'ENONTEKIO KILPISJARVI', 'ENONTEKIO KILPISJARVI KYLAKESKUS', 'ENONTEKIO KILPISJARVI SAANA', 'ENONTEKIO NAKKALA', 'ENONTEKIO PALOJARVI', 'ENONTEKIO KALMANKALTIO', 'INARI ANGELI LINTUPUOLISELKA', 'INARI TOIVONIEMI', 'UTSJOKI KEVO-1', 'UTSJOKI NUORGAM', 'INARI PARTAKKO', 'INARI VAYLA', 'IVALO LENTOASEMA', 'UTSJOKI KEVO', 'INARI KAAMANEN', 'INARI SEITALAASSA', 'UTSJOKI KEVO KEVOJARVI', 'INARI NELLIM-1', 'INARI SEVETTIJARVI-1', 'INARI SEVETTIJARVI', 'INARI NELLIM', 'INARI KIRAKKAJARVI SANILANLAMPI', 'INARI KIRAKKAJARVI', 'DUNDAS', 'QAANAAQ', 'PITUFFIK', 'KITSISSUT', 'MITT. QAANAAQ', 'HALL LAND', 'KITSISSORSUIT', 'UPERNAVIK AWS', 'UPERNAVIK', 'MITT. UPERNAVIK', 'UUMMANNAQ HELI.', 'MITT. QAARSUT', 'QULLITSAT', 'NUUSSUAQ', 'QASIGIANNGUIT HELI.', 'QEQERTARSUAQ', 'QEQERTARSUAQ HELI.', 'AASIAAT', 'MITT. AASIAAT', 'KITSISSUT/ATTU', 'SISIMIUT', 'KANGERLUSSUAQ', 'MITT. SISIMIUT', 'MANIITSOQ', 'MITT. MANIITSOQ', 'SIORALIK', 'NUUK', 'UKIIVIK', 'QEQERTARSUATSIAAT', 'MITT. NUUK', 'MITT. PAAMIUT', 'KANGILINNGUIT', 'NUNARSUIT', 'MITT. NARSARSUAQ', 'QAQORTOQ', 'QAQORTOQ HELIPORT', 'NARSAQ HELIPORT', 'ALLUITSUP PAA HELIP.', 'NANORTALIK HELIPORT', 'ANGISOQ', 'KAP MORRIS JESUP', 'KAP HARALD MOLTKE', 'STATION NORD', 'STATION NORD AWS', 'HENRIK KROYER HOLME', 'DANEBORG', 'MESTERSVIG', 'ITTOQQORTOORMIIT', 'UUNARTEQ', 'MITT. NERLERIT INAAT', 'APUTITEEQ', 'MITT. KULUSUK', 'IKERMIT', 'TIMMIARMIUT', 'IKERMIUARSUK', 'IKERASASSUAQ', 'RENLAND', 'SUMMIT-1', 'SUMMIT-2', 'VIZE', \"GOLOMYANNY'J\", 'RUSSKIJ', 'IM. E.K.FEDOROVA GMO', 'STERLEGOVA', 'IM. E.K.FEDOROVA', 'VOLOCHANKA', \"KOTEL'NY'J\", 'TERPYAJ-TUMSA', 'SHALAUROVA', \"SASKY'LAX\", 'TIKSI', 'KYUSYUR', 'YUBILEJNAYA', 'VAJDA GUBA', 'POLYARNOE', \"KOLGUEV SEVERNY'J\", 'YANISKOSKI', 'KOVDOR', 'KANEVKA', 'SOSNOVEс  OSTROV', 'AMDERMA', 'ANTIPAYUTA', 'DUDINKA', \"MY'S KONSTANTINOVSKIJ\", 'ELEсKAYA', 'TAZOVSK', 'IGARKA', 'RA-IZ', \"NY'DA\", 'SIDOROVSK', 'AGATA', \"NADY'M\", 'YANOV STAN', \"IRAEL'\", \"SARANPAUL'\", 'TARKO-SALE', \"TUTONCHANY'\", 'XALESOVAYA', \"TOL'KA\", 'VERXNEIMBATSK', \"UST'-VY'M'\", \"LAR'YAK\", 'KOJGORODOK', 'UGUT', \"VANZHIL'-KY'NAK\", 'SEVERO-ENISEJSKIJ', 'DEPUTATSKIJ', 'ESSEJ', 'SUXANA', 'DZHARDZHAN', 'SELAGONCY', \"UST'-CHARKY'\", \"UST'-MOMA\", 'CHUMPURUK', 'KISLOKAN', \"XATY'RY'K-XOMO\", \"SEGEN-KYUEL'\", 'TOMPO', 'VOSTOCHNAYA', 'NAKANNO', \"MIRNY'J\", \"KREST-XAL'DZHAJ\", 'SUSUMAN', 'STRELKA CHUNYA', 'LENSK', 'KILEER', \"TEGYUL'TYA\", 'UEGA', 'BUXTA AMBARCHIK', 'OSTROV AJON', \"MY'S BILLINGS\", 'OSTROVNOE', \"SREDNEKOLY'MSK\", 'ILIRNEJ', \"MY'S VANKAREM\", \"UST'-OLOJ\", \"E'N'MUVEEM\", \"AMGUE'MA\", 'EGVEKINOT', \"UE'LEN\", \"ZY'RYANKA\", 'OMOLON', 'KORKODON', 'VERXNE-PENZHINO', 'KEDON', 'BERINGOVSKAYA', 'SREDNEKAN', \"XATY'RKA\", 'GAVRIILA BUXTA', 'OLA', \"MY'S ALEVINA\", 'SHELIXOVO', 'BROXOVO', 'TAJGONOS', 'APUKA', 'TOROPEс', 'STARIсA', 'SOVETSK', 'BALTIJSK', \"ZHELEZNODOROZHNY'J\", 'MAKSATIXA', \"KUMENY'\", 'YARANSK', \"PERESLAVL'-ZALESSKIJ\", 'KRASNOSLOBODSK', 'PLAVSK', 'INZA', \"DEBESSY'\", \"KIL'MEZ'\", 'VERXNEE DUBROVO', 'PAMYATNAYA', 'KUSHNARENKOVO', 'SERNOVODSK', 'TUKAN', 'RUSSKAYA POLYANA', 'NAPAS', 'SREDNIJ VASYUGAN', \"UST'-OZERNOE\", 'PUDINO', 'BAKCHAR', 'PERVOMAJSKOE', 'TASEEVO', 'CHERVYANKA', 'SEVERNOE', 'ACHINSK', 'BOLOTNOE', 'TAJGA', \"TISUL'\", 'SOLYANKA', 'TAJSHET', 'TATARSK', 'OGURсOVO', 'KEMEROVO', 'SVETLOLOBOVO', 'NENASTNAYA', 'VERXNYAYA GUTARA', \"KAMEN'-NA-OBI\", 'KUZEDEEVO', \"NEOZHIDANNY'J\", 'ABAKAN', 'SLAVGOROD', 'REBRIXA', \"BIJSK ZONAL'NAYA\", \"OLEN'YA RECHKA\", 'ORLIK', 'IKA', 'PEREVOZ', 'DZHIKIMDA', 'ERSHOVO', 'MAKSIMOVO', 'MAMAKAN', 'BRATSK', 'ORLINGA', 'KAZACHINSKOE', 'TAKSIMO', \"UST'-NYUKZHA\", 'NIZHNEANGARSK', 'KARAM', 'KALAKAN', 'SREDNIJ KALAR', 'SREDNYAYA OLEKMA', \"NAGORNY'J\", 'TULUN', 'BARGUZINSKIJ ZAPOVEDNIK', 'BAGDARIN', \"UST'-KARENGA\", 'BALAGANSK', 'BAYANDAJ', \"BOL'SHOJ USHKANIJ OSTROV\", \"UST'-BARGUZIN\", 'ROMANOVKA', 'DZHALINDA', 'INGA', 'XOMUTOVO', \"BOL'SHOE GOLOUSTNOE\", 'SOSNOVO-OZERSKOE', 'TUNKA', 'XAMAR-DABAN', 'BABUSHKIN', 'IVOLGINSK', 'XILOK', 'AGINSKOE', 'NERCHINSKIJ Z-D', 'СAKIR', \"KRASNY'J CHIKOJ\", 'MANGUT', 'UCHUR', 'YUGARENOK', 'TALON', 'KANKU', 'TOKO', \"NEL'KAN\", \"BOL'SHOJ SHANTAR\", 'DZHANA', 'UDSKOE', 'LITKE', 'CHERNYAEVO', 'DZHAORE', 'BOGORODSKOE', 'MAZANOVO', \"VERXNYAYA TOM'\", 'SOFIJSKIJ PRIISK', 'SUTUR', 'NIZHNETAMBOVSKOE', 'KONSTANTINOVKA', \"SOLEKUL'\", 'SMIDOVICH', 'ELABUGA', \"SOVETSKAYA GAVAN'\", 'LERMONTOVKA', \"KRASNY'J YAR\", \"MEL'NICHNOE\", 'SVIYAGINO', \"RUDNAYA PRISTAN'\", \"POS'ET\", 'PREOBRAZHENIE', \"MOSKAL'VO\", 'POGIBI', 'NOGLIKI', 'TIMOVSKOE', 'POGRANICHNOE', 'UGLEGORSK', \"MY'S TERPENIYA\", \"IL'INSKIJ\", \"NEVEL'SK\", \"MY'S KRIL'ON\", 'YUZHNO-SAXALINSK', \"KURIL'SK\", \"MY'S LOPATKA\", 'OSSORA', \"UST'-VOYAMPOLKA\", \"UST'-XAJRYUZOVO\", \"E'SSO\", 'DOLINOVKA', 'SOBOLEVO', 'SEMYACHIK', 'NACHIKI', 'SOSNOVKA', \"BOL'SHERECK\", \"OKTYABR'SKAYA\", 'PETROPAVLOVSKIJ MAYAK', 'OSTROV BERINGA', \"RY'L'SK\", \"KON'-KOLODEZ'\", 'ROSTASHI', 'NOVOUZENSK', 'GIGANT', 'PERELYUB', \"BREDY'\", 'AKBULAK', 'DOMBAROVSKIJ', 'ZMEINOGORSK', 'SOLONESHNOE', \"KY'ZY'L-OZEK\", 'YAJLYU', \"KY'ZY'L\", 'SOSNOVKA KAMCHATKA', 'TOORA-XEM', \"UST'-KOKSA\", 'KOSH-AGACH', \"MUGUR-AKSY'\", \"E'RZIN\", 'KARA-TYUREK', 'YUZHNO-SUXOKUMSK', 'KRASNAYA POLYANA', 'ZELENCHUKSKAYA', 'SHADZHATMAZ', 'KLUXORSKIJ PEREVAL', 'SULAK VY SOKOGORNAYA', 'WAGENINGEN - VEENKAMPEN', 'DAGDA', 'RUCAVA', 'REZEKNE', 'SKRIVERI', 'AIZPUTE', 'MADONA', 'ZOSENI', 'STENDE', 'VILAKA', 'PRIEKULI', 'MERSRAGS', 'VENTSPILS', 'AINAZI', 'ZARNOWIEC', 'PILA', 'KOZIENCE', 'SZKLARSKA POREBA', 'RABKA', 'KROSCIENKO', 'BALIGROD-MCHAWA', 'KNIN', 'VARAZDIN', 'ZADAR', 'LLEIDA-AJUNTAMENT', 'LLEIDA-ESCORXADOR', 'VOORSCHOTEN', 'OGULIN', 'DUBROVNIK', 'P11-B', 'F3-FB-1', 'ATHENRY', 'ALGUAIRE', 'AMPOSTA', 'ANGLES', 'BANYOLES', 'BARCELONA-EL RAVAL', 'BARCELONA-ZONA UNIVERSITARIA', 'BENISSANET', 'BOI', 'BONAIGUA', 'CABRILS', 'CADI NORD-PRAT DAGUILO', 'CALDES DE MONTBUI', 'CASTELLBISBAL', 'CASTELL DARO', 'CASTELLNOU DE BAGES', 'CASTELLNOU DE SEANA', 'CERTASCAN', 'CERVERA', 'CONSTANTI', 'CUNIT', 'DAS-AERODROM', 'EL PERELLO', 'EL PONT DE SUERT', 'EL PORT DEL COMTE', 'EL PRAT DE LLOBREGAT', 'ELS HOSTALETS DE PIEROLA', 'EL VENDRELL', 'ESPOT', 'FALSET', 'FONT-RUBI', 'GIRONA', 'GUARDIOLA DE BERGUEDA', 'HORTA DE SANT JOAN', 'ILLA DE BUDA', 'LA BISBAL DEMPORDA', 'LAC REDON', 'LA PANADELLA', 'LA POBLA DE SEGUR - BOMBERS', 'LA QUAR', 'LA SEU DURGELL', 'LESPLUGA DE FRANCOLI', 'MALGRAT DE MAR', 'MALNIU', 'MAS DE BARBERANS-ABOCADOR', 'MOLLO-FABERT', 'MONTSEC', 'MONTSERRAT-SANT DIMES', 'MUNTANYOLA', 'NURIA', 'ODENA', 'OLOT - PLA DE BAIX', 'ORGANYA', 'ORIS', 'PARETS DEL VALLES', 'PN DELS PORTS', 'PORTBOU', 'PUIG SESOLLES', 'RAIMAT', 'ROSES', 'SABADELL-PARC AGRARI', 'SALORIA', 'SANT CUGAT DEL VALLES-CAR', 'SANT PAU DE SEGURIES', 'SANT PERE PESCADOR', 'SANT ROMA DABELLA', 'SANT SALVADOR DE GUARDIOLA', 'SANTUARI DE QUERALT', 'SASSEUVA', 'SOLSONA', 'TARRAGONA-COMPLEX EDUCATIU', 'TARREGA', 'TORREDEMBARRA', 'ULLDEMOLINS', 'VALLIRANA', 'VIELHA E MIJARAN', 'VILADRAU', 'VILANOVA DE MEIA', 'VILA-RODONA', 'VINEBRE', 'SKEDSMO-HELLERUD', 'ILSENG', 'ULVIK-HJELTNES', 'LINGE', 'NARVIK-FAGERNESFJELLET', 'SORTLAND-KLEIVA', 'RANHEIM', 'NOTODDEN FLYPLASS', 'GROSET', 'BLACKPOOL SQUIRES GATE', 'CAWOOD', 'CRANWELL', 'LACOCK', 'LOSSIEMOUTH', 'MONKS WOOD', 'MORECAMBE NO 2', 'PERSHORE COLLEGE', 'SUTTON BONINGTON', 'WIGHT ST CATHERINES POINT', 'WISLEY', 'WOBURN', 'SKALVAER', 'NORD-SOLVAER', 'MYKEN', 'HELLIGVAER', 'GROTOY', 'DRAG I TYSFJORD', 'NARVIK II', 'GLAPEN FYR', 'SKOMVAER FYR', 'KVALNES I LOFOTEN', 'ANDENES', 'NARSARSUAQ RADISONDE', 'OSTMARK-ASARNA', 'STORLIEN-STORVALLEN A', 'PITE-RONNSKAR A', 'SODERHAMN A', 'VANGSO', 'TROYES-BARBEREY', 'PTE DE CHASSIRON', \"PLOUMANAC'H\", 'NANCY-OCHEY', 'BELLE ILE - LE TALUT', 'CAP CEPET', 'ORLY', 'PANTA DE DARNIUS - BOADELLA', 'PUIGCERDA', 'TIVISSA', 'HELTERMAA', 'JOHVI', 'JOGEVA', 'KARDLA', 'KURESSAARE', 'KUNDA', 'KIHNU', 'KUUSIKU', 'NARVA', 'LAANE-NIGULA', 'PARNU', 'PAKRI', 'RUHNU', 'RISTNA', 'TALLINN', 'SORVE', 'TIIRIKOJA', 'TARTU', 'TARTU-TORAVERE', 'TOOMA', 'VAIKE-MAARJA', 'TURI', 'VILJANDI', 'VALGA', 'VIRTSU', 'PODGORICA', 'PLJEVLJA', 'BAR', 'KOLASIN', 'NIKSIC', 'ZABLJAK', 'OLOT', 'LA POBLA DE SEGUR', 'LES BORGES BLANQUES', 'MASSOTERES', 'STORHOFDI', 'STORHOFDI (AWS)', 'TEIGARHORN (AWS)', 'YOTVATA', 'YAVNEEL', 'SEDOM', 'SEDE BOQER', 'NEGBA', 'MEROM GOLAN PICMAN', 'AVNE ETAN', 'AYYELET HASHAHAR', 'BEIT JIMAL', 'ELON', 'EN HAHORESH', 'GAT', 'GILGAL', 'HAZEVA', 'KEFAR BLUM', 'LAHAV', 'MASSADA', 'BESOR FARM', 'SERMIDE (SP 91)', 'ALTENBURG', 'ANDERNACH', 'BERCHTESGADEN (KKST)', 'BAD BERKA (FLUGPLATZ)', 'BERLIN-ADLERSHOF', 'BERLIN-FRIEDRICHSHAGEN', 'BERLIN-FROHNAU', 'BERLIN-INVALIDENSTRASSE', 'BERLIN-OSTKREUZ', 'BITTERFELD', 'COLLMBERG', 'DOEBELN', 'DRESDEN (MITTE)', 'ENNIGERLOH-OSTENFELDE', 'GEISINGBERG', 'BAD GOTTLEUBA', 'GREIFSWALD-WIECK', 'GREIZ', 'GROSSER INSELSBERG', 'GROSSMEHRING-THEISSING', 'GUENZBURG', 'GUESTROW-SCHABERNACK', 'HALLE (STADT)', 'HINTERHERMSDORF', 'HOHENNAUEN', 'ILSENBURG', 'KAMENZ', 'LEIPZIG-MOCKAU', 'LEUNAWERKE', 'LUEBBEN', 'MESPELBRUNN', 'NEUHAUS', 'OBERHOF', 'OLBERSDORF', 'OSTERBURG', 'BAD SACHSA', 'SANKT MICHAELISDONN', 'SCHNARRTANNE-VOGELSGRUEN', 'SCHWARZE PUMPE', 'SCHWARZENBERG', 'BAD SUDERODE', 'TORGAU', 'WEISEN BEI WITTENBERGE', 'AULENDORF-HASLACH', 'NEUGLOBSOW (HM)', 'BALINGEN-BRONNHAUPTEN', 'SCHAUENBURG-ELGERSHAUSEN', 'ULM-MAEHRINGEN', 'HAMBURG (DEUTSCHE SEEWARTE)', 'KAUFBEUREN-OBERBEUREN', 'FRONBERG (SCHWANDORF)', 'PIRMASENS (KLAERANLAGE)', 'ALT RUPPIN', 'GROSS BERSSEN', 'STAFFELSTEIN-VIERZEHNHEILIGEN', 'DACHSBERG-WOLPADINGEN', 'MONT-ROIG DEL CAMP', 'TIRVIA', 'PUJALT', 'OBERSIEBENBRUNN', 'CARLOFORTE', 'LLEIDA - LA FEMOSA', 'ROVEGNO', 'LANGHIRANO', 'SALSOMAGGIORE', 'ALBARETO', 'ALBARETO_PARMA', 'ALPE_DI_GORRETO', 'ANITA', 'BAGNACAVALLO', 'BANDO', 'BARBAGELATA', 'BARDI', 'BERCETO', 'BERRA', 'BETTOLA', 'BIBBIANA', 'BOLOGNA_IDROGRAFICO', 'BOLOGNA_SAN_LUCA', 'BOLOGNA_TORRE_ASINELLI', 'BOLOGNA_URBANA', 'BONDENO', 'BUDRIO_DONDINA', 'CA_BORTOLANI', 'CAMPOGALLIANO', 'CAMPORA_DI_SASSO', 'CAMSE', 'CANOSSA', 'CAPACCIO', 'CARPINETA', 'CARPINETI', 'CASALECCHIO_CANALE', 'CASALPORINO', 'CASASELVATICA', 'CASATICO', 'CASONI_DI_ROMAGNA', 'CASONI_DI_SANTA_MARIA_DI_TARO', 'CASSA_DOSOLO', 'CASSIMORENO', 'CASTELDELCI', 'CASTELFRANCO_EMILIA', 'CASTELLAZZO_VILLANOVA_DARDA', 'CASTELNOVO_DI_SOTTO', 'CASTEL_SAN_PIETRO', 'CASTEL_SAN_PIETRO_GAIANA', 'CASTENASO_VILLANOVA', 'CAVRIAGO', 'CERRETO_LAGHI', 'CESENATICO_PORTO', 'CESENA_URBANA', 'CIPRIANO', 'CIVAGO', 'COLORNO', 'CORREGGIO', 'CORSICCHIE', 'CORTE_CENTRALE', 'CORTILE_DI_CARPI', 'CUSERCOLI', 'DIAMANTINA', 'DIGA_DI_BRASIMONE', 'DIGA_DI_RIDRACOLI', 'DOCCIA_DI_FIUMALBO', 'FARFANARO', 'FEBBIO', 'FIDENZA', 'FINALE_EMILIA', 'FORLI_URBANA', 'FORMIGINE', 'FRASSINETO', 'FRASSINORO', 'GAIBANELLA', 'GAINAGO', 'GALLO', 'GARIGA', 'GIRALDA', 'GRAMMATICA', 'GRANAROLO_FAENTINO', 'GROPPARELLO', 'GRUGNO', 'GUAGNINO', 'IDROVORO_FOSSO_GHIAIA', 'IMOLA2', 'IMOLA_MARIO_NERI', 'INVASO', 'LAGDEI', 'LAGO_BALLANO', 'LAGO_PADULI', 'LAGO_PRATIGNANO', 'LAGOSANTO', 'LAGO_SCAFFAIOLO', 'LAMA', 'LA_STELLA', 'LA_VALLETTA', 'LAVEZZOLA', 'LODOLONE', 'LOIANO', 'MADONNA_DEI_FORNELLI', 'MAIATICO', 'MALBORGHETTO', 'MARMORTA', 'MARTORANO', 'MARZAGLIA', 'MEDELANA', 'MEDESANO', 'MESOLA', 'MEZZANO_NORD-OVEST', 'MEZZOLARA', 'MIRABELLO', 'MODIGLIANA_ARPA', 'MONGHIDORO', 'MONTEACUTO_DELLALPI', 'MONTEFIORINO', 'MONTE_GROSSO', 'MONTICELLI_ARPA', 'MORCIANO', 'MORDANO_BUBANO', 'MORMOROLA', 'MULAZZANO', 'MUSIARA_SUPERIORE', 'NEVIANO_ARDUINI', 'OSPITALMONACALE', 'OSTELLATO', 'OSTIA_PARMENSE', 'PADERNO', 'PADULLE_SALA_BOLOGNESE', 'PANOCCHIA', 'PARMA_T.P.', 'PASSO_DELLE_RADICI', 'PIACENZA_URBANA', 'PIANELLO_VAL_TIDONE', 'PIEVE_DI_CUSIGNANO', 'PIEVEPELAGO', 'POGGIO_RENATICO', 'POMPOSA-VOLANO', 'PONTE_CAVOLA', 'PONTE_CHIAVICA', 'PONTELAGOSCURO', 'PONTE_MAODINO', 'PONTICELLI', 'PORTO_GARIBALDI', 'PREDOLO', 'QUARTESANA', 'QUARTO', 'RAVENNA_LE_BASSETTE', 'REDA_DI_FAENZA', 'RIFUGIO_BARGETANA', 'RIOLA_DI_LABANTE', 'ROLO', 'RONCOVETRO', 'RONTANA', 'ROVERSANO', 'SAIARINO', 'SALETTO', 'SALSOMINORE', 'SAN_BARTOLOMEO_IN_BOSCO', 'SAN_CARLO', 'SAN_FELICE_SUL_PANARO', 'SAN_GIUSEPPE', 'SAN_MICHELE', 'SAN_NICOLO', 'SAN_PANCRAZIO', 'SAN_PIETRO_CAPOFIUME', 'SAN_PIETRO_IN_VINCOLI', 'SANTAGATA_BOLOGNESE', 'SANTAGATA_SUL_SANTERNO', 'SANTA_MARIA_CODIFIUME', 'SANTANTONIO_ARPA', 'SANTERNO_SENIO_1', 'SANTERNO_SENIO_2', 'SANTO_STEFANO_DAVETO', 'SAN_VALENTINO', 'SAN_ZACCARIA', 'SASSO_MARCONI_ARPA', 'SASSO_MORELLI', 'SASSO_MORELLI_BEGHINA', 'SASSOSTORNO', 'SELLARINO_VOGHIERA', 'SELVA_FERRIERE', 'SELVANIZZA', 'SERPIERI', 'SERRAMAZZONI', 'SETTEFONTI', 'SISSA', 'SIVIZZANO', 'TARSOGNO', 'TEODORANO', 'TERUZZI', 'TORRIGLIA', 'TREBBIA_VALSIGIARA', 'TREBBIO', 'TREPPIO', 'VALDENA', 'VALSENIO', 'VARANO_MARCHESI', 'VERGIANO', 'VESPIGNANO', 'VICOBARONE', 'VIGNOLA', 'VILLA_GHIGI', 'VOLANO', 'VOLTRE', 'ZOLA_PREDOSA', 'RIMINI_URBANA', 'RIMINI_AUSA', 'PARMA_URBANA', 'MODENA_URBANA', 'BUDRIO_PRUNARO', 'BUDRIO_ROTTA_DEL_GIARDINO', 'RAVENNA_URBANA', 'RIOLA_DI_VERGATO', 'REGGIO_NELLEMILIA_URBANA', 'LUGO_RA', 'FERRARA_URBANA', 'MARIBOR - VRBANSKI PLATO', 'RIUDECANYES', 'SANDE-GALLEBERG', 'OVERHALLA-SKOGMO', 'KVAM-AKSNESET', 'TINGVOLL', 'GJERPEN-ARHUS', 'OSAKER', 'NORDNESFJELLET', 'MAZE - RUOGONJARGA', 'SOLHOM I KVINESDAL', 'GJENGEDAL - DALHEIM', 'AS', 'GAUPNE', 'KVITHAMAR', 'TJOTTA', 'SAERHEIM', 'TROMSO - HOLT', 'BIRKEBEINEREN SKISTADION', 'PASVIK - SVANVIK', 'HOVRINGEN II', 'GAMANJUNNI', 'BEITOSTOLEN II', 'LEBERGSFJELLET', 'GVARV - NES BIOFORSK', 'KVAMSKOGEN - JONSHOGDI', 'HJELMELAND', 'LIER', 'RAMNES - KILE VESTRE', 'ROVERUD', 'TORVHAUGDALEN', 'OTTA - SKANSEN', 'RYGGE - HUGGENES', 'SURNADAL - SYLTE', 'ULLENSVANG FORSOKSGARD', 'FLESBERG', 'SNOHEIM', 'PLATABERGET III', 'MIDTSTOVA', 'BO', 'LYNGDAL', 'ALVDAL', 'MYKEN', 'LIARVATN', 'REINHAUGEN', 'BERGEN - FLORIDA UIB', 'NJOS', 'ETNE II', 'TRYSIL - NORDRE KANKEN', 'HONEFOSS - HVERVEN', 'SKJETLEIN', 'GRAN', 'ARNES', 'RAKKESTAD', 'ISKORAS II', 'FROSTA', 'SJUFJELLET', 'FAVANG', 'ANSTADBLAHEIA', 'LOSISTUA', 'RENA - ORNHAUGEN', 'HEMSEDAL SKISENTER', 'GAUSDAL - FOLLEBU', 'RISSA III', 'TJOLLING', 'HOKKSUND', 'BERGEBYDALEN', 'MARE III', 'VALNESFJORD', 'DOVRE-LANNEM', 'JUVVASSHOE', 'NORDLI - HOLAND', 'OSLO - HAUGENSTUA', 'MYKLEBUSTFJELLET', 'VALLE', 'REIPA', 'HVALER - BREKKE', 'DRAMMEN - BERSKOG', 'BJORLI', 'BIRTAVARRE - HOLMEN', 'ROELDALSFJELLET - ELVERSHEI', 'EVENSTAD', 'HORTEN II', 'BRATA - SLETTOM', 'ROEST LUFTHAVN', 'ASANE', 'FAGERNES LUFTHAMN', 'SORTLAND', 'LILLEHAMMER - SAETHERENGEN', 'FOSSMARK', 'MJOELFJELL UH', 'OERSTA - EITREFJELL', 'DRAMMEN - BANGELOEKKA', 'AFJORD II', 'DAGALI LUFTHAVN', 'PYRAMIDEN', 'SELBU II', 'STAKKEVOLLAN', 'HONNEGRASNUTEN', 'HORNSUND', 'LAKSFORS', 'NORNE', 'GARTLAND', 'NOETTEROEY - VESTSKOGEN', 'TANA BRU', 'SANDHAUG', 'SANDHORNOEYA - VATVIKFJELLET', 'EIK - HOVE', 'LENANGSSTRAUMEN', 'MANDAL III', 'VALLDAL - MURI', 'HASVIK LUFTHAVN', 'KLEVAVATNET', 'HOEYDALSMO II', 'ALESUND IV', 'MINNESUND JERNBANESTASJON', 'SVENNER FYR', 'KOTSOEY', 'LIFJELL - OEYSTEINNATTEN', 'TROMSDALEN', 'TOENSBERG - TARANROED', 'FOLGEFONNA SKISENTER TOPP', 'TJOEME', 'FOERDE LH - BRINGELAND', 'SVERRESBORG', 'BATSFJORD - STRAUMSNESAKSLA', 'PORSGRUNN - AS', 'SKIBOTN II', 'KVITSOEY - NORDBOE', 'TROLLHEIMEN - STORHORNET', 'BLASJOE', 'LYNGEN - GJERDELVDALEN', 'SKREDDERDALEN', 'KONNERUD', 'LILLEHAMMER - VARSAETERGRENDA', 'VOSSEVANGEN', 'ROTVAER', 'AUSTEVOLL', 'TROLLEDALSEGGA', 'OSLO - LAMBERTSETER', 'FEDJE', 'ADVENTDALEN', 'BYGLANDSFJORD - NESET', 'OPPDAL - SAETER', 'MALANGEN - PALFINNMOEN', 'GJERSTAD JERNBANESTASJON', 'TOENSBERG - KILEN', 'MANNDALEN - VADDJA', 'VATS I VINDAFJORD', 'MOLDE - NOEISOMHED', 'HYNNEKLEIV', 'SVELVIK - KNEM', 'LADE', 'KVITFJELL', 'SKARE', 'HEIMDAL', 'VERLEGENHUKEN', 'SKAMDAL', 'FYRIEGG', 'GULLFAKS C', 'OSLO - BESSERUD', 'ROGNSUNDET', 'MARSTEIN', 'STROEMTANGEN FYR', 'VESTFOSSEN', 'SLEIPNER A', 'SOLVAER III', 'KJELLER', 'JOMFRULAND', 'TAMOKDALEN', 'HITRA - SANDSTAD II', 'OEKSFJORD - DEALLJA', 'STORD LUFTHAVN', 'HJARTASEN', 'INNERDALEN', 'EKOFISK', 'TRONDHEIM - VOLL PLU', 'SVEAGRUVA II', 'EDGEOEYA - KAPP HEUGLIN', 'VEIHOLMEN', 'MODALEN III', 'HOVDEN - LUNDANE', 'VEST-TORPA II', 'ASGARDSTRAND', 'NUVSVAG', 'HEMSEDAL II', 'HASVIK - SLUSKFJELLET', 'SOELENDET', 'MANNEN', 'KVALOEYSLETTA', 'DOMBAS - NORDIGARD', 'HORTEN - NYKIRKE', 'KVAMSOEY', 'EIGEROEYA', 'RIHPOJAVRI', 'TYNSET - HANSMOEN', 'ROALDSHORNET', 'KIRKENES LUFTHAVN', 'AKSELOEYA', 'NARVIK SENTRUM', 'MAJAVATN V', 'MYRKDALEN-VETLEBOTN', 'JUVFLYE - MIMISBRUNNR KLIMAPARK', 'MERAKER - VARDETUN', 'GROTLI III', 'HAKADAL JERNBANESTASJON', 'ORKDAL - THAMSHAMN', 'TRYSIL VEGSTASJON', 'KVITOEYA', 'OSLO - DISEN', 'FAKKEN', 'OSLO - BYGDOEY', 'VEGA - VALLSJOE', 'LAERDAL IV', 'ROELDALSFJELLET', 'JOSTEDALEN - BREHEIMSENTERET', 'SIRDAL - SINNES', 'RENA FLYPLASS', 'JOELSTER - KVAMSFJELLET', 'ARNOEYA - TROLLTINDEN', 'OSLO - SOFIENBERG', 'MOLDE - HINDALSROERA', 'GULLFJELLET', 'TRONDHEIM - HOEVRINGEN', 'HELLIGVAER II', 'HEIDRUN', 'VAGSLI', 'TAGDALEN', 'KRAKENES', 'HALTEN FYR', 'FAGERNES', 'ANDOEYA - TROLLTINDEN', 'VARDOE LUFTHAVN', 'LILLEHAMMER - RADHUSET', 'SALTDAL - NORDNES', 'VAEROEY HELIPORT', 'REKDAL', 'HOENEFOSS - HOEYBY', 'BANAK', 'TROLL A', 'SETSA', 'FJAERLAND - BREMUSEET', 'SOEMNA - KVALOEYFJELLET', 'TOFTE - RULLETO', 'LILLEHAMMER - BJOERNERUD', 'GEILO - OLDEBRATEN', 'LEIRFLATEN', 'DIVIDALEN II', 'GJEMNES - REINSFJELLET', 'NYRUD', 'KATTERAT', 'HJERKINN II', 'NOETTEROEY - BORGHEIM', 'BALESTRAND - BALE', 'KARL XII-OEYA', 'NOETTEROEY - FOEYNLAND', 'KONGSOEYA', 'KAPPFJELLET', 'BOE I VESTERALEN III', 'YTTEROEYANE FYR', 'DRAUGEN', 'KANSTADBOTN', 'VARNTRESK', 'GULLHOLMEN', 'FOLGEFONNA SKISENTER', 'LOEKVOLLEN', 'HANSBU', 'KONGSVINGER', 'LANGFJORDJOEKELEN', 'ROERVIK LUFTHAVN', 'SAETERTINDEN VED TJELDSUNDET', 'SOKNEDAL', 'ODDA - JORDAL', 'OSLO - LJABRUVEIEN', 'SAEDALEN', 'MOSJOEEN LUFTHAVN', 'KISTEFJELL', 'FINSEVATN', 'STORFORSHEI', 'DRIVDALEN', 'NOETTEROEY - KNARRBERG', 'LAUDAL - KLEIVEN', 'SKJEGGEDAL', 'EMBLEM', 'HORTEN - SKOPPUM', 'AKERNESET', 'STRAUMSNES', 'LYNGEN - GJERDVASSBU', 'AURSKOG II', 'ARENDAL LUFTHAVN', 'SOERKAPPOEYA', 'HARSTAD STADION', 'GLOMFJORD - SKIHYTTA', 'MORTENHALSSKOLTEN', 'VEGGLI II', 'FISTER - SIGMUNDSTAD', 'ASKIM - KYKKELSRUD', 'ROEVAER', 'OSLO - HOVIN', 'NOETTEROEY - TENVIK', 'LOENSDAL STASJON', 'LILLEHAMMER - NORDSETERVEGEN HOEYDEBASSE', 'GULLINGEN SKISENTER', 'NOETTEROEY - TOROED', 'SKOTSELV', 'SAUPSTAD', 'TYSSEDAL V', 'VANGSNES', 'MASVIK', 'SVELVIK - BOKEROEYA', 'SELJELIA', 'FOLLDAL - FREDHEIM', 'FLISA II', 'BJOERNFJELL', 'ANDALSNES - KAMSHAUGEN', 'SANDE - LAUVKOLLMYR', 'SIGDAL - NEDRE EGGEDAL', 'STRYN - KROKEN', 'HEMSEDAL - HOLLEKOLTEN', 'SISOVATNET', 'SKABU', 'E16 RYFOSS', 'E6 MJOESBRUA', 'E134 DARBU', 'FV30 REITSTOEA', 'E136 TRESFJORDBRUA', 'RV9 HOVDEN', 'FV307 GRAVDAL', 'FV44 SAELEBU', 'E16 SKUI', 'RV13 LATEFOSS', 'KRISTINFELTET', 'E39 LOENNSET', 'FV755 MELTINGEN', 'FV55 INDRE HAFSLO', 'RV70 GRAURA', 'E6 HEIA', 'GJOEAFELTET', 'OSEBERG A', 'FV17 VAG', 'FV55 HERVAVATN', 'FV289 HURUM', 'E39 SOEYLAND', 'SNORRE B', 'KV5738 NATTLANDSFJELLET', 'E6 YTTERVIKA', 'FV37 JOENJILJO', 'FV17 HOEYLANDET', 'FV555 KROSSLEITET', 'BODOE - SKIVIKA', 'RV15 STRYNEFJELL-KVITENOVA', 'E75 KOMAGVAER', 'FV48 TYSSE VEST', 'E39 NORDHORDLANDSBRUA', 'E6 VESTBY', 'E6 GANDVIKBAKKEN', 'FV715 HOGSDALEN', 'E16 ROMERIKSASEN', 'RV5 LUNDEBOTN', 'E18 SVARTSKOG', 'GLOMFJORD - TVERRFJELLET', 'E16 FLAM', 'E39 VALSOEYFJORD', 'E69 NORDKAPP', 'E16 HONING BRU', 'OEVRE HEIMDALSVATN', 'E18 LIERSKOGEN', 'E16 BORGUND', 'E6 GRATANGSFJELLET', 'E16 BEKKEHALLUM', 'FV281 STORSAND HURUM', 'FV863 GAMNES', 'FV98 IFJORDFJELLET', 'LI BRU', 'FV700 VOLL', 'VALHALL A', 'E39 ABERGSDALEN', 'TROLL B', 'RV555 SOTRABRUA VIND', 'GLITREVANN', 'E39 FIDJANE', 'FV287 SANDSBRATEN', 'FV890 GEDNJE', 'E10 GIMSOEYSTRAUMEN BRU', 'E39 HALBRENDSLIA', 'E18 FARSJOE', 'FV310 KOTTERUD', 'E18 ROEDBOEL', 'E39 VASSENDEN', 'E6 TINGBERG', 'TRONDHEIM - RISVOLLAN', 'FV42 HADDELANDSHEIA', 'E39 STORDABRUA', 'RV705 SELBUSKOGEN', 'FV86 ANDSVANNET', 'E6 ROSTEN', 'FV542 BREMNES', 'E6 HJERKINN', 'E18 MELLEBY', 'RV13 ARDAL', 'E6 INGEDAL', 'RV36 ULEFOSS', 'RV52 HEMSEDALSFJELLET', 'FV355 VEUM', 'E6 SNASA', 'E18 STOKKEBAKKEN', 'E18 PAULER', 'E6 HORG', 'RV80 HUNSTAD', 'E39 VATLAND', 'E39 SVEIO', 'E6 FABERG', 'E18 INNTJORHEIA', 'E6 NOESTVET', 'RV5 FRUDALEN', 'RV80 NORDVIKA', 'E16 VINJE VEST', 'FV65 OEVRE RINDAL', 'OSEBERG C', 'E134 AMBJOERNDALEN', 'FV609 HOLMEDAL VEST', 'E8 SANDVIKEIDET', 'RV4 ANEBY', 'E39 HEMNEKJOELEN', 'RV 15 MALOEYBRUA', 'ULA', 'E136 LORA', 'FV35 HEMSDALEN HOF', 'E16 INDRE ARNA', 'E12 UMBUKTA', 'FV44 KVASSHEIM', 'FV13 GAULARFJELL - MJELL', 'FV285 BOENESSKOGEN', 'E10 BJOERNFJELL', 'OSLO - LILLEAKER', 'GOLIAT FPSO', 'E134 HAUKELIFJELL', 'FV101 PRESTEBAKKE', 'FV312 HANEKLEIVA', 'E136 HORGHEIM', 'E39 DRANGSDALEN', 'FV866 SKATTOERSUND', 'E134 ROELDALSTUNELLEN AUST', 'RV5 KAUPANGER', 'FV658 GISKEBRUA', 'E39 OERSKOGFJELL', 'RV13 BOTNEN', 'E6 KRAKMOFJELLET', 'RV3 OESTLUND', 'E6 DJUPDALEN', 'RV41 AMLI', 'VISUNDFELTET', 'E6 KLETT', 'RV111 GAUTESTAD', 'FV65 BYE', 'BRAGE', 'FV915 BOE', 'E6 KARLSHUS', 'RV2 UVESUND BRU', 'VESLEFRIKK A', 'E39 VAGSBOTN', 'E6 OSEN', 'E6 ESPA', 'E6 ULSBERG', 'FV316 SAGLANDSBAKKEN', 'FV118 SVINESUND', 'E10 TROLLVIKDAL', 'FLAM - JOASETBERGI', 'E18 HJORTNES', 'FV889 SELVIKHOEYDEN', 'E6 NORDNES', 'FV60 KJELLSTADLIA', 'E6 OESE', 'FV812 HOGNDALEN', 'RV7 KVISLA I HOL', 'FV47 FERKINGSTAD', 'FV63 KORSMYRA', 'FV17 TORSVIKA', 'E18 GULLI NORD', 'FV395 ALESUND', 'FV57 SKODVIN', 'SNORRE A', 'FV614 GRYTADALEN', 'FV316 TENGESDAL', 'E6 SKJELLESVIKSKARET', 'FV155 RAKEN', 'E6 FRYA', 'FV862 SENJAHOPEN', 'E39 LOTETUNNELEN', 'E6 AVSJOEEN', 'RV13 VIKAFJELL', 'BERGEN - SANDSLI', 'E8 BOSSOVARRI', 'E6 FOKSTUGU', 'E18 OERJE VEST', 'EVANGER', 'FV7 ALVIK AUST', 'E6 HALOGALANDSBRUA', 'E6 SALTFJELLET', 'FV61 HAREID', 'RV4 GJELLERASEN', 'E16 VOSS NORD', 'E39 OSESTAD', 'E16 KALPLASSEN', 'RV15 LOM', 'RV2 SIGERNESSJOEEN', 'BAKKO I HOL II', 'E18 OEDEGARDENS VERK', 'FV472 SANDHORNOEYA', 'RV3 SVINGEN', 'E18 FOKSEROED', 'FV57 MONGSTAD SOER', 'FV542 BOEMLABRUA', 'E6 VINGNES', 'FV40 VEGGLI', 'E6 MOHOLTLIA', 'E39 FURSETFJELLET', 'FV221 VALLDALSFJELL', 'FV32 KIKUT', 'E6 OPPDAL', 'RV7 RALLERUD', 'RV15 BREIDALEN', 'E18 GRELLAND', 'FV301 BERG KIRKE', 'FV170 KOMPVEIEN', 'E6 FJERDINGEN', 'FV33 FEIRING', 'E39 KLAKEGG', 'FV7 GULLBOTN', 'FV211 HAGLEBU', 'E6 SONSVEIEN', 'RV9 DALEHEFTE', 'E6 LANGFJORDBOTN', 'FV33 VARDALSASEN', 'E134 GROENLIHEIA', 'RV85 LANGVASSBUKT', 'RV2 FOETTASKJAERET', 'FV64 ISFJORDEN', 'RV15 MARKANE', 'SLEIPNER B', 'E6 VIKSELV', 'RV80 BERTNES', 'E8 GARDEBORGBAKKEN', 'FV650 BORRE', 'FV24 STORSJOEEN', 'E6 DJUPVIK', 'FV319 SAGBUKTA', 'E10 KAKERNBRUA', 'TROLL C', 'FV40 RIENLIA', 'RV76 TOSENFJELLET', 'E39 KVIVSVEIEN', 'RV70 RENSVIK', 'E6 KVAM', 'FV835 ENGELOEYBRUA', 'RV3 RENA', 'E39 GJEMNESSUNDBRUA', 'E6 ASEN', 'E8 LAVANGSDALEN', 'RV2 SORMA', 'TIME - LYE', 'E39 SUVATNET', 'FV569 FLERMOBERGET', 'RV7 NESBYEN', 'FV30 MOSENGET', 'RV94 SKJAHOLMEN', 'E39 FINNESTAD', 'E39 OSTEREIDET', 'FV120 ROEDSUND', 'RV35 EGGEMOEN', 'FV17 ROEDHAMMER', 'E39 FJOESANGERVEIEN', 'RV41 HYNNEKLEIV', 'RV5 SVARTHUMLE', 'FV715 MOMYR', 'PV98851 SKJELTENE', 'FV55 KONGSNES', 'FV21 TANGEN', 'RV714 VAVATNET', 'E6 BUVATNET', 'STORGAMA', 'FV175 FOLMO', 'GEITHUS', 'RV2 HASLEMOSLETTA', 'DRAMMEN - SLETTA', 'E16 FILEFJELL V/SMEDDALEN', 'FV50 VESTREDALEN', 'E6 NAMSSKOGAN', 'E16 EIDESMOEN', 'OSEBERG SOER', 'E39 KRINGLA', 'STATFJORD A', 'E6 GROENBAKKEN', 'FV580 HAUKELAND', 'E14 TEVELDAL', 'FV51 VALDRESFLYE', 'E18 SMALENENES BRU', 'FV614 LANGESI', 'ASGARD B', 'E136 BRUSTUGLIA', 'FV42 TVERRA', 'FV181 FINSBRATAN', 'RV3 BERGEROENNINGEN', 'RV22 KROKEDAL', 'RV7 OEVRE KROEDSHERAD', 'KV4821 NIPEDALEN', 'RV25 MIDTSKOGBERGET', 'E10 SKITDALSHOEGDA', 'STATFJORD B', 'E134 MEHEIA', 'FV615 HYEN', 'FV29 GRAVBEKKLIA', 'FV705 LANGSVOLA', 'E16 OEYERMOEN', 'FV353 BRUMYRDAL', 'E10 TJELDSUND BRU', 'E39 ROMARHEIMDALEN', 'E16 LANGHUSO', 'FV82 KJOELHAGEN', 'E6 FURUSET', 'FV45 HUNNEDALEN', 'FV172 HOLTER', 'FV51 GOLSFJELLET', 'RV36 SELJORD', 'MJOENDALEN - ORKIDEHOEGDA', 'RV15 TOTLAND', 'RV35 NAKKERUD', 'E6 KVAENANGSFJELLET', 'FV848 FORNES', 'E16 BEGNADALEN', 'E39 MEHAMMAR', 'FV888 STORE REINOKSEVATN', 'ROEYKEN - SKOGSBORG', 'FV30 RUGLDALEN', 'E134 VINJE', 'GARDERMOEN PLU', 'FV53 NADDVIK', 'E39 KALDFOSS', 'FV33 TONSASEN', 'FV76 OESTERHOLTHEIA', 'FV660 VISTDALSHEIA', 'E6 KIRKENES SYD', 'UVDAL KRAFTVERK', 'E18 STUDEVANN', 'E6 MAJAVATN', 'GAUSTATOPPEN', 'E8 GALGO', 'RV3 KOPPANG', 'E6 FILEFJELL', 'E39 FORUS', 'FV866 MAURSUND', 'RV4 STRYKEN', 'E18 HOLSTAD', 'RV15 FOSNES', 'FV40 DAGALIFJELL', 'ENGABREEN - SKJAERET', 'E39 REGEVIK', 'FV169 ASERUD', 'E18 LANNER', 'FV17 SJONFJELLET', 'E39 REED', 'MJOENDALEN - ASEN', 'FV37 RAULANDSFJELLET', 'FV770 ROERVIK', 'E16 GARDERMOEN', 'E39 BRUSDALEN', 'SKURDEVIKAI', 'E6 MALVIK', 'E16 SOLLIHOEGDA VEST', 'RV3 LITJFOSSEN', 'FV250 VINGOMRASAN', 'E6 MINNESUND', 'FV60 STRANDAFJELLET', 'RV3 KVIKNESKOGEN', 'FV308 TJOEME-BUDAL', 'FV53 BRENNBORG', 'FV84 GUMPEN', 'FV26 SKARVEN', 'E39 SVORTA', 'FV72 INNSMOEN', 'RV3 EBRU', 'SPOERTEGGBU', 'FV313 BOGEN', 'E18 SANDVIKA', 'RV7 SOKNA', 'E39 RENNESOEY', 'FV7 KVAMSKOGEN', 'FV60 UTVIKFJELLET', 'STEINKJER - SOENDRE EGGE', 'E18 HASLESTAD', 'E8 HALSEBAKKAN NEDRE', 'E10 AKKARVIKA', 'RV9 HEKNI', 'KVITEBJOERNFELTET', 'FV62 EIDSOERA', 'RV13 SVELGANE', 'E6 TUSSVIKA', 'FV572 EDDEGJELET', 'E6 ANDELVA', 'RV7 SKULEVIKA', 'E39 FLASKJAER', 'ORMEN LANGE', 'FV91 BREIVIKEIDET', 'FV509 SUNDEKROSSEN', 'RV4 LYGNA', 'FV510 REGE', 'FV217 STEINRUSTEN', 'GRANEFELTET', 'FV714 HITRA', 'FV347 ARNOEYA', 'E14 MEADAL', 'RV52 EIKREDAMMEN', 'GUDRUNFELTET', 'RV13 JOERPELAND', 'E6 SENNALANDET', 'FV74 SANDOELA', 'RV4 EINA', 'RV77 GRADDIS', 'E6 SKJOMENBRUA', 'RV150 AKER SYKEHUS', 'E134 FJAERA', 'E6 BARTA', 'E69 VEDBOTN', 'KRAKENES FYR', 'OEYFJELL - TROVATN', 'BUGOEYFJORD', 'VINSTRA', 'BINGSA', 'MESTERVIK', 'KONGSVOLL', 'VARDEFJELL', 'TRYSIL', 'BERGEN - PLEIESTIFTELSEN', 'FEREN', 'DRAG - AJLUOKTA', 'LUSTER SANATORIUM', 'LEIRKJOSEN', 'HOEYLANDET - DRAGEIDET', 'OTEREN', 'HELNES FYR', 'FANA FORSOEKSSTASJON', 'OERSTAVIK - VELLE', 'MERDOEY', 'FOERDE I SUNNFJORD II', 'BOE I VESTERALEN II', 'TRYVASSHOEGDA II', 'GEILO - GEILOSTOELEN', 'BERG I SNASA II', 'HVAM - TOLVHUS', 'BRENNELV', 'HJERKINN', 'MOSJOEEN - MOSAL', 'KAPP LEE', 'BASTAD', 'SOENSTERUD', 'YTTEROEY', 'BROENNOEYSUND III', 'FRIGG', 'SOMMAROEY I SENJA', 'SANDSOEY I SENJA', 'VERDAL - STIKLESTAD', 'SKJOMEN - SLETTJORD', 'LINDESNES FYR', 'OLDEN - VANGBERG', 'SYFTELAND', 'PASVIK', 'VEST-TORPA', 'KITTILBU', 'LESJASKOG', 'VERDAL - REPPE', 'KOBBELV', 'FJAERLAND - SKARESTAD', 'BARENTSBURG', 'TINGVOLL II', 'STRANDA - HELSEM', 'FANNARAKI', 'MOGEN TEST', 'HOELAND - LOEKEN', 'VOLLEN I SLIDRE', 'LINDESNES FYR', 'KLEPP', 'UTVIK', 'ALTA', 'MYKLEMYR', 'KIRKENES LUFTHAVN - HOEYDE 212', 'KINN', 'STARHEIM', 'KALVAERET', 'HAKADAL - BLIKSRUDHAGAN', 'SKUDENES II', 'NERDAL I RANA', 'KRISTIANSAND S - EG', 'ALNA', 'INDRE MATRE', 'SVANDALSFLONA', 'SANDNESSJOEEN - BJOERKLI', 'EIDSBERG - JOHNSRUD', 'FLISA', 'HAMMERFEST RADIO', 'VOSS - BOE', 'HOKKSUND - LOE', 'NORDLI - BRATTVOLD', 'VIVASSDALEN', 'VARDEN - FILEFJELL', 'TRONDHEIM - TYHOLT', 'LEIKANGER', 'STUGUSJOE - PATRUSLIA', 'LAERDAL - MOLDO', 'DOENSKI', 'OPPDAL', 'BJOERKEHAUG I JOSTEDAL', 'MAJAVATN III', 'MODALEN II', 'NELAUG - OEYNES', 'FLO', 'KJELLER II', 'MOESSTRAND', 'SKOTTERUD', 'KONSMO - HOEYLAND', 'FAUSKE - ERIKSTAD', 'DOVRE II', 'UALAND - BJULAND', 'YME', 'OEYESTRANDA', 'ULLADAL - FJELLBERG', 'MERAKER - KROGSTAD', 'UPSANGERVATN', 'AASEN', 'VENNAFJELL', 'LANGOEYTANGEN FYR', 'STUGUSJOE II', 'DAGALI', 'ROEST II', 'HOELAND - KOLLERUD', 'SAELI II', 'STAUR FORSOEKSGARD', 'VANGSNES', 'KISTRAND II', 'LEVAJOK - EVJEN', 'LOESSET', 'NORDREISA - OEYENG', 'DOMBAS - KIRKENAER', 'BOLNA', 'KOPPANG - OEYSET', 'FILEFJELL - GROVSTOELEN', 'SAETER I KVIKNE', 'SELBU - BOGSTAD', 'SIRDAL - TJOERHOM', 'HATTFJELLDAL IV', 'HAUGASTOEL', 'MERAKER II', 'LYNGSEIDET IV', 'NORDFJORDEID', 'HOEYLANDET', 'SKIBOTN', 'HORNSET', 'GULLFJELL - OSAVANN', 'OERLAND II', 'LILLEHAMMER III', 'LESJA - NORDERHUS', 'SOERNESSET', 'VOSS II', 'OFFERSOEY II', 'MOSJOEEN - ASBYEN', 'SANDSOEY I SENJA III', 'DALEN I TELEMARK II', 'MO I RANA II', 'ROED I RADE', 'BRATA', 'VINJEOERA III', 'DAGALI - FAGERLUND', 'REIMEGREND', 'HAUKELISETER BROEYTESTASJON', 'BOE I VESTERALEN', 'SIKKILSDAL', 'HOVDEN', 'SELBU - STUBBE', 'VINSTRA - SOLSTAD', 'STABBURSDALEN', 'FOERDE I SUNNFJORD', 'OPPDAL - MYRHAUGEN', 'EVENSTAD - OEVERENGET', 'TRYSIL - INNBYGDA', 'EIDFJORD - BU', 'DRAMMEN - MARIENLYST', 'SLAGENTANGEN II', 'FORTUN', 'GODAL', 'BUGOEYFJORD KRO', 'JELOEY', 'TINGVOLL', 'BODOE LUFTHAVN TEST', 'BYGDOEY', 'SULDAL - MO', 'FINNOEY I HAMAROEY', 'TONSTAD', 'LITLOEY FYR', 'TENNEVOLL', 'HVAM', 'ALTA AERADIO', 'NORDREISA', 'OTTASEN', 'LEVANGER - EGGEN', 'BJOERNEVATN', 'BUSKERUD', 'OMASTRAND', 'BERKAK II', 'GEILO - STRAND', 'AMI', 'BOEVERDAL - SLETTEN', 'SLIRA', 'GJERMUNDNES', 'GIBOSTAD', 'SKUDENES', 'FJAERLAND', 'REBBENESOEY - GRAHAUGEN', 'BERLEVAG - BAKKETUN', 'NAMDALSEID - VENGSTAD', 'FISTER - TOENNEVIK', 'KINN', 'BEITOSTOELEN', 'NARVIK III', 'SENJA - LAUKHELLA', 'MAGNOR', 'EGNERFJELL', 'HAREID - GRIMSTAD', 'HOF-EIKENES', 'BERGLIGREND TEST', 'EIDSBERG II', 'KARPBUKT II', 'HALVMANEOEYA', 'KALNES', 'SKIBOTN - FOSSBAKK', 'VOSS - TVILDE', 'EKKEROEY', 'SKAFSA', 'SKODJE', 'HJELVIK - MYRBOE', 'FINSE', 'GJEILO I SKJAK', 'TINNOSDAMMEN', 'LILLEHAMMER II', 'HUSTAD - NERLAND', 'EVENSKJER', 'YTTEREN I RANA', 'LEIRAMO', 'MANDAL II', 'SKATTOERA', 'TRONDHEIM II', 'VERDAL - SUL', 'OPPDAL - BJOERKE', 'RENNESOEY - GALTA', 'HOELAND - FOSSER', 'FLATNESET', 'OEVERBYGD', 'VALLERSUND', 'MAKEROEY', 'MAJAVATN II', 'ALVDAL', 'KISTRAND', 'STOKKE', 'TROMSOE I', 'AURSJOEEN', 'BERKAK', 'EVENSTAD - SVEA', 'ULLENSVANG - HELLELAND', 'FAUSKE - VETEN', 'KVAMSKOGEN', 'MELDAL - MUAN', 'LOEN', 'FLUBERG - ROEEN', 'ROEST III', 'FOERDE - VIE', 'BERGEN - FREDRIKSBERG', 'ORKDAL - OEYUM', 'DAGALI II', 'HINDSETER', 'DOMBESTEIN', 'SALTFJELL - STOEDI', 'VORMSUND', 'KRISTIANSUND N', 'OEYFJELL I TELEMARK', 'ANDOEYA LH - TEST', 'SANDE - VALLE', 'LONGYEARBYEN', 'RANA - BASMOEN', 'VATNAHALSEN', 'BROENNOEYSUND', 'ROEST', 'KLETKOVFJELL', 'SAELI I', 'KONSMO - EIKELAND', 'FUGLOEYKALVEN FYR', 'NAMDALSEID - BOEGSET', 'HAUGASTOEL II', 'BJAEN', 'VINGER', 'OSLO - OBSERVATORIET (HYTTE)', 'BERKAK - LYNGHOLT', 'SANDSOEY I SENJA II', 'HYLSFJORDEN', 'OEVRE JERVAN', 'MO I RANA', 'OESTFOLDTOPPEN', 'SELBU', 'SUNNDAL', 'FIPLINGVATN', 'TYNSET - STOEEN', 'SVENNINGDAL', 'HATTFJELLDAL III', 'TINGVOLL - HANEM', 'YTTERHOLMEN FYR', 'OFFERSOEY', 'OPPSTRYN', 'GRIMSTAD', 'LYNGDAL I NUMEDAL', 'ELVESETER', 'GREEN HARBOUR', 'SUSENDAL - BJORMO', 'MANDAL', 'FISTER', 'TYNSET', 'SKUDENES III', 'NORD-LENANGEN', 'SOLVAER - SLENESET', 'STORVOLL', 'SALTDAL', 'BARDUFOSS - TEST', 'ROEVASSDALEN', 'SLAGENTANGEN', 'SENJA - GRASMYRSKOGEN', 'JOMFRULAND FYR', 'VINJEOERA II', 'HYLESTAD - BROKKE', 'BORKENES', 'FOERDE - TEFRE', 'HJELVIK I ROMSDAL', 'FORNEBU', 'STUGUSJOE I TYDAL', 'LEKA', 'AUST-TORPA II', 'VERDALSOERA', 'EGGEMOEN', 'LAERDAL - TOENJUM', 'SULSTUA', 'OEVRE TESSA', 'HYWIND', 'MODALEN', 'SANDNESSJOEEN - SOERRA', 'OEVRE SALTDAL', 'LOPPA', 'GEILO II', 'BUSNES', 'TYINKRYSSET', 'VEFALL I DRANGEDAL', 'SKALMEN FYR', 'EIDANGER', 'FAUSKE', 'SVARTTANGEN', 'KVESMENES - RYENG', 'LOEN - RAUDI', 'LESJAVERK', 'YTRE RENDAL II', 'SULITJELMA GRUBER', 'HARRAN', 'STUGUSJOE - FLATEN', 'DYSTERUD', 'SKABU - STORSLAEN', 'TENNHOLMEN FYR', 'NORDRE EIGEROEY', 'JARLSBERG FLYPLASS', 'AMOT', 'SAELI III', 'STANGE - FOKHOL', 'KONSMO - HAEGELAND', 'KISTRAND III', 'HATTFJELLDAL II', 'DOMBAS II', 'HATTFJELLDAL - KRUTA', 'MERAKER - LILLESVE', 'SKIBOTN - MELA', 'TRONDHEIM', 'MERAKER - UTSYN', 'PRESTEBAKKE', 'FROEYSTUL', 'HATTFJELLDAL V', 'KYSNESSTRAND', 'OTTA - BREDVANGEN', 'EIDSBERG', 'VOSS - TVILDEMOEN', 'CROZIERPYNTEN', 'HELLISOEY FYR', 'ASKER BRANNSTASJON', 'MYRDAL III', 'NORDLI III', 'KJOEREMSGRENDE TEST', 'MAJAVATN - KAPPFJELLI', 'HUSTAD II', 'EVENSKJER BAKKE', 'LUSTER - ORNES', 'VETLEFJORD - LANGETEIG', 'FV650 LIABYGDA', 'E39 AKSDAL SOER', 'BEIARN - HAUGBAKK III', 'TYNSET II', 'E6 SOKNEDAL', 'ETNEDAL - KLEIVGARDSOEYI', 'HOLANDSFJORD - HALVKANNENESET', 'TOKKE - BOTNEDALEN', 'SANDDOKKRYGGEN', 'SIRDAL - ROSKREPP', 'MAZE - RUOGOROAVVI', 'LUSTER BADEPLASS', 'BEIARN - HAUGBAKK II', 'RV13 EIANE', 'REKNES SANAT', 'FV65 NORDMARKA I SURNADAL', 'GRANE II', 'STEINKJER - FINNMARKA', 'RV555 SOTRABRUA', 'RV36 FJAEREKILEN', 'KV4339 BLINDHEIM', 'RAKE II', 'SANDSA', 'OSLO - OBSERVATORIET (VINDU)', 'HOEGALOFTSKVELVEN', 'HJERKINN VEGGARASJE', 'E6 RUDSHOEGDA', 'BJOELLADALEN', 'HULDRAFELTET', 'RUNDHOEE', 'ULLADAL - DALBOTN', 'E6 HEIMDAL', 'TRONDHEIM - MOHOLT', 'DOMBAS - KIRSTISTUGU', 'SIRDAL - DUGE', 'KONGSBERG - GUSKISTE', 'NY-ALESUND TEST', 'HOEGALOFT', 'FV813 BEIARFJELLET', 'VAMARVATN - SKULETVEIT', 'NORDRE BJOERAA', 'E134 VATS', 'LUSTER - SKILDHEIM', 'RV7 DYRANUT', 'NJORD A', 'ULLADAL - GIL', 'GRANE', 'BEIARN - HAUGBAKK IV', 'MAZE - BOJAROAVVI', 'E39 EIKJE', 'STORMDALEN', 'STORGLOMVATNET', 'RAKE', 'MARIFJOERA - GARDEN', 'E18 VESTMARKA', 'HOLANDSFJORD - SOMMARSET', 'SANDDOKKI', 'DUEKNIPEN', 'HOLLSTAD', 'FV21 AREBEKKEN', 'RV156 DALSBEKKEN', 'FV45 DIRDAL', 'TURELVA', 'FV45 SKAFSA', 'DALEN - TIPPEN', 'FV53 TYINOSEN', 'TROMSOE PLU', 'STEINKJER - VARTUN', 'AUSTRE BROEGGERBREEN', 'MANDAL - EIGEBREKK', 'E6 AKERSVIKA', 'RV92 SUOSSJAVRI', 'SIRDAL - TJOERHOM II', 'RAKE III', 'ROMSDAL - ALNES', 'OSLO - HAUSMANNSGT', 'E18 VASSBOTN', 'VAMARVATNET - KINGLAND', 'BEIARN - HAUGBAKK', 'KROKSTADELVA - LANGELOEKKA', 'STORSTILLA', 'SOLBERGELVA - OLLEVEIEN', 'SJUSJOEEN - STORASEN', 'MOESVASSDAMMEN', 'STRENGEN', 'ROELDAL KRAFTVERK', 'MAR - SYNKEN', 'LEBESBY - KARLMYHR', 'REINDALSPASSET', 'JANSSONHAUGEN VEST', 'NORDLI - SANDVIKA', 'SKARDSBOEFJELLET', 'SKISTUA', 'AASTA HANSTEEN', 'HAUKELISETER TESTFELT', 'GRYTAI', 'LAPPSAETRA', 'SVARTTJOERNBEKKEN', 'KLAEBU II', 'OEVRE LEIRBOTN', 'ANESTOELEN', 'BRUNKOLLEN', 'OPPDAL - MAURHAUGEN', 'MUREN', 'GRIMSE', 'OEVERBYGD II', 'NAMSVATN II', 'ITASMOBAWS1', 'SKRIVERBERGET', 'NIEL-BIJ-ST.-TRUIDEN_P', 'WAREGEM_P', 'LIEDEKERKE_P', 'ZARREN_P', 'HERENTALS_P', 'OVERPELT_P', 'TOENSBERG - KARLSVIK', 'TOENSBERG - VALLOE', 'TOENSBERG - VEAR', 'TOENSBERG - EIK', 'TOENSBERG - BERKAKER', 'FV63 TROLLSTIGEN', 'FV654 HEROEYBRUA', 'FV24 RASAN', 'E18 SPRANGFOSS BRU', 'FV17 ASELIBRUA', 'BRUSDALEN', 'FV38 BUSTRAK', 'FV115 HEMNES', 'RV3 EVENSTAD', 'E134 GVAMMEN', 'FV17 SALTSTRAUMBRUA', 'TOENSBERG GJESTEHAVN', 'ISTJOERNDALEN', 'FV710 KJOERMOEN', 'FV5876 RUNDEBRUA', 'RV651 STIGEDALEN', 'GARDERMOEN - SOEROEST', 'RV3 STABEKKEN', 'ALBARETO_-_CARAFFINI', 'BORGONOVO_-_GENESI', 'LAGO_SCAFFAIOLO_NIVO', 'VERAGO', 'VICOMARINO', 'RICCIONE_URBANA', 'FV61 KVILEHYTTA', 'BOEKHOUTE_ME', 'MELSELE_ME', 'NEDRE SASSENDALEN', 'KLAUVA', 'BAUSKA', 'DAGDA', 'DAUGAVPILS', 'JELGAVA', 'MADONA', 'REZEKNE', 'RIGA LU', 'RUJIENA', 'SALDUS', 'HASENKRUG-HARDEBEK', 'WACKEN', 'KVADEHUKEN II', 'KAFFIOEYRA', 'VIELHA-ELIPORT', 'UMANA', 'ASSELBORN', 'BERINGEN', 'BETTENDORF', 'BREIDFELD', 'CLEMENCY', 'DAHL', 'ECHTERNACH', 'ESCH SURE', 'ESCHDORF', 'ETTELBRUCK', 'FOUHREN', 'GODBRANGE', 'GREVENMACHER', 'HOSINGEN', 'MAMER', 'MERL', 'OBERCORN', 'RECKANGE', 'REMERCHEN', 'REMICH', 'REULER', 'ROESER', 'ROODT', 'SCHIMPACH', 'STADTBREDIMUS', 'STEINSEL', 'TRINTANGE', 'USELDANGE', 'WALDBILLIG', 'WINCRANGE', 'SIRDAL \\x88� SMOELEHEIKNUDEN', 'VALE', 'UNDRUMSDAL', 'FON', 'REVETAL', 'RV15 BREIDALEN II', 'RV9 MOISUND', 'RV9 BYKLE', 'E16 DALSEID', 'E39 SOLAVAGEN FERGEKAI', 'E39 SANDE BRU', 'FV 7862 KAPERSKARET', 'GUMPOLDSKIRCHEN', 'KAPFENBERG-FLUGFELD', 'HORN -  WASSERWERK', 'GASCHURN', 'KLAGENFURT/HTL1-LASTENSTRASSE', 'ROHRBACH', 'ANDAU', 'LITSCHAU', 'LITSCHAU', 'PFAFFENSCHLAG', 'JAPONS', 'SCHOENFELD', 'RAABS/THAYA', 'RETZ', 'RETZ', 'RETZ/WINDMUEHLE', 'UNTERRETZBACH', 'KOLLERSCHLAG', 'ROHRBACH', 'ROHRBACH', 'FREISTADT', 'FREISTADT', 'FREISTADT', 'KARLSTIFT', 'WEITRA', 'WEITRA', 'SCHWARZENAU', 'STIFT ZWETTL', 'STIFT ZWETTL', 'HORN', 'HORN', 'GARS/KAMP', 'HOLLABRUNN/SCHOENGRABERN NORD', 'SCHOENGRABERN', 'LAA/THAYA', 'LAA/TH.KLAERANLAGE', 'OBERLEIS', 'MISTELBACH AN DER ZAYA', 'MISTELBACH', 'POYSDORF', 'POYSDORF-OST', 'WILFERSDORF', 'HOHENAU/MARCH', 'HOHENAU', 'REICHERSBERG', 'SCHAERDING', 'WAIZENKIRCHEN', 'WAIZENKIRCHEN', 'ASCHACH', 'LINZ/STADT', 'LINZ-STADT', 'REICHENAU-OOE.', 'OBERNEUKIRCHEN', 'LINZ-MUSEUMSTR.', 'LINZ/PETRIUM', 'ALLERHEILIGEN', 'PABNEUKIRCHEN', 'BAD ZELL', 'KOENIGSWIESEN', 'ZILLECK', 'BAERNKOPF', 'GUTENBRUNN-MARTINSBERG', 'GUTENBRUNN', 'JAUERLING', 'KREMS', 'LANGENLEBARN', 'WIEN-STREBERSDORF', 'BRAUNAU/RANSHOFEN', 'OSTERMIETHING', 'MATTIGHOFEN', 'MATTIGHOFEN', 'RIED IM INNKREIS', 'GALLSPACH', 'WOLFSEGG', 'WOLFSEGG', 'VOECKLABRUCK', 'LAMBACH', 'WELS-SCHLEISSHEIM', 'HOERSCHING', 'KREMSMUENSTER', 'ENNS', 'STEYR', 'STEYR-STADTGUT', 'WACHTBERG/STEYR', 'WACHTBERG BEI STEYR', 'ENNS', 'AMSTETTEN-GIESSHUEBL', 'AMSTETTEN', 'AMSTETTEN', 'YBBS/PERSENBEUG', 'MELK', 'OBERNDORF/MELK', 'OBERNDORF/MELK', 'MELK', 'WIESELBURG', 'PETZENKIRCHEN', 'ST.POELTEN/HESSERKASERNE', 'ST.POELTEN/WALLSEERER STRASSE', 'ST.POELTEN/LANDHAUS', 'TRAISEN', 'ESCHENAU/TRAISEN', 'LILIENFELD', 'LILIENFELD-TARSCHBERG', 'HAINFELD/KASBERG', 'ALTENMARKT/TRIESTING', 'KLAUSEN-LEOPOLDSDORF', 'KOHLREIT', 'KOHLREITHBERG', 'BUCHBERG', 'WIEN-JUBILAEUMSWARTE', 'WIEN-MARIABRUNN', 'WIEN-MARIABRUNN', 'WIEN/SCHOENBRUNN', 'WIEN ALTE UNIV.(STERNW)', 'WIEN/UNTERLAA', 'GROSS-ENZERSDORF', 'MUENCHENDORF', 'SCHWECHAT', 'FUCHSENBIGL', 'BRUCKNEUDORF', 'SALZBURG-FREISAAL', 'IRRSDORF', 'MONDSEE', 'THALHAM', 'EBENSEE', 'FEUERKOGEL', 'GMUNDEN', 'ALTMUENSTER', 'MICHELDORF', 'WEYER', 'WAIDHOFEN/YBBS', 'WAIDHOFEN/YBBS', 'LUNZ', 'GOESTLING/YBBS', 'LUNZ AM SEE', 'MARIAZELL', 'MARIAZELL', 'ST.SEBASTIAN/MARIAZELL', 'MARIAZELL/ST.SEBASTIAN-FLUGFELD', 'SCHWARZAU/GEBIRGE', 'PUCHBERG/SCHNEEBERG', 'PUCHBERG', 'HOHE WAND/HOCHKOGELHAUS', 'WR.NEUSTADT - FOHLENHOF', 'WR.NEUSTADT-FLUGPL.', 'WR.NEUSTADT/FLUGPLATZ', 'WR.NEUSTADT - REBANLAGE', 'GUTENSTEIN/MARIAHILFBERG', 'BERNDORF', 'EISENSTADT', 'EISENSTADT', 'EISENSTADT-NORDOST', 'SEIBERSDORF', 'ILLMITZ', 'NEUSIEDL AM SEE', 'NEUSIEDL AM SEE', 'NEUSIEDL AM SEE', 'PODERSDORF', 'ANDAU  ALT', 'VILS', 'OBERNDORF/EBBS', 'KOESSEN', 'LOFERER ALM', 'HALLEIN', 'ABTENAU', 'BAD ISCHL', 'KRIPPENSTEIN', 'AIGEN/ENNSTAL', 'ADMONT-KAISERAU', 'ADMONT/STIFT', 'HIEFLAU', 'HIEFLAU', 'MOOSLANDL', 'PRAEBICHL', 'KINDBERG', 'MUERZZUSCHLAG', 'RAX/SEILBAHNBERGSTATION', 'SEMMERING', 'SEMMERING/SUEDBAHN-HOTEL', 'MOENICHKIRCHEN', 'MOENICHKIRCHEN', 'BREITENSTEIN', 'REICHENAU/RAX', 'POTTSCHACH', 'POTTSCHACH', 'HIRSCHENKOGEL', 'ASPANG', 'WIESMATH', 'ASPANG', 'ASPANG', 'OBERPULLENDORF', 'MATTERSBURG', 'DEUTSCHKREUTZ', 'BREGENZ', 'BREGENZ', 'BREGENZ', 'FRAXERN', 'FRAXERN', 'FUSSACH', 'FELDKIRCH', 'DORNBIRN', 'FELDKIRCH', 'ALBERSCHWENDE', 'ROHRSPITZ', 'SCHOPPERNAU', 'HITTISAU', 'SCHOPPERNAU', 'HITTISAU', 'SCHROECKEN', 'SCHROECKEN', 'WARTH', 'MITTELBERG', 'HOLZGAU', 'HOLZGAU', 'HOLZGAU', 'TANNHEIM', 'REUTTE', 'REUTTE', 'EHRWALD', 'EHRWALD', 'EHRWALD', 'EHRWALD', 'SEEFELD', 'SEEFELD', 'INNSBRUCK-FLUGPLATZ', 'INNSBRUCK-UNIV.', 'INNSBRUCK-FLUGPLATZ', 'HAFELEKAR', 'JENBACH', 'JENBACH', 'ROTHOLZ', 'PERTISAU', 'ALPBACH', 'KITZBUEHEL', 'HAHNENKAMM-EHRENBACHHOEHE', 'SAALBACH', 'SCHMITTENHOEHE', 'PUSTERWALD', 'SECKAU', 'ST.MICHAEL B. LEOBEN', 'BRUCK/MUR', 'KAPFENBERG', 'FROHNLEITEN', 'BERNSTEIN', 'LAZ', 'MUTTERSBERG', 'VANDANS', 'ST.ANTON AM ARLBERG', 'LANGEN AM ARLBERG', 'LANDECK', 'HOCHSERFAUS', 'IMST', 'RIED IN TIROL', 'HAIMING', 'KUEHTAI', 'ST.LEONHARD-NEURUR', 'UMHAUSEN', 'BRENNER', 'PATSCHERKOFEL', 'RINN', 'SCHMIRN', 'MAYRHOFEN', 'MAYRHOFEN', 'KRIMML', 'RUDOLFSHUETTE', 'SCHNEIDERAU', 'KALS', 'KALS', 'SONNBLICK', 'KOLM SAIGURN', 'BAD GASTEIN', 'BAD HOFGASTEIN', 'OBERTAUERN', 'ST.MICHAEL/LUNGAU', 'TAMSWEG', 'TAMSWEG', 'KATSCHBERG', 'OBERWOELZ', 'NEUMARKT', 'NEUMARKT', 'LOBMING', 'GRAZ-FLUGHAFEN', 'GRAZ-MESSENDORFBERG', 'GRAZ-UNIVERSITAET', 'GRAZ/STRASSGANG', 'SCHOECKL', 'SCHOECKL', 'GLEISDORF', 'GLEISDORF', 'WEIZ', 'FUERSTENFELD', 'FUERSTENFELD', 'GUESSING', 'GERERSDORF B.GUESSING', 'GUESSING', 'WOERTERBERG', 'WOERTERBERG', 'KLEINZICKEN', 'KLEINZICKEN', 'OBERVERMUNT', 'PARTENEN', 'GARGELLEN', 'GALTUER', 'NAUDERS', 'NAUDERS', 'OBERGURGL', 'OBERGURGL', 'VENT', 'PITZTALER GLETSCHER', 'BRUNNENKOGEL', 'ST.JAKOB/DEF.', 'ST.JAKOB/DEF.', 'LIENZ', 'DOELLACH-SAGRITZ', 'DOELLACH', 'DOELLACH/MOELLTAL', 'ISELSBERG', 'KOLBNITZ', 'OBERVELLACH', 'OBERVELLACH', 'LITZLHOF', 'RADENTHEIN', 'FLATTNITZ', 'WEITENSFELD', 'FRIESACH', 'SILBEREGG', 'ST.VEIT/GLAN', 'PREITENEGG', 'BAD GLEICHENBERG', 'FELDBACH', 'SILLIAN', 'VORHEGG', 'LAAS', 'LAAS', 'REISACH', 'HERMAGOR', 'BAD BLEIBERG', 'BAD BLEIBERG', 'BAD BLEIBERG', 'VILLACHER ALPE', 'VILLACHER ALPE', 'KANZELHOEHE', 'KANZELHOEHE', 'KANZELHOEHE', 'ARRIACH', 'VELDEN', 'VILLACH/SEEBACH', 'VILLACH/MARIA GAIL', 'VILLACH', 'FERLACH', 'FERLACH', 'KLAGENFURT-FLUGPLATZ', 'KLAGENFURT-FLUGHAFEN', 'RUPERTIBERG', 'FEISTRITZ/ROSENTAL', 'FELDKIRCHEN', 'HOEHENBERGEN-TAINACH', 'HOCHOBIR', 'ST.MICHAEL/BLEIBURG', 'VOELKERMARKT', 'FEISTRITZ OB BLEIBURG', 'ST.PAUL/LAVANTTAL', 'WIEL', 'BAD RADKERSBURG', 'BAD RADKERSBURG', 'LOIBL-TUNNEL', 'BAD EISENKAPPEL', 'BAD EISENKAPPEL', 'VOELKERMARKT-GOLDBRUNNHOF', 'REICHERSBERG/STIFT', 'JAUERLING/ORF', 'JOCHING', 'KREMS', 'KREMS', 'LANGENLOIS', 'ZWERNDORF', 'GAENSERNDORF-STADT', 'STOCKERAU', 'LANGENLEBARN', 'WIEN/STAMMERSDORF', 'WOLKERSDORF', 'SCHLEINBACH', 'RANSHOFEN', 'FELDKIRCHEN/MATTIGHOFEN', 'BRUNN AM GEBIRGE', 'BADEN', 'GUMPOLDSKIRCHEN', 'WIEN-HOHE WARTE', 'WIEN FAVORITEN', 'WIEN-UNTERLAA', 'WIEN-INNERE STADT', 'WIEN-HOHE WARTE HANNHUETTE', 'WIEN HOHE WARTE (MIT 21 UHR TERMINEN)', 'GROSS-ENZERSDORF', 'GARS/KAMP', 'FISCHAMEND', 'SALZBURG-FREISAAL', 'SALZBURG', 'SALZBURG/LEHRERSEMINAR', 'MATTSEE', 'MATTSEE', 'WEYREGG', 'WEISSENKIRCHEN', 'KOETSCHACH-MAUTHEN', 'FEUERKOGEL', 'KORNAT', 'GMUNDEN', 'LENZING', 'SILLIAN', 'SILLIAN', 'GRUENAU', 'TERNBERG', 'REICHRAMING', 'GROSSRAMING/KRAFTWERK', 'BAD GLEICHENBERG', 'DEUTSCHLANDSBERG', 'DEUTSCHLANDSBERG', 'WOLFSBERG-REDING', 'PREITENEGG', 'ST.ANDRAE/LAVANTTAL', 'ST.ANDRAE-WINKLING', 'ST.VEIT/GLAN', 'ST.VEIT/GLAN', 'WEITENSFELD', 'WEITENSFELD', 'REISSECK', 'GMUEND', 'SPITTAL/DRAU', 'SPITTAL/DRAU', 'MILLSTATT-KLEINDOMBRA', 'OBERVELLACH', 'PITTEN', 'NEUDORF/LANDSEE', 'NEUSIEDL AM SEE', 'HALLSTATT', 'AIGEN/ENNSTAL', 'ADMONT', 'ADMONT-MOORWIRTSCHAFT', 'HALL/ADMONT', 'ROTTENMANN', 'KIRCHDORF/TIROL', 'UNKEN', 'LOFER', 'LOFER/ORT', 'DUERRNBERG', 'GOLLING', 'JAPONS', 'KOLLERSCHLAG', 'ALLENTSTEIG-KAUFHOLZ', 'ALLENTSTEIG', 'HOLLABRUNN/SCHOENGRABERN', 'LEISER BERGE', 'REICHERSBERG', 'REICHENAU/MUEHLKREIS', 'LANGENLOIS', 'GAENSERNDORF', 'RIED IM INNKREIS', 'GALLSPACH', 'RANDEGG', 'ST.POELTEN/KOPALKASERNE', 'BADEN', 'GUMPOLDSKIRCHEN', 'BRUCKNEUDORF/HEIDEHOF', 'MATTSEE', 'MONDSEE', 'KIRCHDORF/KREMS', 'WEYER', 'WAIDHOFEN/YBBS-ZENTRUM', 'PUCHBERG/SCHNEEBERG', 'BERNDORF', 'SEIBERSDORF', 'FRIESACH', 'ST.ANDRAE/LAVANTTAL', 'BAD GLEICHENBERG', 'VILLACH/VASSACH', 'VILLACH-STADT', 'BAD RADKERSBURG', 'LOIBL/TUNNEL', 'ANDAU', 'SULZBERG', 'ACHENKIRCH', 'ACHENKIRCH', 'KIRCHBICHL', 'KUFSTEIN', 'KUFSTEIN', 'ST.KOLOMAN', 'ABTENAU', 'ST.WOLFGANG', 'BAD ISCHL', 'BAD ISCHL', 'SCHOENBERGALM', 'BAD AUSSEE', 'PRAEBICHL', 'MUERZZUSCHLAG', 'REICHENAU/RAX', 'HOCHFILZEN', 'BISCHOFSHOFEN', 'NEUMARKTER SATTEL', 'NEUMARKT', 'MURAU', 'STOLZALPE', 'STOLZALPE', 'KRAKAUEBENE', 'OBERWOELZ', 'FLATTNITZ', 'TAMSWEG', 'TAMSWEG', 'TAMSWEG', 'ST.MICHAEL/LUNGAU', 'ST.MICHAEL IM LUNGAU', 'RADSTADT-TANDALIER', 'BAD GASTEIN/BOECKSTEIN', 'BAD HOFGASTEIN', 'BAD GASTEIN', 'BAD GASTEIN', 'HEILIGENBLUT', 'RAURIS', 'RAURIS', 'RAURIS', 'KALS', 'RUDOLFSHUETTE/WEISSSEE', 'MOOSERBODEN', 'ENZINGERBODEN', 'KRIMML', 'KRIMML', 'ZELL AM ZILLER', 'MAYRHOFEN', 'RINN', 'RINN', 'PATSCHERKOFEL', 'BRENNER', 'BRENNER', 'NEUSTIFT/MILDERS', 'UMHAUSEN', 'ST.LEONHARD/PITZTAL', 'PIOESMES', 'HAIMING', 'HAIMING', 'OBERZEIRING', 'HAIMING', 'PRUTZ', 'IMST', 'TRIEBEN', 'IMST', 'LANDECK', 'LANGEN AM ARLBERG', 'VALLUGA', 'GALZIG', 'ST.ANTON AM ARLBERG', 'ST.ANTON AM ARLBERG', 'SCHLINS', 'BRAND', 'BLUDENZ', 'BLUDENZ', 'BLUDENZ', 'BUERS', 'LUTZMANNSBURG', 'GLASHUETTEN', 'BERNSTEIN', 'BERNSTEIN', 'KROISEGG', 'HARTBERG', 'ALTENBERG/HARTBERG', 'BIRKFELD', 'RECHBERG', 'LEOBEN', 'KALWANG', 'KALWANG', 'SECKAU', 'BRUCK/MUR', 'BRUCK/MUR', 'WAIDHOFEN/YBBS', 'NEUSIEDL AM SEE', 'ACHENKIRCH CAMPINGPLATZ', 'KORNAT', 'SEMMERING', 'DACHSTEIN-HUNERKOGEL', 'DACHSTEIN-SCHLADMING GLETSCHER', 'MITTERSILL', 'POERTSCHACH', 'WIEN-DONAUFELD', 'MONDSEE', 'RUDOLFSHUETTE', 'AIGEN/ENNSTAL', 'ALLENTSTEIG', 'AMSTETTEN', 'BAD BLEIBERG', 'BAD GASTEIN', 'BAD GLEICHENBERG', 'BAD RADKERSBURG', 'BERNSTEIN', 'BISCHOFSHOFEN', 'BREGENZ', 'BRENNER', 'BRUCK/MUR', 'BRUCKNEUDORF', 'EHRWALD', 'BAD EISENKAPPEL', 'EISENSTADT-NORDOST', 'ENNS', 'FELDKIRCH', 'FREISTADT', 'GALLSPACH', 'GALTUER', 'GMUNDEN', 'GRAZ-UNIVERSITAET', 'GROSS-ENZERSDORF', 'GUMPOLDSKIRCHEN', 'MARTINSBERG', 'HEILIGENBLUT', 'HIEFLAU', 'HOHE WAND/HOCHKOGELHAUS', 'SCHOENGRABERN', 'IMST', 'INNSBRUCK-UNIV.', 'JENBACH', 'KALS', 'KALWANG', 'KOENIGSWIESEN', 'KREMS', 'KRIMML', 'KLAGENFURT-FLUGHAFEN', 'KLEINZICKEN', 'LANDECK', 'LANGENLEBARN', 'LANGENLOIS', 'LIENZ', 'LINZ-STADT', 'LITSCHAU', 'LUTZMANNSBURG', 'MARIAZELL/ST.SEBASTIAN-FLUGFELD', 'MATTSEE', 'MAYRHOFEN', 'MOENICHKIRCHEN', 'NEUMARKT', 'NEUSIEDL AM SEE', 'OBERGURGL', 'LEISER BERGE', 'OBERTAUERN', 'OBERVELLACH', 'POYSDORF-OST', 'PREITENEGG', 'PUCHBERG/SCHNEEBERG', 'RADSTADT-TANDALIER', 'RANDEGG', 'BRAUNAU/RANSHOFEN', 'REUTTE', 'ROHRBACH', 'RAURIS', 'RAVELSBACH', 'REICHENAU/RAX', 'RETZ/WINDMUEHLE', 'RUDOLFSHUETTE', 'SAALBACH', 'SAALFELDEN', 'SCHMITTENHOEHE', 'SCHOECKL', 'SEEFELD', 'SEMMERING', 'STIFT ZWETTL', 'ST.ANDRAE/LAVANTTAL', 'FEISTRITZ OB BLEIBURG', 'ST.MICHAEL/LUNGAU', 'ST.POELTEN/LANDHAUS', 'ST.VEIT/GLAN', 'STOLZALPE', 'TAMSWEG', 'UNKEN', 'VILLACH-STADT', 'WAIDHOFEN/YBBS', 'WEITENSFELD', 'WEYER', 'WIEN-HOHE WARTE', 'WIEN-MARIABRUNN', 'WIEN/UNTERLAA', 'ST.WOLFGANG', 'WOLFSBERG', 'WOLFSEGG', 'WR.NEUSTADT/FLUGPLATZ', 'ZELL AM ZILLER - ROHRBERG', 'DEUTSCHLANDSBERG', 'KITZBUEHEL', 'ST.ANTON AM ARLBERG', 'FERLACH', 'NAUDERS', 'KANZELHOEHE', 'SECKAU', 'HAIMING', 'RINN', 'LOFER/ORT', 'SILLIAN', 'SALZBURG-FLUGHAFEN', 'BAD ISCHL', 'FRAXERN', 'GAENSERNDORF-STADT', 'UMHAUSEN', 'DOELLACH', 'RIED IM INNKREIS', 'KUFSTEIN', 'MICHELDORF', 'SALZBURG-FREISAAL', 'HOLZGAU', 'WEITRA', 'SPITTAL/DRAU', 'ACHENKIRCH CAMPINGPLATZ', 'LAA/TH.KLAERANLAGE', 'PRAEBICHL', 'FUERSTENFELD', 'OBERNDORF/MELK', 'KOLLERSCHLAG', 'HOHENAU', 'REICHERSBERG', 'WAIZENKIRCHEN', 'REICHENAU/MUEHLKREIS', 'MONDSEE', 'BERNDORF', 'ABTENAU', 'HALL/ADMONT', 'MUERZZUSCHLAG', 'POTTSCHACH', 'ASPANG', 'SCHOPPERNAU', 'SCHROECKEN', 'MITTELBERG', 'INNSBRUCK-FLUGPLATZ', 'HAHNENKAMM-EHRENBACHHOEHE', 'HOCHFILZEN', 'BLUDENZ', 'OBERWOELZ', 'GUESSING', 'PITZTALER GLETSCHER', 'ST.JAKOB/DEF.', 'FLATTNITZ', 'FRIESACH', 'VOELKERMARKT-GOLDBRUNNHOF', 'MELK', 'JAPONS', 'WACHTBERG BEI STEYR', 'PATSCHERKOFEL', 'SEIBERSDORF', 'POERTSCHACH', 'HORN -  WASSERWERK', 'GLEISDORF', 'WEIZ', 'WOERTERBERG', 'KREMSMUENSTER (TAWES)', 'FEUERKOGEL', 'LOIBL/TUNNEL', 'REISSECK', 'LAAS', 'ST.PAUL/LAVANTTAL', 'ST.LEONHARD/PITZTAL', 'RATTENBERG/RADFELD', 'KIRCHBICHL', 'SONNBLICK (TAWES)', 'GARS/KAMP', 'HITTISAU', 'KAPFENBERG-FLUGFELD', 'ANDAU', 'KARLSTIFT/STADLBERG', 'RV15 SKJAERINGSDALEN', 'HOLLER', 'LUXEMBOURG_A', 'PSZCZYNA', 'JASTRZEBIE-ZDROJ', 'MIEDZYBRODZIE BIALSKIE', 'MAKOW PODHALANSKI', 'ZAWOJA', 'JABLONKA', 'POLANA CHOCHOLOWSKA', 'JODLOWNIK', 'LIMANOWA', 'LACKO', 'LOPUSZNA', 'MIZERNA', 'BUKOWINA TATRZANSKA', 'HALA GASIENICOWA', 'DOLINA PIECIU STAWOW', 'MORSKIE OKO', 'MSZANA DOLNA', 'ROZNOW', 'BOCHNIA', 'BIECZ-GRUDNA', 'WYSOWA', 'BARWINEK', 'ZARNOWA', 'DYNOW', 'SANOK-TREPCZA', 'KOMANCZA', 'ZADABROWIE', 'KARPACZ', 'SLOSZOW', 'PRUDNIK', 'STARE OLESNO', 'LUBLINIEC', 'SILNICZKA', 'LGOTA GORNA', 'OLEWIN', 'OLKUSZ', 'SKRONIOW', 'SIELEC', 'BORUSOWA', 'IGOLOMIA', 'STASZOW', 'CHORZELOW', 'ZAWADA', 'CHMIELOW', 'TARNOGROD', 'OZANSK', 'LEZAJSK', 'TOMASZOW LUBELSKI', 'LUBACZOW', 'CHWALKOWICE', 'WITASZYCE', 'SMOLICE', 'GRABOWNICA', 'NAMYSLOW', 'JELCZ-LASKOWICE', 'SIERADZ', 'PUCZNIEW', 'BELCHATOW', 'LAZISKA', 'FELIN', 'NOWA WIES', 'RADZYN PODLASKI', 'KRASNYSTAW', 'KRZYZ', 'GORZYN', 'LUBINICKO-SWIEBODZIN', 'TRZEBIECHOW', 'SULECIN', 'SZAMOTULY-BABOROWKO', 'PAPROC', 'WIELICHOWO', 'GNIEZNO', 'SLUPCA', 'KORNIK', 'KOLUDA WIELKA', 'CIECHOCINEK', 'POSWIETNE', 'LEGIONOWO', 'WARSZAWA-BIELANY', 'WARSZAWA-FILTRY', 'WARSZAWA-BABICE', 'NIEPOKALANOW', 'PULTUSK', 'SZEPIETOWO', 'BIALA PODLASKA', 'BIELSK PODLASKI', 'PRZELEWICE', 'REDLO', 'WIERZCHOWO', 'POLCZYN-ZDROJ', 'RADOSTOWO', 'SLIWICE', 'DOBROCIN', 'PRZASNYSZ', 'BISKUPIEC', 'SZCZYTNO', 'ZAWODZIE', 'SZCZUCZYN', 'ROZANYSTOK', 'DZIWNOW', 'MIASTKO', 'ROZEWIE', 'GDANSK-SWIBNO', 'LISEWO', 'KMIECIN', 'LIDZBARK WARMINSKI', 'GIZYCKO', 'KASPROWY WIERCH', 'PRZEMYSL', 'JELENIA GORA', 'SNIEZKA', 'OPOLE', 'CZOSTOCHOWA', 'KATOWICE-MUCHOWIEC', 'KRAKOW-BALICE', 'TARNOW', 'SANDOMIERZ', 'ZAMOSC', 'ZGORZELEC', 'LEGNICA', 'LUBLIN-RADAWIEC', 'KOLO', 'PLOCK', 'RESKO-SMOLSKO', 'SZCZECINEK', 'BYDGOSZCZ', 'MIKOLAJKI', 'OSTROLEKA', 'KOLOBRZEG-DZWIRZYNO', 'USTKA', 'LEBORK', 'GDANSK-REBIECHOWO_OLD', 'ELBLAG-MILEJEWO', 'KROSNO', 'YLJA KRAFTVERK']\n"
     ]
    }
   ],
   "source": [
    "stations = []\n",
    "for i in range(len(df1)):\n",
    "    stations.append(df1['STANAME                                 '][i].strip(\" \"))\n",
    "    \n",
    "print(stations)"
   ]
  },
  {
   "cell_type": "code",
   "execution_count": 36,
   "id": "6fe69c0d",
   "metadata": {},
   "outputs": [
    {
     "data": {
      "text/html": [
       "<div>\n",
       "<style scoped>\n",
       "    .dataframe tbody tr th:only-of-type {\n",
       "        vertical-align: middle;\n",
       "    }\n",
       "\n",
       "    .dataframe tbody tr th {\n",
       "        vertical-align: top;\n",
       "    }\n",
       "\n",
       "    .dataframe thead th {\n",
       "        text-align: right;\n",
       "    }\n",
       "</style>\n",
       "<table border=\"1\" class=\"dataframe\">\n",
       "  <thead>\n",
       "    <tr style=\"text-align: right;\">\n",
       "      <th></th>\n",
       "      <th>STAID</th>\n",
       "      <th>STANAME</th>\n",
       "      <th>CN</th>\n",
       "      <th>LAT</th>\n",
       "      <th>LON</th>\n",
       "      <th>HGHT</th>\n",
       "    </tr>\n",
       "  </thead>\n",
       "  <tbody>\n",
       "    <tr>\n",
       "      <th>1</th>\n",
       "      <td>2</td>\n",
       "      <td>FALUN</td>\n",
       "      <td>SE</td>\n",
       "      <td>+60:37:00</td>\n",
       "      <td>+015:37:00</td>\n",
       "      <td>160</td>\n",
       "    </tr>\n",
       "  </tbody>\n",
       "</table>\n",
       "</div>"
      ],
      "text/plain": [
       "   STAID  STANAME                                   CN        LAT         LON  \\\n",
       "1      2  FALUN                                     SE  +60:37:00  +015:37:00   \n",
       "\n",
       "   HGHT  \n",
       "1   160  "
      ]
     },
     "execution_count": 36,
     "metadata": {},
     "output_type": "execute_result"
    }
   ],
   "source": [
    "df1.loc[df1['STAID'] == 2]"
   ]
  },
  {
   "cell_type": "code",
   "execution_count": null,
   "id": "8baa342d",
   "metadata": {},
   "outputs": [],
   "source": []
  }
 ],
 "metadata": {
  "kernelspec": {
   "display_name": "Python 3",
   "language": "python",
   "name": "python3"
  },
  "language_info": {
   "codemirror_mode": {
    "name": "ipython",
    "version": 3
   },
   "file_extension": ".py",
   "mimetype": "text/x-python",
   "name": "python",
   "nbconvert_exporter": "python",
   "pygments_lexer": "ipython3",
   "version": "3.6.7"
  }
 },
 "nbformat": 4,
 "nbformat_minor": 5
}
